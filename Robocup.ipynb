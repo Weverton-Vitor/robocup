{
  "cells": [
    {
      "cell_type": "markdown",
      "metadata": {
        "id": "bdeWF9k0L2YT"
      },
      "source": [
        "# Machine Learning e RoboCup\n"
      ]
    },
    {
      "cell_type": "markdown",
      "metadata": {
        "id": "hfYbHgghOW5g"
      },
      "source": [
        "# Importação das bibliotecas"
      ]
    },
    {
      "cell_type": "code",
      "execution_count": 14,
      "metadata": {
        "id": "IyRCfZ_fhLef"
      },
      "outputs": [],
      "source": [
        "!pip -q install plotly --upgrade"
      ]
    },
    {
      "cell_type": "code",
      "execution_count": 15,
      "metadata": {
        "id": "WOUlbp8VUhTT"
      },
      "outputs": [],
      "source": [
        "!pip -q install yellowbrick"
      ]
    },
    {
      "cell_type": "code",
      "execution_count": 16,
      "metadata": {
        "id": "nVP1Ah9dhd1F"
      },
      "outputs": [],
      "source": [
        "import pandas as pd\n",
        "import numpy as np\n",
        "import seaborn as sns\n",
        "import matplotlib.pyplot as plt\n",
        "import plotly.express as px\n",
        "from sklearn.metrics import accuracy_score, classification_report\n",
        "from yellowbrick.classifier import ConfusionMatrix"
      ]
    },
    {
      "cell_type": "markdown",
      "metadata": {
        "id": "oCVRZFuyXPR9"
      },
      "source": [
        "### Exploração dos dados"
      ]
    },
    {
      "cell_type": "code",
      "execution_count": 17,
      "metadata": {
        "id": "3PkyBwG_jPVQ"
      },
      "outputs": [
        {
          "ename": "FileNotFoundError",
          "evalue": "[Errno 2] No such file or directory: '/.data.csv'",
          "output_type": "error",
          "traceback": [
            "\u001b[0;31m---------------------------------------------------------------------------\u001b[0m",
            "\u001b[0;31mFileNotFoundError\u001b[0m                         Traceback (most recent call last)",
            "\u001b[1;32m/media/weverton/D/Dev/pythonDev/Data Science and ML/robocup/Robocup.ipynb Cell 7\u001b[0m line \u001b[0;36m1\n\u001b[0;32m----> <a href='vscode-notebook-cell:/media/weverton/D/Dev/pythonDev/Data%20Science%20and%20ML/robocup/Robocup.ipynb#W6sZmlsZQ%3D%3D?line=0'>1</a>\u001b[0m base_robocup \u001b[39m=\u001b[39m pd\u001b[39m.\u001b[39mread_csv(\u001b[39m'\u001b[39m\u001b[39m/.data.csv\u001b[39m\u001b[39m'\u001b[39m)\n",
            "File \u001b[0;32m~/anaconda3/lib/python3.11/site-packages/pandas/io/parsers/readers.py:912\u001b[0m, in \u001b[0;36mread_csv\u001b[0;34m(filepath_or_buffer, sep, delimiter, header, names, index_col, usecols, dtype, engine, converters, true_values, false_values, skipinitialspace, skiprows, skipfooter, nrows, na_values, keep_default_na, na_filter, verbose, skip_blank_lines, parse_dates, infer_datetime_format, keep_date_col, date_parser, date_format, dayfirst, cache_dates, iterator, chunksize, compression, thousands, decimal, lineterminator, quotechar, quoting, doublequote, escapechar, comment, encoding, encoding_errors, dialect, on_bad_lines, delim_whitespace, low_memory, memory_map, float_precision, storage_options, dtype_backend)\u001b[0m\n\u001b[1;32m    899\u001b[0m kwds_defaults \u001b[39m=\u001b[39m _refine_defaults_read(\n\u001b[1;32m    900\u001b[0m     dialect,\n\u001b[1;32m    901\u001b[0m     delimiter,\n\u001b[0;32m   (...)\u001b[0m\n\u001b[1;32m    908\u001b[0m     dtype_backend\u001b[39m=\u001b[39mdtype_backend,\n\u001b[1;32m    909\u001b[0m )\n\u001b[1;32m    910\u001b[0m kwds\u001b[39m.\u001b[39mupdate(kwds_defaults)\n\u001b[0;32m--> 912\u001b[0m \u001b[39mreturn\u001b[39;00m _read(filepath_or_buffer, kwds)\n",
            "File \u001b[0;32m~/anaconda3/lib/python3.11/site-packages/pandas/io/parsers/readers.py:577\u001b[0m, in \u001b[0;36m_read\u001b[0;34m(filepath_or_buffer, kwds)\u001b[0m\n\u001b[1;32m    574\u001b[0m _validate_names(kwds\u001b[39m.\u001b[39mget(\u001b[39m\"\u001b[39m\u001b[39mnames\u001b[39m\u001b[39m\"\u001b[39m, \u001b[39mNone\u001b[39;00m))\n\u001b[1;32m    576\u001b[0m \u001b[39m# Create the parser.\u001b[39;00m\n\u001b[0;32m--> 577\u001b[0m parser \u001b[39m=\u001b[39m TextFileReader(filepath_or_buffer, \u001b[39m*\u001b[39m\u001b[39m*\u001b[39mkwds)\n\u001b[1;32m    579\u001b[0m \u001b[39mif\u001b[39;00m chunksize \u001b[39mor\u001b[39;00m iterator:\n\u001b[1;32m    580\u001b[0m     \u001b[39mreturn\u001b[39;00m parser\n",
            "File \u001b[0;32m~/anaconda3/lib/python3.11/site-packages/pandas/io/parsers/readers.py:1407\u001b[0m, in \u001b[0;36mTextFileReader.__init__\u001b[0;34m(self, f, engine, **kwds)\u001b[0m\n\u001b[1;32m   1404\u001b[0m     \u001b[39mself\u001b[39m\u001b[39m.\u001b[39moptions[\u001b[39m\"\u001b[39m\u001b[39mhas_index_names\u001b[39m\u001b[39m\"\u001b[39m] \u001b[39m=\u001b[39m kwds[\u001b[39m\"\u001b[39m\u001b[39mhas_index_names\u001b[39m\u001b[39m\"\u001b[39m]\n\u001b[1;32m   1406\u001b[0m \u001b[39mself\u001b[39m\u001b[39m.\u001b[39mhandles: IOHandles \u001b[39m|\u001b[39m \u001b[39mNone\u001b[39;00m \u001b[39m=\u001b[39m \u001b[39mNone\u001b[39;00m\n\u001b[0;32m-> 1407\u001b[0m \u001b[39mself\u001b[39m\u001b[39m.\u001b[39m_engine \u001b[39m=\u001b[39m \u001b[39mself\u001b[39m\u001b[39m.\u001b[39m_make_engine(f, \u001b[39mself\u001b[39m\u001b[39m.\u001b[39mengine)\n",
            "File \u001b[0;32m~/anaconda3/lib/python3.11/site-packages/pandas/io/parsers/readers.py:1661\u001b[0m, in \u001b[0;36mTextFileReader._make_engine\u001b[0;34m(self, f, engine)\u001b[0m\n\u001b[1;32m   1659\u001b[0m     \u001b[39mif\u001b[39;00m \u001b[39m\"\u001b[39m\u001b[39mb\u001b[39m\u001b[39m\"\u001b[39m \u001b[39mnot\u001b[39;00m \u001b[39min\u001b[39;00m mode:\n\u001b[1;32m   1660\u001b[0m         mode \u001b[39m+\u001b[39m\u001b[39m=\u001b[39m \u001b[39m\"\u001b[39m\u001b[39mb\u001b[39m\u001b[39m\"\u001b[39m\n\u001b[0;32m-> 1661\u001b[0m \u001b[39mself\u001b[39m\u001b[39m.\u001b[39mhandles \u001b[39m=\u001b[39m get_handle(\n\u001b[1;32m   1662\u001b[0m     f,\n\u001b[1;32m   1663\u001b[0m     mode,\n\u001b[1;32m   1664\u001b[0m     encoding\u001b[39m=\u001b[39m\u001b[39mself\u001b[39m\u001b[39m.\u001b[39moptions\u001b[39m.\u001b[39mget(\u001b[39m\"\u001b[39m\u001b[39mencoding\u001b[39m\u001b[39m\"\u001b[39m, \u001b[39mNone\u001b[39;00m),\n\u001b[1;32m   1665\u001b[0m     compression\u001b[39m=\u001b[39m\u001b[39mself\u001b[39m\u001b[39m.\u001b[39moptions\u001b[39m.\u001b[39mget(\u001b[39m\"\u001b[39m\u001b[39mcompression\u001b[39m\u001b[39m\"\u001b[39m, \u001b[39mNone\u001b[39;00m),\n\u001b[1;32m   1666\u001b[0m     memory_map\u001b[39m=\u001b[39m\u001b[39mself\u001b[39m\u001b[39m.\u001b[39moptions\u001b[39m.\u001b[39mget(\u001b[39m\"\u001b[39m\u001b[39mmemory_map\u001b[39m\u001b[39m\"\u001b[39m, \u001b[39mFalse\u001b[39;00m),\n\u001b[1;32m   1667\u001b[0m     is_text\u001b[39m=\u001b[39mis_text,\n\u001b[1;32m   1668\u001b[0m     errors\u001b[39m=\u001b[39m\u001b[39mself\u001b[39m\u001b[39m.\u001b[39moptions\u001b[39m.\u001b[39mget(\u001b[39m\"\u001b[39m\u001b[39mencoding_errors\u001b[39m\u001b[39m\"\u001b[39m, \u001b[39m\"\u001b[39m\u001b[39mstrict\u001b[39m\u001b[39m\"\u001b[39m),\n\u001b[1;32m   1669\u001b[0m     storage_options\u001b[39m=\u001b[39m\u001b[39mself\u001b[39m\u001b[39m.\u001b[39moptions\u001b[39m.\u001b[39mget(\u001b[39m\"\u001b[39m\u001b[39mstorage_options\u001b[39m\u001b[39m\"\u001b[39m, \u001b[39mNone\u001b[39;00m),\n\u001b[1;32m   1670\u001b[0m )\n\u001b[1;32m   1671\u001b[0m \u001b[39massert\u001b[39;00m \u001b[39mself\u001b[39m\u001b[39m.\u001b[39mhandles \u001b[39mis\u001b[39;00m \u001b[39mnot\u001b[39;00m \u001b[39mNone\u001b[39;00m\n\u001b[1;32m   1672\u001b[0m f \u001b[39m=\u001b[39m \u001b[39mself\u001b[39m\u001b[39m.\u001b[39mhandles\u001b[39m.\u001b[39mhandle\n",
            "File \u001b[0;32m~/anaconda3/lib/python3.11/site-packages/pandas/io/common.py:859\u001b[0m, in \u001b[0;36mget_handle\u001b[0;34m(path_or_buf, mode, encoding, compression, memory_map, is_text, errors, storage_options)\u001b[0m\n\u001b[1;32m    854\u001b[0m \u001b[39melif\u001b[39;00m \u001b[39misinstance\u001b[39m(handle, \u001b[39mstr\u001b[39m):\n\u001b[1;32m    855\u001b[0m     \u001b[39m# Check whether the filename is to be opened in binary mode.\u001b[39;00m\n\u001b[1;32m    856\u001b[0m     \u001b[39m# Binary mode does not support 'encoding' and 'newline'.\u001b[39;00m\n\u001b[1;32m    857\u001b[0m     \u001b[39mif\u001b[39;00m ioargs\u001b[39m.\u001b[39mencoding \u001b[39mand\u001b[39;00m \u001b[39m\"\u001b[39m\u001b[39mb\u001b[39m\u001b[39m\"\u001b[39m \u001b[39mnot\u001b[39;00m \u001b[39min\u001b[39;00m ioargs\u001b[39m.\u001b[39mmode:\n\u001b[1;32m    858\u001b[0m         \u001b[39m# Encoding\u001b[39;00m\n\u001b[0;32m--> 859\u001b[0m         handle \u001b[39m=\u001b[39m \u001b[39mopen\u001b[39m(\n\u001b[1;32m    860\u001b[0m             handle,\n\u001b[1;32m    861\u001b[0m             ioargs\u001b[39m.\u001b[39mmode,\n\u001b[1;32m    862\u001b[0m             encoding\u001b[39m=\u001b[39mioargs\u001b[39m.\u001b[39mencoding,\n\u001b[1;32m    863\u001b[0m             errors\u001b[39m=\u001b[39merrors,\n\u001b[1;32m    864\u001b[0m             newline\u001b[39m=\u001b[39m\u001b[39m\"\u001b[39m\u001b[39m\"\u001b[39m,\n\u001b[1;32m    865\u001b[0m         )\n\u001b[1;32m    866\u001b[0m     \u001b[39melse\u001b[39;00m:\n\u001b[1;32m    867\u001b[0m         \u001b[39m# Binary mode\u001b[39;00m\n\u001b[1;32m    868\u001b[0m         handle \u001b[39m=\u001b[39m \u001b[39mopen\u001b[39m(handle, ioargs\u001b[39m.\u001b[39mmode)\n",
            "\u001b[0;31mFileNotFoundError\u001b[0m: [Errno 2] No such file or directory: '/.data.csv'"
          ]
        }
      ],
      "source": [
        "base_robocup = pd.read_csv('./data.csv')"
      ]
    },
    {
      "cell_type": "code",
      "execution_count": null,
      "metadata": {
        "colab": {
          "base_uri": "https://localhost:8080/",
          "height": 443
        },
        "id": "BGT1Pt5UjuNG",
        "outputId": "8bb30f88-a660-41ac-d299-98828d9f4f04"
      },
      "outputs": [
        {
          "data": {
            "text/html": [
              "\n",
              "  <div id=\"df-44987ff7-c1c2-4805-a7cc-f080bceb7a90\" class=\"colab-df-container\">\n",
              "    <div>\n",
              "<style scoped>\n",
              "    .dataframe tbody tr th:only-of-type {\n",
              "        vertical-align: middle;\n",
              "    }\n",
              "\n",
              "    .dataframe tbody tr th {\n",
              "        vertical-align: top;\n",
              "    }\n",
              "\n",
              "    .dataframe thead th {\n",
              "        text-align: right;\n",
              "    }\n",
              "</style>\n",
              "<table border=\"1\" class=\"dataframe\">\n",
              "  <thead>\n",
              "    <tr style=\"text-align: right;\">\n",
              "      <th></th>\n",
              "      <th>distancia_do_gol</th>\n",
              "      <th>oponentes_no_campo_de_visao</th>\n",
              "      <th>companheiros_no_campo_de_visao</th>\n",
              "      <th>stamina</th>\n",
              "      <th>forca_do_Chute</th>\n",
              "      <th>chute_direcao</th>\n",
              "      <th>gol</th>\n",
              "    </tr>\n",
              "  </thead>\n",
              "  <tbody>\n",
              "    <tr>\n",
              "      <th>0</th>\n",
              "      <td>5</td>\n",
              "      <td>1</td>\n",
              "      <td>3</td>\n",
              "      <td>80</td>\n",
              "      <td>65</td>\n",
              "      <td>C</td>\n",
              "      <td>0</td>\n",
              "    </tr>\n",
              "    <tr>\n",
              "      <th>1</th>\n",
              "      <td>8</td>\n",
              "      <td>2</td>\n",
              "      <td>2</td>\n",
              "      <td>75</td>\n",
              "      <td>70</td>\n",
              "      <td>E</td>\n",
              "      <td>0</td>\n",
              "    </tr>\n",
              "    <tr>\n",
              "      <th>2</th>\n",
              "      <td>10</td>\n",
              "      <td>4</td>\n",
              "      <td>3</td>\n",
              "      <td>70</td>\n",
              "      <td>62</td>\n",
              "      <td>D</td>\n",
              "      <td>0</td>\n",
              "    </tr>\n",
              "    <tr>\n",
              "      <th>3</th>\n",
              "      <td>4</td>\n",
              "      <td>1</td>\n",
              "      <td>2</td>\n",
              "      <td>85</td>\n",
              "      <td>58</td>\n",
              "      <td>C</td>\n",
              "      <td>0</td>\n",
              "    </tr>\n",
              "    <tr>\n",
              "      <th>4</th>\n",
              "      <td>12</td>\n",
              "      <td>3</td>\n",
              "      <td>4</td>\n",
              "      <td>90</td>\n",
              "      <td>70</td>\n",
              "      <td>D</td>\n",
              "      <td>1</td>\n",
              "    </tr>\n",
              "    <tr>\n",
              "      <th>...</th>\n",
              "      <td>...</td>\n",
              "      <td>...</td>\n",
              "      <td>...</td>\n",
              "      <td>...</td>\n",
              "      <td>...</td>\n",
              "      <td>...</td>\n",
              "      <td>...</td>\n",
              "    </tr>\n",
              "    <tr>\n",
              "      <th>374</th>\n",
              "      <td>7</td>\n",
              "      <td>0</td>\n",
              "      <td>3</td>\n",
              "      <td>77</td>\n",
              "      <td>69</td>\n",
              "      <td>D</td>\n",
              "      <td>0</td>\n",
              "    </tr>\n",
              "    <tr>\n",
              "      <th>375</th>\n",
              "      <td>9</td>\n",
              "      <td>2</td>\n",
              "      <td>3</td>\n",
              "      <td>86</td>\n",
              "      <td>71</td>\n",
              "      <td>E</td>\n",
              "      <td>1</td>\n",
              "    </tr>\n",
              "    <tr>\n",
              "      <th>376</th>\n",
              "      <td>6</td>\n",
              "      <td>1</td>\n",
              "      <td>2</td>\n",
              "      <td>75</td>\n",
              "      <td>68</td>\n",
              "      <td>D</td>\n",
              "      <td>0</td>\n",
              "    </tr>\n",
              "    <tr>\n",
              "      <th>377</th>\n",
              "      <td>11</td>\n",
              "      <td>2</td>\n",
              "      <td>1</td>\n",
              "      <td>70</td>\n",
              "      <td>63</td>\n",
              "      <td>D</td>\n",
              "      <td>0</td>\n",
              "    </tr>\n",
              "    <tr>\n",
              "      <th>378</th>\n",
              "      <td>5</td>\n",
              "      <td>3</td>\n",
              "      <td>3</td>\n",
              "      <td>81</td>\n",
              "      <td>68</td>\n",
              "      <td>E</td>\n",
              "      <td>0</td>\n",
              "    </tr>\n",
              "  </tbody>\n",
              "</table>\n",
              "<p>379 rows × 7 columns</p>\n",
              "</div>\n",
              "    <div class=\"colab-df-buttons\">\n",
              "\n",
              "  <div class=\"colab-df-container\">\n",
              "    <button class=\"colab-df-convert\" onclick=\"convertToInteractive('df-44987ff7-c1c2-4805-a7cc-f080bceb7a90')\"\n",
              "            title=\"Convert this dataframe to an interactive table.\"\n",
              "            style=\"display:none;\">\n",
              "\n",
              "  <svg xmlns=\"http://www.w3.org/2000/svg\" height=\"24px\" viewBox=\"0 -960 960 960\">\n",
              "    <path d=\"M120-120v-720h720v720H120Zm60-500h600v-160H180v160Zm220 220h160v-160H400v160Zm0 220h160v-160H400v160ZM180-400h160v-160H180v160Zm440 0h160v-160H620v160ZM180-180h160v-160H180v160Zm440 0h160v-160H620v160Z\"/>\n",
              "  </svg>\n",
              "    </button>\n",
              "\n",
              "  <style>\n",
              "    .colab-df-container {\n",
              "      display:flex;\n",
              "      gap: 12px;\n",
              "    }\n",
              "\n",
              "    .colab-df-convert {\n",
              "      background-color: #E8F0FE;\n",
              "      border: none;\n",
              "      border-radius: 50%;\n",
              "      cursor: pointer;\n",
              "      display: none;\n",
              "      fill: #1967D2;\n",
              "      height: 32px;\n",
              "      padding: 0 0 0 0;\n",
              "      width: 32px;\n",
              "    }\n",
              "\n",
              "    .colab-df-convert:hover {\n",
              "      background-color: #E2EBFA;\n",
              "      box-shadow: 0px 1px 2px rgba(60, 64, 67, 0.3), 0px 1px 3px 1px rgba(60, 64, 67, 0.15);\n",
              "      fill: #174EA6;\n",
              "    }\n",
              "\n",
              "    .colab-df-buttons div {\n",
              "      margin-bottom: 4px;\n",
              "    }\n",
              "\n",
              "    [theme=dark] .colab-df-convert {\n",
              "      background-color: #3B4455;\n",
              "      fill: #D2E3FC;\n",
              "    }\n",
              "\n",
              "    [theme=dark] .colab-df-convert:hover {\n",
              "      background-color: #434B5C;\n",
              "      box-shadow: 0px 1px 3px 1px rgba(0, 0, 0, 0.15);\n",
              "      filter: drop-shadow(0px 1px 2px rgba(0, 0, 0, 0.3));\n",
              "      fill: #FFFFFF;\n",
              "    }\n",
              "  </style>\n",
              "\n",
              "    <script>\n",
              "      const buttonEl =\n",
              "        document.querySelector('#df-44987ff7-c1c2-4805-a7cc-f080bceb7a90 button.colab-df-convert');\n",
              "      buttonEl.style.display =\n",
              "        google.colab.kernel.accessAllowed ? 'block' : 'none';\n",
              "\n",
              "      async function convertToInteractive(key) {\n",
              "        const element = document.querySelector('#df-44987ff7-c1c2-4805-a7cc-f080bceb7a90');\n",
              "        const dataTable =\n",
              "          await google.colab.kernel.invokeFunction('convertToInteractive',\n",
              "                                                    [key], {});\n",
              "        if (!dataTable) return;\n",
              "\n",
              "        const docLinkHtml = 'Like what you see? Visit the ' +\n",
              "          '<a target=\"_blank\" href=https://colab.research.google.com/notebooks/data_table.ipynb>data table notebook</a>'\n",
              "          + ' to learn more about interactive tables.';\n",
              "        element.innerHTML = '';\n",
              "        dataTable['output_type'] = 'display_data';\n",
              "        await google.colab.output.renderOutput(dataTable, element);\n",
              "        const docLink = document.createElement('div');\n",
              "        docLink.innerHTML = docLinkHtml;\n",
              "        element.appendChild(docLink);\n",
              "      }\n",
              "    </script>\n",
              "  </div>\n",
              "\n",
              "\n",
              "<div id=\"df-63ee0b0a-42ed-4d14-9204-e6adbb9a6dcd\">\n",
              "  <button class=\"colab-df-quickchart\" onclick=\"quickchart('df-63ee0b0a-42ed-4d14-9204-e6adbb9a6dcd')\"\n",
              "            title=\"Suggest charts\"\n",
              "            style=\"display:none;\">\n",
              "\n",
              "<svg xmlns=\"http://www.w3.org/2000/svg\" height=\"24px\"viewBox=\"0 0 24 24\"\n",
              "     width=\"24px\">\n",
              "    <g>\n",
              "        <path d=\"M19 3H5c-1.1 0-2 .9-2 2v14c0 1.1.9 2 2 2h14c1.1 0 2-.9 2-2V5c0-1.1-.9-2-2-2zM9 17H7v-7h2v7zm4 0h-2V7h2v10zm4 0h-2v-4h2v4z\"/>\n",
              "    </g>\n",
              "</svg>\n",
              "  </button>\n",
              "\n",
              "<style>\n",
              "  .colab-df-quickchart {\n",
              "      --bg-color: #E8F0FE;\n",
              "      --fill-color: #1967D2;\n",
              "      --hover-bg-color: #E2EBFA;\n",
              "      --hover-fill-color: #174EA6;\n",
              "      --disabled-fill-color: #AAA;\n",
              "      --disabled-bg-color: #DDD;\n",
              "  }\n",
              "\n",
              "  [theme=dark] .colab-df-quickchart {\n",
              "      --bg-color: #3B4455;\n",
              "      --fill-color: #D2E3FC;\n",
              "      --hover-bg-color: #434B5C;\n",
              "      --hover-fill-color: #FFFFFF;\n",
              "      --disabled-bg-color: #3B4455;\n",
              "      --disabled-fill-color: #666;\n",
              "  }\n",
              "\n",
              "  .colab-df-quickchart {\n",
              "    background-color: var(--bg-color);\n",
              "    border: none;\n",
              "    border-radius: 50%;\n",
              "    cursor: pointer;\n",
              "    display: none;\n",
              "    fill: var(--fill-color);\n",
              "    height: 32px;\n",
              "    padding: 0;\n",
              "    width: 32px;\n",
              "  }\n",
              "\n",
              "  .colab-df-quickchart:hover {\n",
              "    background-color: var(--hover-bg-color);\n",
              "    box-shadow: 0 1px 2px rgba(60, 64, 67, 0.3), 0 1px 3px 1px rgba(60, 64, 67, 0.15);\n",
              "    fill: var(--button-hover-fill-color);\n",
              "  }\n",
              "\n",
              "  .colab-df-quickchart-complete:disabled,\n",
              "  .colab-df-quickchart-complete:disabled:hover {\n",
              "    background-color: var(--disabled-bg-color);\n",
              "    fill: var(--disabled-fill-color);\n",
              "    box-shadow: none;\n",
              "  }\n",
              "\n",
              "  .colab-df-spinner {\n",
              "    border: 2px solid var(--fill-color);\n",
              "    border-color: transparent;\n",
              "    border-bottom-color: var(--fill-color);\n",
              "    animation:\n",
              "      spin 1s steps(1) infinite;\n",
              "  }\n",
              "\n",
              "  @keyframes spin {\n",
              "    0% {\n",
              "      border-color: transparent;\n",
              "      border-bottom-color: var(--fill-color);\n",
              "      border-left-color: var(--fill-color);\n",
              "    }\n",
              "    20% {\n",
              "      border-color: transparent;\n",
              "      border-left-color: var(--fill-color);\n",
              "      border-top-color: var(--fill-color);\n",
              "    }\n",
              "    30% {\n",
              "      border-color: transparent;\n",
              "      border-left-color: var(--fill-color);\n",
              "      border-top-color: var(--fill-color);\n",
              "      border-right-color: var(--fill-color);\n",
              "    }\n",
              "    40% {\n",
              "      border-color: transparent;\n",
              "      border-right-color: var(--fill-color);\n",
              "      border-top-color: var(--fill-color);\n",
              "    }\n",
              "    60% {\n",
              "      border-color: transparent;\n",
              "      border-right-color: var(--fill-color);\n",
              "    }\n",
              "    80% {\n",
              "      border-color: transparent;\n",
              "      border-right-color: var(--fill-color);\n",
              "      border-bottom-color: var(--fill-color);\n",
              "    }\n",
              "    90% {\n",
              "      border-color: transparent;\n",
              "      border-bottom-color: var(--fill-color);\n",
              "    }\n",
              "  }\n",
              "</style>\n",
              "\n",
              "  <script>\n",
              "    async function quickchart(key) {\n",
              "      const quickchartButtonEl =\n",
              "        document.querySelector('#' + key + ' button');\n",
              "      quickchartButtonEl.disabled = true;  // To prevent multiple clicks.\n",
              "      quickchartButtonEl.classList.add('colab-df-spinner');\n",
              "      try {\n",
              "        const charts = await google.colab.kernel.invokeFunction(\n",
              "            'suggestCharts', [key], {});\n",
              "      } catch (error) {\n",
              "        console.error('Error during call to suggestCharts:', error);\n",
              "      }\n",
              "      quickchartButtonEl.classList.remove('colab-df-spinner');\n",
              "      quickchartButtonEl.classList.add('colab-df-quickchart-complete');\n",
              "    }\n",
              "    (() => {\n",
              "      let quickchartButtonEl =\n",
              "        document.querySelector('#df-63ee0b0a-42ed-4d14-9204-e6adbb9a6dcd button');\n",
              "      quickchartButtonEl.style.display =\n",
              "        google.colab.kernel.accessAllowed ? 'block' : 'none';\n",
              "    })();\n",
              "  </script>\n",
              "</div>\n",
              "    </div>\n",
              "  </div>\n"
            ],
            "text/plain": [
              "     distancia_do_gol  oponentes_no_campo_de_visao  \\\n",
              "0                   5                            1   \n",
              "1                   8                            2   \n",
              "2                  10                            4   \n",
              "3                   4                            1   \n",
              "4                  12                            3   \n",
              "..                ...                          ...   \n",
              "374                 7                            0   \n",
              "375                 9                            2   \n",
              "376                 6                            1   \n",
              "377                11                            2   \n",
              "378                 5                            3   \n",
              "\n",
              "     companheiros_no_campo_de_visao  stamina  forca_do_Chute chute_direcao  \\\n",
              "0                                 3       80              65             C   \n",
              "1                                 2       75              70             E   \n",
              "2                                 3       70              62             D   \n",
              "3                                 2       85              58             C   \n",
              "4                                 4       90              70             D   \n",
              "..                              ...      ...             ...           ...   \n",
              "374                               3       77              69             D   \n",
              "375                               3       86              71             E   \n",
              "376                               2       75              68             D   \n",
              "377                               1       70              63             D   \n",
              "378                               3       81              68             E   \n",
              "\n",
              "     gol  \n",
              "0      0  \n",
              "1      0  \n",
              "2      0  \n",
              "3      0  \n",
              "4      1  \n",
              "..   ...  \n",
              "374    0  \n",
              "375    1  \n",
              "376    0  \n",
              "377    0  \n",
              "378    0  \n",
              "\n",
              "[379 rows x 7 columns]"
            ]
          },
          "execution_count": 32,
          "metadata": {},
          "output_type": "execute_result"
        }
      ],
      "source": [
        "base_robocup"
      ]
    },
    {
      "cell_type": "markdown",
      "metadata": {
        "id": "x23iAAKsQ-iU"
      },
      "source": [
        "### Visualizando os dados"
      ]
    },
    {
      "cell_type": "code",
      "execution_count": null,
      "metadata": {
        "colab": {
          "base_uri": "https://localhost:8080/"
        },
        "id": "doutRvJ8pGOy",
        "outputId": "d29ffb05-9629-4f97-b8bd-0fd199c02173"
      },
      "outputs": [
        {
          "data": {
            "text/plain": [
              "(array([0, 1]), array([278, 101]))"
            ]
          },
          "execution_count": 33,
          "metadata": {},
          "output_type": "execute_result"
        }
      ],
      "source": [
        "np.unique(base_robocup['gol'], return_counts=True)"
      ]
    },
    {
      "cell_type": "code",
      "execution_count": null,
      "metadata": {
        "colab": {
          "base_uri": "https://localhost:8080/"
        },
        "id": "XXQBO5VZpfVa",
        "outputId": "47d211f7-a6e7-44f6-943d-083f676701c1"
      },
      "outputs": [
        {
          "data": {
            "image/png": "[encoded data removed]",
            "text/plain": [
              "<Figure size 800x550 with 1 Axes>"
            ]
          },
          "metadata": {},
          "output_type": "display_data"
        }
      ],
      "source": [
        "sns.countplot(x=base_robocup['gol']);"
      ]
    },
    {
      "cell_type": "code",
      "execution_count": null,
      "metadata": {
        "colab": {
          "base_uri": "https://localhost:8080/"
        },
        "id": "1f5YJJv8pssr",
        "outputId": "7a12f716-0c33-4a1c-c664-0152848aaed2"
      },
      "outputs": [
        {
          "data": {
            "image/png": "[encoded data removed]",
            "text/plain": [
              "<Figure size 800x550 with 1 Axes>"
            ]
          },
          "metadata": {},
          "output_type": "display_data"
        }
      ],
      "source": [
        "plt.hist(x = base_robocup['distancia_do_gol']);"
      ]
    },
    {
      "cell_type": "code",
      "execution_count": null,
      "metadata": {
        "colab": {
          "base_uri": "https://localhost:8080/"
        },
        "id": "yE8db9FxqrmQ",
        "outputId": "020c5456-93c0-43fb-a4ae-b893fc295d9f"
      },
      "outputs": [
        {
          "data": {
            "text/html": [
              "<html>\n",
              "<head><meta charset=\"utf-8\" /></head>\n",
              "<body>\n",
              "    <div>            <script src=\"https://cdnjs.cloudflare.com/ajax/libs/mathjax/2.7.5/MathJax.js?config=TeX-AMS-MML_SVG\"></script><script type=\"text/javascript\">if (window.MathJax && window.MathJax.Hub && window.MathJax.Hub.Config) {window.MathJax.Hub.Config({SVG: {font: \"STIX-Web\"}});}</script>                <script type=\"text/javascript\">window.PlotlyConfig = {MathJaxConfig: 'local'};</script>\n",
              "        <script charset=\"utf-8\" src=\"https://cdn.plot.ly/plotly-2.27.0.min.js\"></script>                <div id=\"c08b26fe-1c57-43fb-885c-f4ec9c693524\" class=\"plotly-graph-div\" style=\"height:525px; width:100%;\"></div>            <script type=\"text/javascript\">                                    window.PLOTLYENV=window.PLOTLYENV || {};                                    if (document.getElementById(\"c08b26fe-1c57-43fb-885c-f4ec9c693524\")) {                    Plotly.newPlot(                        \"c08b26fe-1c57-43fb-885c-f4ec9c693524\",                        [{\"dimensions\":[{\"axis\":{\"matches\":true},\"label\":\"distancia_do_gol\",\"values\":[5,8,10,4,12,7,9,6,11,5,8,10,4,12,7,9,6,11,5,8,10,4,12,7,9,6,11,5,8,10,4,12,7,9,6,11,5,8,10,4,12,7,9,6,11,5,8,10,4,12,7,9,6,11,5,8,10,4,12,7,9,6,11,5,8,10,4,12,7,9,6,11,5,8,10,4,12,7,9,6,11,5,8,10,4,12,7,9,6,11,5,8,10,4,12,7,9,6,11,5,8,10,4,12,7,9,6,11,5,8,10,4,12,7,9,6,11,5,8,10,4,12,7,9,6,11,5,8,10,4,12,7,9,6,11,5,8,10,4,12,7,9,6,11,5,8,10,4,12,7,9,6,11,5,8,10,4,12,7,9,6,11,5,8,10,4,12,7,9,6,11,5,8,10,4,12,7,9,6,11,5,8,10,4,12,7,9,6,11,5,8,10,4,12,7,9,6,11,5,8,10,4,12,7,9,6,11,5,8,10,4,12,7,9,6,11,5,8,10,4,12,7,9,6,11,5,8,10,4,12,7,9,6,11,5,8,10,4,12,7,9,6,11,5,8,10,4,12,7,9,6,11,5,8,10,4,12,7,9,6,11,5,8,10,4,12,7,9,6,11,5,8,10,4,12,7,9,6,11,5,8,10,4,12,7,9,6,11,5,8,10,4,12,7,9,6,11,5,8,10,4,12,7,9,6,11,5,8,10,4,12,7,9,6,11,5,8,10,4,12,7,9,6,11,5,8,10,4,12,7,9,6,11,5,8,10,4,12,7,9,6,11,5,8,10,4,12,7,9,6,11,5,8,10,4,12,7,9,6,11,5,8,10,4,12,7,9,6,11,5,8,10,4,12,7,9,6,11,5]},{\"axis\":{\"matches\":true},\"label\":\"forca_do_Chute\",\"values\":[65,70,62,58,70,64,75,62,68,66,72,60,65,76,66,73,68,62,69,64,60,67,74,69,71,66,63,68,73,61,68,76,68,71,65,63,70,64,59,67,75,69,71,68,62,70,64,60,67,74,66,73,66,63,68,73,61,68,76,68,71,65,63,70,64,59,67,75,69,71,68,62,70,64,60,67,74,66,73,66,63,68,73,61,68,76,68,71,65,63,70,64,59,67,75,69,71,68,62,70,64,60,67,74,66,73,66,63,68,73,61,68,76,68,71,65,63,70,64,59,67,75,69,71,68,62,70,64,60,67,74,66,71,66,63,68,73,61,68,76,68,71,65,63,70,64,59,67,75,69,71,68,62,70,64,60,67,74,66,71,66,63,68,73,61,68,76,68,71,65,63,70,64,59,67,75,69,71,68,62,70,64,60,67,74,66,71,66,63,68,73,61,68,76,68,71,65,63,70,64,59,67,75,69,71,68,62,70,64,60,67,74,66,71,66,63,68,73,61,68,76,68,71,65,63,70,64,59,67,75,69,71,68,62,70,64,60,67,74,66,71,66,63,68,73,61,68,76,68,71,65,63,70,64,59,67,75,69,71,68,62,70,64,60,67,74,66,71,66,63,68,73,61,68,76,68,71,65,63,70,64,59,67,75,69,71,68,63,68,73,61,68,76,68,71,65,63,70,64,59,67,75,69,71,68,63,68,73,61,68,76,68,71,65,63,70,64,60,67,74,66,71,68,63,68,73,61,68,76,68,71,65,63,70,64,59,67,75,69,71,68,63,68,73,61,68,76,68,71,65,63,70,64,60,67,74,66,71,68,63,68,73,61,68,76,68,71,65,63,70,64,59,67,75,69,71,68,63,68]},{\"axis\":{\"matches\":true},\"label\":\"stamina\",\"values\":[80,75,70,85,90,78,85,72,75,79,88,73,87,92,78,86,75,71,89,76,73,85,91,77,88,74,70,81,90,74,86,92,78,87,75,72,88,76,73,84,89,77,86,75,71,89,76,73,85,91,78,86,74,70,81,90,74,86,92,78,87,75,72,88,76,73,84,89,77,86,75,71,89,76,73,85,91,78,86,74,70,81,90,74,86,92,78,87,75,72,88,76,73,84,89,77,86,75,71,89,76,73,85,91,78,86,74,70,81,90,74,86,92,78,87,75,72,88,76,73,84,89,77,86,75,71,88,76,73,85,91,78,86,74,70,81,90,74,86,92,78,87,75,72,88,76,73,84,89,77,86,75,71,88,76,73,85,91,78,86,74,70,81,90,74,86,92,78,87,75,72,88,76,73,84,89,77,86,75,71,88,76,73,85,91,78,86,74,70,81,90,74,86,92,78,87,75,72,88,76,73,84,89,77,86,75,71,88,76,73,85,91,78,86,74,70,81,90,74,86,92,78,87,75,72,88,76,73,84,89,77,86,75,71,88,76,73,85,91,78,86,74,70,81,90,74,86,92,78,87,75,72,88,76,73,84,89,77,86,75,71,88,76,73,85,91,78,86,74,70,81,90,74,86,92,78,87,75,72,88,76,73,84,89,77,86,75,70,81,90,74,86,92,78,87,75,72,88,76,73,84,89,77,86,75,70,81,90,74,86,92,78,87,75,72,88,76,73,85,91,78,86,75,70,81,90,74,86,92,78,87,75,72,88,76,73,84,89,77,86,75,70,81,90,74,86,92,78,87,75,72,88,76,73,85,91,78,86,75,70,81,90,74,86,92,78,87,75,72,88,76,73,84,89,77,86,75,70,81]}],\"hovertemplate\":\"%{xaxis.title.text}=%{x}\\u003cbr\\u003e%{yaxis.title.text}=%{y}\\u003cbr\\u003egol=%{marker.color}\\u003cextra\\u003e\\u003c\\u002fextra\\u003e\",\"legendgroup\":\"\",\"marker\":{\"color\":[0,0,0,0,1,0,1,0,1,0,1,0,0,1,0,1,0,0,0,0,0,0,1,0,1,0,0,0,1,0,0,1,0,1,0,0,0,0,0,0,1,0,1,0,0,0,0,0,0,1,0,1,0,0,0,1,0,0,1,0,1,0,0,0,0,0,0,1,0,1,0,0,0,0,0,0,1,0,1,0,0,0,1,0,0,1,0,1,0,0,0,0,0,0,1,0,1,0,0,0,0,0,0,1,0,1,0,0,0,1,0,0,1,0,1,0,0,0,0,0,0,1,0,1,0,0,0,0,0,0,1,0,1,0,0,0,1,0,0,1,0,1,0,0,0,0,0,0,1,0,1,0,0,0,0,0,0,1,0,1,0,0,0,1,0,0,1,0,1,0,0,0,0,0,0,1,0,1,0,0,0,0,0,0,1,0,1,0,0,0,1,0,0,1,0,1,0,0,0,0,0,0,1,0,1,0,0,0,0,0,0,1,0,1,0,0,0,1,0,0,1,0,1,0,0,0,0,0,0,1,0,1,0,0,0,0,0,0,1,0,1,0,0,0,1,0,0,1,0,1,0,0,0,0,0,0,1,0,1,0,0,0,0,0,0,1,0,1,0,0,0,1,0,0,1,0,1,0,0,0,0,0,0,1,0,1,0,0,0,1,0,0,1,0,1,0,0,0,0,0,0,1,0,1,0,0,0,1,0,0,1,0,1,0,0,0,0,0,0,1,0,1,0,0,0,1,0,0,1,0,1,0,0,0,0,0,0,1,0,1,0,0,0,1,0,0,1,0,1,0,0,0,0,0,0,1,0,1,0,0,0,1,0,0,1,0,1,0,0,0,0,0,0,1,0,1,0,0,0],\"coloraxis\":\"coloraxis\",\"symbol\":\"circle\"},\"name\":\"\",\"showlegend\":false,\"type\":\"splom\"}],                        {\"template\":{\"data\":{\"histogram2dcontour\":[{\"type\":\"histogram2dcontour\",\"colorbar\":{\"outlinewidth\":0,\"ticks\":\"\"},\"colorscale\":[[0.0,\"#0d0887\"],[0.1111111111111111,\"#46039f\"],[0.2222222222222222,\"#7201a8\"],[0.3333333333333333,\"#9c179e\"],[0.4444444444444444,\"#bd3786\"],[0.5555555555555556,\"#d8576b\"],[0.6666666666666666,\"#ed7953\"],[0.7777777777777778,\"#fb9f3a\"],[0.8888888888888888,\"#fdca26\"],[1.0,\"#f0f921\"]]}],\"choropleth\":[{\"type\":\"choropleth\",\"colorbar\":{\"outlinewidth\":0,\"ticks\":\"\"}}],\"histogram2d\":[{\"type\":\"histogram2d\",\"colorbar\":{\"outlinewidth\":0,\"ticks\":\"\"},\"colorscale\":[[0.0,\"#0d0887\"],[0.1111111111111111,\"#46039f\"],[0.2222222222222222,\"#7201a8\"],[0.3333333333333333,\"#9c179e\"],[0.4444444444444444,\"#bd3786\"],[0.5555555555555556,\"#d8576b\"],[0.6666666666666666,\"#ed7953\"],[0.7777777777777778,\"#fb9f3a\"],[0.8888888888888888,\"#fdca26\"],[1.0,\"#f0f921\"]]}],\"heatmap\":[{\"type\":\"heatmap\",\"colorbar\":{\"outlinewidth\":0,\"ticks\":\"\"},\"colorscale\":[[0.0,\"#0d0887\"],[0.1111111111111111,\"#46039f\"],[0.2222222222222222,\"#7201a8\"],[0.3333333333333333,\"#9c179e\"],[0.4444444444444444,\"#bd3786\"],[0.5555555555555556,\"#d8576b\"],[0.6666666666666666,\"#ed7953\"],[0.7777777777777778,\"#fb9f3a\"],[0.8888888888888888,\"#fdca26\"],[1.0,\"#f0f921\"]]}],\"heatmapgl\":[{\"type\":\"heatmapgl\",\"colorbar\":{\"outlinewidth\":0,\"ticks\":\"\"},\"colorscale\":[[0.0,\"#0d0887\"],[0.1111111111111111,\"#46039f\"],[0.2222222222222222,\"#7201a8\"],[0.3333333333333333,\"#9c179e\"],[0.4444444444444444,\"#bd3786\"],[0.5555555555555556,\"#d8576b\"],[0.6666666666666666,\"#ed7953\"],[0.7777777777777778,\"#fb9f3a\"],[0.8888888888888888,\"#fdca26\"],[1.0,\"#f0f921\"]]}],\"contourcarpet\":[{\"type\":\"contourcarpet\",\"colorbar\":{\"outlinewidth\":0,\"ticks\":\"\"}}],\"contour\":[{\"type\":\"contour\",\"colorbar\":{\"outlinewidth\":0,\"ticks\":\"\"},\"colorscale\":[[0.0,\"#0d0887\"],[0.1111111111111111,\"#46039f\"],[0.2222222222222222,\"#7201a8\"],[0.3333333333333333,\"#9c179e\"],[0.4444444444444444,\"#bd3786\"],[0.5555555555555556,\"#d8576b\"],[0.6666666666666666,\"#ed7953\"],[0.7777777777777778,\"#fb9f3a\"],[0.8888888888888888,\"#fdca26\"],[1.0,\"#f0f921\"]]}],\"surface\":[{\"type\":\"surface\",\"colorbar\":{\"outlinewidth\":0,\"ticks\":\"\"},\"colorscale\":[[0.0,\"#0d0887\"],[0.1111111111111111,\"#46039f\"],[0.2222222222222222,\"#7201a8\"],[0.3333333333333333,\"#9c179e\"],[0.4444444444444444,\"#bd3786\"],[0.5555555555555556,\"#d8576b\"],[0.6666666666666666,\"#ed7953\"],[0.7777777777777778,\"#fb9f3a\"],[0.8888888888888888,\"#fdca26\"],[1.0,\"#f0f921\"]]}],\"mesh3d\":[{\"type\":\"mesh3d\",\"colorbar\":{\"outlinewidth\":0,\"ticks\":\"\"}}],\"scatter\":[{\"fillpattern\":{\"fillmode\":\"overlay\",\"size\":10,\"solidity\":0.2},\"type\":\"scatter\"}],\"parcoords\":[{\"type\":\"parcoords\",\"line\":{\"colorbar\":{\"outlinewidth\":0,\"ticks\":\"\"}}}],\"scatterpolargl\":[{\"type\":\"scatterpolargl\",\"marker\":{\"colorbar\":{\"outlinewidth\":0,\"ticks\":\"\"}}}],\"bar\":[{\"error_x\":{\"color\":\"#2a3f5f\"},\"error_y\":{\"color\":\"#2a3f5f\"},\"marker\":{\"line\":{\"color\":\"#E5ECF6\",\"width\":0.5},\"pattern\":{\"fillmode\":\"overlay\",\"size\":10,\"solidity\":0.2}},\"type\":\"bar\"}],\"scattergeo\":[{\"type\":\"scattergeo\",\"marker\":{\"colorbar\":{\"outlinewidth\":0,\"ticks\":\"\"}}}],\"scatterpolar\":[{\"type\":\"scatterpolar\",\"marker\":{\"colorbar\":{\"outlinewidth\":0,\"ticks\":\"\"}}}],\"histogram\":[{\"marker\":{\"pattern\":{\"fillmode\":\"overlay\",\"size\":10,\"solidity\":0.2}},\"type\":\"histogram\"}],\"scattergl\":[{\"type\":\"scattergl\",\"marker\":{\"colorbar\":{\"outlinewidth\":0,\"ticks\":\"\"}}}],\"scatter3d\":[{\"type\":\"scatter3d\",\"line\":{\"colorbar\":{\"outlinewidth\":0,\"ticks\":\"\"}},\"marker\":{\"colorbar\":{\"outlinewidth\":0,\"ticks\":\"\"}}}],\"scattermapbox\":[{\"type\":\"scattermapbox\",\"marker\":{\"colorbar\":{\"outlinewidth\":0,\"ticks\":\"\"}}}],\"scatterternary\":[{\"type\":\"scatterternary\",\"marker\":{\"colorbar\":{\"outlinewidth\":0,\"ticks\":\"\"}}}],\"scattercarpet\":[{\"type\":\"scattercarpet\",\"marker\":{\"colorbar\":{\"outlinewidth\":0,\"ticks\":\"\"}}}],\"carpet\":[{\"aaxis\":{\"endlinecolor\":\"#2a3f5f\",\"gridcolor\":\"white\",\"linecolor\":\"white\",\"minorgridcolor\":\"white\",\"startlinecolor\":\"#2a3f5f\"},\"baxis\":{\"endlinecolor\":\"#2a3f5f\",\"gridcolor\":\"white\",\"linecolor\":\"white\",\"minorgridcolor\":\"white\",\"startlinecolor\":\"#2a3f5f\"},\"type\":\"carpet\"}],\"table\":[{\"cells\":{\"fill\":{\"color\":\"#EBF0F8\"},\"line\":{\"color\":\"white\"}},\"header\":{\"fill\":{\"color\":\"#C8D4E3\"},\"line\":{\"color\":\"white\"}},\"type\":\"table\"}],\"barpolar\":[{\"marker\":{\"line\":{\"color\":\"#E5ECF6\",\"width\":0.5},\"pattern\":{\"fillmode\":\"overlay\",\"size\":10,\"solidity\":0.2}},\"type\":\"barpolar\"}],\"pie\":[{\"automargin\":true,\"type\":\"pie\"}]},\"layout\":{\"autotypenumbers\":\"strict\",\"colorway\":[\"#636efa\",\"#EF553B\",\"#00cc96\",\"#ab63fa\",\"#FFA15A\",\"#19d3f3\",\"#FF6692\",\"#B6E880\",\"#FF97FF\",\"#FECB52\"],\"font\":{\"color\":\"#2a3f5f\"},\"hovermode\":\"closest\",\"hoverlabel\":{\"align\":\"left\"},\"paper_bgcolor\":\"white\",\"plot_bgcolor\":\"#E5ECF6\",\"polar\":{\"bgcolor\":\"#E5ECF6\",\"angularaxis\":{\"gridcolor\":\"white\",\"linecolor\":\"white\",\"ticks\":\"\"},\"radialaxis\":{\"gridcolor\":\"white\",\"linecolor\":\"white\",\"ticks\":\"\"}},\"ternary\":{\"bgcolor\":\"#E5ECF6\",\"aaxis\":{\"gridcolor\":\"white\",\"linecolor\":\"white\",\"ticks\":\"\"},\"baxis\":{\"gridcolor\":\"white\",\"linecolor\":\"white\",\"ticks\":\"\"},\"caxis\":{\"gridcolor\":\"white\",\"linecolor\":\"white\",\"ticks\":\"\"}},\"coloraxis\":{\"colorbar\":{\"outlinewidth\":0,\"ticks\":\"\"}},\"colorscale\":{\"sequential\":[[0.0,\"#0d0887\"],[0.1111111111111111,\"#46039f\"],[0.2222222222222222,\"#7201a8\"],[0.3333333333333333,\"#9c179e\"],[0.4444444444444444,\"#bd3786\"],[0.5555555555555556,\"#d8576b\"],[0.6666666666666666,\"#ed7953\"],[0.7777777777777778,\"#fb9f3a\"],[0.8888888888888888,\"#fdca26\"],[1.0,\"#f0f921\"]],\"sequentialminus\":[[0.0,\"#0d0887\"],[0.1111111111111111,\"#46039f\"],[0.2222222222222222,\"#7201a8\"],[0.3333333333333333,\"#9c179e\"],[0.4444444444444444,\"#bd3786\"],[0.5555555555555556,\"#d8576b\"],[0.6666666666666666,\"#ed7953\"],[0.7777777777777778,\"#fb9f3a\"],[0.8888888888888888,\"#fdca26\"],[1.0,\"#f0f921\"]],\"diverging\":[[0,\"#8e0152\"],[0.1,\"#c51b7d\"],[0.2,\"#de77ae\"],[0.3,\"#f1b6da\"],[0.4,\"#fde0ef\"],[0.5,\"#f7f7f7\"],[0.6,\"#e6f5d0\"],[0.7,\"#b8e186\"],[0.8,\"#7fbc41\"],[0.9,\"#4d9221\"],[1,\"#276419\"]]},\"xaxis\":{\"gridcolor\":\"white\",\"linecolor\":\"white\",\"ticks\":\"\",\"title\":{\"standoff\":15},\"zerolinecolor\":\"white\",\"automargin\":true,\"zerolinewidth\":2},\"yaxis\":{\"gridcolor\":\"white\",\"linecolor\":\"white\",\"ticks\":\"\",\"title\":{\"standoff\":15},\"zerolinecolor\":\"white\",\"automargin\":true,\"zerolinewidth\":2},\"scene\":{\"xaxis\":{\"backgroundcolor\":\"#E5ECF6\",\"gridcolor\":\"white\",\"linecolor\":\"white\",\"showbackground\":true,\"ticks\":\"\",\"zerolinecolor\":\"white\",\"gridwidth\":2},\"yaxis\":{\"backgroundcolor\":\"#E5ECF6\",\"gridcolor\":\"white\",\"linecolor\":\"white\",\"showbackground\":true,\"ticks\":\"\",\"zerolinecolor\":\"white\",\"gridwidth\":2},\"zaxis\":{\"backgroundcolor\":\"#E5ECF6\",\"gridcolor\":\"white\",\"linecolor\":\"white\",\"showbackground\":true,\"ticks\":\"\",\"zerolinecolor\":\"white\",\"gridwidth\":2}},\"shapedefaults\":{\"line\":{\"color\":\"#2a3f5f\"}},\"annotationdefaults\":{\"arrowcolor\":\"#2a3f5f\",\"arrowhead\":0,\"arrowwidth\":1},\"geo\":{\"bgcolor\":\"white\",\"landcolor\":\"#E5ECF6\",\"subunitcolor\":\"white\",\"showland\":true,\"showlakes\":true,\"lakecolor\":\"white\"},\"title\":{\"x\":0.05},\"mapbox\":{\"style\":\"light\"}}},\"coloraxis\":{\"colorbar\":{\"title\":{\"text\":\"gol\"}},\"colorscale\":[[0.0,\"#0d0887\"],[0.1111111111111111,\"#46039f\"],[0.2222222222222222,\"#7201a8\"],[0.3333333333333333,\"#9c179e\"],[0.4444444444444444,\"#bd3786\"],[0.5555555555555556,\"#d8576b\"],[0.6666666666666666,\"#ed7953\"],[0.7777777777777778,\"#fb9f3a\"],[0.8888888888888888,\"#fdca26\"],[1.0,\"#f0f921\"]]},\"legend\":{\"tracegroupgap\":0},\"margin\":{\"t\":60},\"dragmode\":\"select\"},                        {\"responsive\": true}                    ).then(function(){\n",
              "                            \n",
              "var gd = document.getElementById('c08b26fe-1c57-43fb-885c-f4ec9c693524');\n",
              "var x = new MutationObserver(function (mutations, observer) {{\n",
              "        var display = window.getComputedStyle(gd).display;\n",
              "        if (!display || display === 'none') {{\n",
              "            console.log([gd, 'removed!']);\n",
              "            Plotly.purge(gd);\n",
              "            observer.disconnect();\n",
              "        }}\n",
              "}});\n",
              "\n",
              "// Listen for the removal of the full notebook cells\n",
              "var notebookContainer = gd.closest('#notebook-container');\n",
              "if (notebookContainer) {{\n",
              "    x.observe(notebookContainer, {childList: true});\n",
              "}}\n",
              "\n",
              "// Listen for the clearing of the current output cell\n",
              "var outputEl = gd.closest('.output');\n",
              "if (outputEl) {{\n",
              "    x.observe(outputEl, {childList: true});\n",
              "}}\n",
              "\n",
              "                        })                };                            </script>        </div>\n",
              "</body>\n",
              "</html>"
            ]
          },
          "metadata": {},
          "output_type": "display_data"
        }
      ],
      "source": [
        "# Gráfico de dispersão\n",
        "grafico = px.scatter_matrix(base_robocup, dimensions=['distancia_do_gol', 'forca_do_Chute', 'stamina'], color='gol') # color=default separa uma cor para cada valor do campo default\n",
        "grafico.show()"
      ]
    },
    {
      "cell_type": "markdown",
      "metadata": {
        "id": "cOSLRdDEsWFx"
      },
      "source": [
        "### Divisão entre previsores e classe"
      ]
    },
    {
      "cell_type": "markdown",
      "metadata": {
        "id": "9gop_LB27IID"
      },
      "source": [
        "#### Tratamento de atributos categóricos"
      ]
    },
    {
      "cell_type": "code",
      "execution_count": null,
      "metadata": {
        "colab": {
          "base_uri": "https://localhost:8080/"
        },
        "id": "4eL55Qzi4JQP",
        "outputId": "4c8855b9-89bc-4e96-c689-64cc182aaead"
      },
      "outputs": [
        {
          "name": "stdout",
          "output_type": "stream",
          "text": [
            "0       C\n",
            "1       E\n",
            "2       D\n",
            "3       C\n",
            "4       D\n",
            "       ..\n",
            "374     D\n",
            "375     E\n",
            "376     D\n",
            "377     D\n",
            "378     E\n",
            "Name: chute_direcao, Length: 379, dtype: object\n",
            "0      0\n",
            "1      2\n",
            "2      1\n",
            "3      0\n",
            "4      1\n",
            "      ..\n",
            "374    1\n",
            "375    2\n",
            "376    1\n",
            "377    1\n",
            "378    2\n",
            "Name: chute_direcao, Length: 379, dtype: int64\n"
          ]
        }
      ],
      "source": [
        "from sklearn.preprocessing import LabelEncoder\n",
        "\n",
        "# Crie uma instância do LabelEncoder\n",
        "encoder = LabelEncoder()\n",
        "print(base_robocup['chute_direcao'])\n",
        "\n",
        "# Ajuste e transforme os dados categóricos\n",
        "dados_categoricos_transformados = encoder.fit_transform(base_robocup['chute_direcao'])\n",
        "base_robocup['chute_direcao'] = dados_categoricos_transformados\n",
        "\n",
        "print(base_robocup['chute_direcao'])"
      ]
    },
    {
      "cell_type": "code",
      "execution_count": null,
      "metadata": {
        "colab": {
          "base_uri": "https://localhost:8080/"
        },
        "id": "JeE1xaPHB_vo",
        "outputId": "e3967e17-2f3c-4166-a533-41c8a7c6b24a"
      },
      "outputs": [
        {
          "data": {
            "text/plain": [
              "array([[ 5,  1,  3, 80, 65,  0],\n",
              "       [ 8,  2,  2, 75, 70,  2],\n",
              "       [10,  4,  3, 70, 62,  1],\n",
              "       ...,\n",
              "       [ 6,  1,  2, 75, 68,  1],\n",
              "       [11,  2,  1, 70, 63,  1],\n",
              "       [ 5,  3,  3, 81, 68,  2]])"
            ]
          },
          "execution_count": 38,
          "metadata": {},
          "output_type": "execute_result"
        }
      ],
      "source": [
        "X_robocup = base_robocup.iloc[:, :6].values\n",
        "X_robocup"
      ]
    },
    {
      "cell_type": "code",
      "execution_count": null,
      "metadata": {
        "colab": {
          "base_uri": "https://localhost:8080/"
        },
        "id": "usDHmfBTC64Y",
        "outputId": "2f825b1f-2c0e-4f71-c248-07b7de614af8"
      },
      "outputs": [
        {
          "data": {
            "text/plain": [
              "array([0, 0, 0, 0, 1, 0, 1, 0, 1, 0, 1, 0, 0, 1, 0, 1, 0, 0, 0, 0, 0, 0,\n",
              "       1, 0, 1, 0, 0, 0, 1, 0, 0, 1, 0, 1, 0, 0, 0, 0, 0, 0, 1, 0, 1, 0,\n",
              "       0, 0, 0, 0, 0, 1, 0, 1, 0, 0, 0, 1, 0, 0, 1, 0, 1, 0, 0, 0, 0, 0,\n",
              "       0, 1, 0, 1, 0, 0, 0, 0, 0, 0, 1, 0, 1, 0, 0, 0, 1, 0, 0, 1, 0, 1,\n",
              "       0, 0, 0, 0, 0, 0, 1, 0, 1, 0, 0, 0, 0, 0, 0, 1, 0, 1, 0, 0, 0, 1,\n",
              "       0, 0, 1, 0, 1, 0, 0, 0, 0, 0, 0, 1, 0, 1, 0, 0, 0, 0, 0, 0, 1, 0,\n",
              "       1, 0, 0, 0, 1, 0, 0, 1, 0, 1, 0, 0, 0, 0, 0, 0, 1, 0, 1, 0, 0, 0,\n",
              "       0, 0, 0, 1, 0, 1, 0, 0, 0, 1, 0, 0, 1, 0, 1, 0, 0, 0, 0, 0, 0, 1,\n",
              "       0, 1, 0, 0, 0, 0, 0, 0, 1, 0, 1, 0, 0, 0, 1, 0, 0, 1, 0, 1, 0, 0,\n",
              "       0, 0, 0, 0, 1, 0, 1, 0, 0, 0, 0, 0, 0, 1, 0, 1, 0, 0, 0, 1, 0, 0,\n",
              "       1, 0, 1, 0, 0, 0, 0, 0, 0, 1, 0, 1, 0, 0, 0, 0, 0, 0, 1, 0, 1, 0,\n",
              "       0, 0, 1, 0, 0, 1, 0, 1, 0, 0, 0, 0, 0, 0, 1, 0, 1, 0, 0, 0, 0, 0,\n",
              "       0, 1, 0, 1, 0, 0, 0, 1, 0, 0, 1, 0, 1, 0, 0, 0, 0, 0, 0, 1, 0, 1,\n",
              "       0, 0, 0, 1, 0, 0, 1, 0, 1, 0, 0, 0, 0, 0, 0, 1, 0, 1, 0, 0, 0, 1,\n",
              "       0, 0, 1, 0, 1, 0, 0, 0, 0, 0, 0, 1, 0, 1, 0, 0, 0, 1, 0, 0, 1, 0,\n",
              "       1, 0, 0, 0, 0, 0, 0, 1, 0, 1, 0, 0, 0, 1, 0, 0, 1, 0, 1, 0, 0, 0,\n",
              "       0, 0, 0, 1, 0, 1, 0, 0, 0, 1, 0, 0, 1, 0, 1, 0, 0, 0, 0, 0, 0, 1,\n",
              "       0, 1, 0, 0, 0])"
            ]
          },
          "execution_count": 39,
          "metadata": {},
          "output_type": "execute_result"
        }
      ],
      "source": [
        "# Busca todas as linhas  do atributo 4(coluna default)\n",
        "y_robocup = base_robocup.iloc[:, 6].values\n",
        "y_robocup"
      ]
    },
    {
      "cell_type": "markdown",
      "metadata": {
        "id": "S_jbxLwqu4fQ"
      },
      "source": [
        "### Escalonamento dos valores\n"
      ]
    },
    {
      "cell_type": "code",
      "execution_count": null,
      "metadata": {
        "colab": {
          "base_uri": "https://localhost:8080/"
        },
        "id": "EM6wEXhQFP4u",
        "outputId": "a24283d2-e7e5-4cdb-f810-1b2fa470894a"
      },
      "outputs": [
        {
          "data": {
            "text/plain": [
              "array([[ 5,  1,  3, 80, 65,  0],\n",
              "       [ 8,  2,  2, 75, 70,  2],\n",
              "       [10,  4,  3, 70, 62,  1],\n",
              "       ...,\n",
              "       [ 6,  1,  2, 75, 68,  1],\n",
              "       [11,  2,  1, 70, 63,  1],\n",
              "       [ 5,  3,  3, 81, 68,  2]])"
            ]
          },
          "execution_count": 40,
          "metadata": {},
          "output_type": "execute_result"
        }
      ],
      "source": [
        "X_robocup"
      ]
    },
    {
      "cell_type": "code",
      "execution_count": null,
      "metadata": {
        "colab": {
          "base_uri": "https://localhost:8080/"
        },
        "id": "Hg3f5RV6FZwl",
        "outputId": "1b52db52-403a-440e-fa22-e6ff7770ae9e"
      },
      "outputs": [
        {
          "data": {
            "text/plain": [
              "(4, 0, 1)"
            ]
          },
          "execution_count": 41,
          "metadata": {},
          "output_type": "execute_result"
        }
      ],
      "source": [
        "# Menoes valores\n",
        "X_robocup[:,0].min(), X_robocup[:,1].min(), X_robocup[:,2].min()"
      ]
    },
    {
      "cell_type": "code",
      "execution_count": null,
      "metadata": {
        "colab": {
          "base_uri": "https://localhost:8080/"
        },
        "id": "GCaRQEI6Fj65",
        "outputId": "ad95275f-9be9-42e7-8b0e-beda0975ac00"
      },
      "outputs": [
        {
          "data": {
            "text/plain": [
              "(12, 4, 4)"
            ]
          },
          "execution_count": 42,
          "metadata": {},
          "output_type": "execute_result"
        }
      ],
      "source": [
        "# Maiores valores\n",
        "X_robocup[:,0].max(), X_robocup[:,1].max(), X_robocup[:,2].max()"
      ]
    },
    {
      "cell_type": "code",
      "execution_count": null,
      "metadata": {
        "id": "kIwl_pfBHAOX"
      },
      "outputs": [],
      "source": [
        "from sklearn.preprocessing import StandardScaler # Pacote para realizar a padronização\n",
        "scaler_credit = StandardScaler() # Padronizador\n",
        "X_robocup = scaler_credit.fit_transform(X_robocup) # Aplicando a padronizador"
      ]
    },
    {
      "cell_type": "code",
      "execution_count": null,
      "metadata": {
        "colab": {
          "base_uri": "https://localhost:8080/"
        },
        "id": "UrCwoukQHS8L",
        "outputId": "d63e8890-03af-4473-aee0-5d72f360fafc"
      },
      "outputs": [
        {
          "data": {
            "text/plain": [
              "(-1.5454214909402255, -1.6062229583424341, -1.413187525585212)"
            ]
          },
          "execution_count": 44,
          "metadata": {},
          "output_type": "execute_result"
        }
      ],
      "source": [
        "# Novos valores mimos\n",
        "X_robocup[:,0].min(), X_robocup[:,1].min(), X_robocup[:,2].min()"
      ]
    },
    {
      "cell_type": "code",
      "execution_count": null,
      "metadata": {
        "colab": {
          "base_uri": "https://localhost:8080/"
        },
        "id": "w8IGh3S-HdDi",
        "outputId": "2e23cbdb-a3cf-49c1-a9e8-64dcd10ba1bf"
      },
      "outputs": [
        {
          "data": {
            "text/plain": [
              "(1.5515500626161287, 1.8723970485820376, 1.4206647082602661)"
            ]
          },
          "execution_count": 45,
          "metadata": {},
          "output_type": "execute_result"
        }
      ],
      "source": [
        "# Novos valores máximos\n",
        "X_robocup[:,0].max(), X_robocup[:,1].max(), X_robocup[:,2].max()"
      ]
    },
    {
      "cell_type": "code",
      "execution_count": null,
      "metadata": {
        "colab": {
          "base_uri": "https://localhost:8080/"
        },
        "id": "4VyQztFtHlYa",
        "outputId": "47c9352e-58ac-45c3-a90a-0dfd7823db22"
      },
      "outputs": [
        {
          "data": {
            "text/plain": [
              "array([[-1.15830005, -0.73656796,  0.4760473 , -0.08681595, -0.54466402,\n",
              "        -1.40334816],\n",
              "       [ 0.00306429,  0.13308705, -0.46857011, -0.81155708,  0.57357901,\n",
              "         1.21025849],\n",
              "       [ 0.77730717,  1.87239705,  0.4760473 , -1.5362982 , -1.21560984,\n",
              "        -0.09654484],\n",
              "       ...,\n",
              "       [-0.7711786 , -0.73656796, -0.46857011, -0.81155708,  0.1262818 ,\n",
              "        -0.09654484],\n",
              "       [ 1.16442862,  0.13308705, -1.41318753, -1.5362982 , -0.99196124,\n",
              "        -0.09654484],\n",
              "       [-1.15830005,  1.00274205,  0.4760473 ,  0.05813227,  0.1262818 ,\n",
              "         1.21025849]])"
            ]
          },
          "execution_count": 46,
          "metadata": {},
          "output_type": "execute_result"
        }
      ],
      "source": [
        "X_robocup"
      ]
    },
    {
      "cell_type": "markdown",
      "metadata": {
        "id": "oAGIx3Cx7daW"
      },
      "source": [
        "### Seperando a base de treinamento e de teste"
      ]
    },
    {
      "cell_type": "code",
      "execution_count": null,
      "metadata": {
        "id": "wnNoD9kQ7xDk"
      },
      "outputs": [],
      "source": [
        "from sklearn.model_selection import train_test_split"
      ]
    },
    {
      "cell_type": "code",
      "execution_count": null,
      "metadata": {
        "id": "YglWGPdjeXb1"
      },
      "outputs": [],
      "source": [
        "X_robocup_treinamento, X_robocup_teste, y_robocup_treinamento, y_robocup_teste = train_test_split(X_robocup, y_robocup, test_size = 0.10, random_state = 0)"
      ]
    },
    {
      "cell_type": "code",
      "execution_count": null,
      "metadata": {
        "colab": {
          "base_uri": "https://localhost:8080/"
        },
        "id": "OcUWH-xTfAC3",
        "outputId": "b9e82e2e-8956-4f6f-e042-65d0b229f91e"
      },
      "outputs": [
        {
          "data": {
            "text/plain": [
              "((341, 6), (341,))"
            ]
          },
          "execution_count": 49,
          "metadata": {},
          "output_type": "execute_result"
        }
      ],
      "source": [
        "X_robocup_treinamento.shape, y_robocup_treinamento.shape"
      ]
    },
    {
      "cell_type": "code",
      "execution_count": null,
      "metadata": {
        "colab": {
          "base_uri": "https://localhost:8080/"
        },
        "id": "iuf-gKIvfR2f",
        "outputId": "dc76732a-8a40-419f-ad31-79915ea10157"
      },
      "outputs": [
        {
          "data": {
            "text/plain": [
              "((341, 6), (341,))"
            ]
          },
          "execution_count": 50,
          "metadata": {},
          "output_type": "execute_result"
        }
      ],
      "source": [
        "X_robocup_treinamento.shape, y_robocup_treinamento.shape"
      ]
    },
    {
      "cell_type": "markdown",
      "metadata": {
        "id": "Oi9qbert8aMv"
      },
      "source": [
        "## Salvando os dados depois do preprocessamento\n"
      ]
    },
    {
      "cell_type": "code",
      "execution_count": null,
      "metadata": {
        "id": "Vn6R_DKHhG0u"
      },
      "outputs": [],
      "source": [
        "import pickle"
      ]
    },
    {
      "cell_type": "code",
      "execution_count": null,
      "metadata": {
        "id": "7bcjVkwqhLpY"
      },
      "outputs": [],
      "source": [
        "with open('./robocup.pkl', mode = 'wb') as f:\n",
        "  pickle.dump([X_robocup_treinamento, y_robocup_treinamento, X_robocup_teste, y_robocup_teste], f)"
      ]
    },
    {
      "cell_type": "markdown",
      "metadata": {},
      "source": [
        "### Carregando dados preprocessados"
      ]
    },
    {
      "cell_type": "code",
      "execution_count": null,
      "metadata": {
        "id": "LP-CNnnLrv74"
      },
      "outputs": [],
      "source": [
        "with open(f'./robocup.pkl', 'rb') as f:\n",
        "  X_robocup_treinamento, y_robocup_treinamento, X_robocup_teste, y_robocup_teste = pickle.load(f)"
      ]
    },
    {
      "cell_type": "markdown",
      "metadata": {
        "id": "zX-Vgf6TnLnc"
      },
      "source": [
        "# Naïve Bayes"
      ]
    },
    {
      "cell_type": "code",
      "execution_count": null,
      "metadata": {
        "id": "U-BlxVMDqflF"
      },
      "outputs": [],
      "source": [
        "from sklearn.naive_bayes import GaussianNB # Classes que repreenta o naive bayes"
      ]
    },
    {
      "cell_type": "code",
      "execution_count": null,
      "metadata": {
        "colab": {
          "base_uri": "https://localhost:8080/"
        },
        "id": "11c886Pf1kwf",
        "outputId": "6a5fb213-f72d-4c4c-eb2d-ac4f250b9425"
      },
      "outputs": [
        {
          "data": {
            "text/plain": [
              "((341, 6), (341,))"
            ]
          },
          "execution_count": 55,
          "metadata": {},
          "output_type": "execute_result"
        }
      ],
      "source": [
        "X_robocup_treinamento.shape, y_robocup_treinamento.shape"
      ]
    },
    {
      "cell_type": "code",
      "execution_count": null,
      "metadata": {
        "colab": {
          "base_uri": "https://localhost:8080/"
        },
        "id": "cD_tACqD1v6Y",
        "outputId": "2b56a000-7a77-480c-be71-7957f5bbd866"
      },
      "outputs": [
        {
          "data": {
            "text/plain": [
              "((38, 6), (38,))"
            ]
          },
          "execution_count": 56,
          "metadata": {},
          "output_type": "execute_result"
        }
      ],
      "source": [
        "X_robocup_teste.shape, y_robocup_teste.shape"
      ]
    },
    {
      "cell_type": "code",
      "execution_count": null,
      "metadata": {
        "colab": {
          "base_uri": "https://localhost:8080/"
        },
        "id": "gnU8BRlr15uT",
        "outputId": "17ef1265-971f-42a4-c955-6d8d509b9631"
      },
      "outputs": [
        {
          "data": {
            "text/plain": [
              "array([0, 0, 0, 0, 0, 1, 0, 0, 0, 1, 1, 0, 0, 1, 0, 0, 0, 0, 0, 0, 1, 0,\n",
              "       1, 0, 0, 0, 0, 1, 1, 0, 0, 1, 0, 0, 0, 0, 1, 1])"
            ]
          },
          "execution_count": 57,
          "metadata": {},
          "output_type": "execute_result"
        }
      ],
      "source": [
        "# Gerando a tabela de probabilidade\n",
        "naive_robocup = GaussianNB()\n",
        "naive_robocup.fit(X_robocup_treinamento, y_robocup_treinamento)\n",
        "\n",
        "# Aplicando o modelo na base de teste\n",
        "previsoes = naive_robocup.predict(X_robocup_teste)\n",
        "previsoes"
      ]
    },
    {
      "cell_type": "code",
      "execution_count": null,
      "metadata": {
        "colab": {
          "base_uri": "https://localhost:8080/"
        },
        "id": "_TonV1b32RoP",
        "outputId": "de5fe5d1-3137-4651-e27b-d97ddaf329e6"
      },
      "outputs": [
        {
          "data": {
            "text/plain": [
              "array([0, 0, 0, 0, 0, 1, 0, 0, 0, 0, 1, 0, 0, 1, 0, 0, 0, 0, 0, 0, 1, 0,\n",
              "       1, 0, 0, 0, 0, 1, 1, 0, 0, 1, 0, 0, 0, 0, 1, 1])"
            ]
          },
          "execution_count": 58,
          "metadata": {},
          "output_type": "execute_result"
        }
      ],
      "source": [
        "# Respostas corretas da base de dados\n",
        "y_robocup_teste"
      ]
    },
    {
      "cell_type": "code",
      "execution_count": null,
      "metadata": {
        "colab": {
          "base_uri": "https://localhost:8080/"
        },
        "id": "_JAtM61v2eiA",
        "outputId": "66c704ba-c8d0-4923-c768-fc1450125fbd"
      },
      "outputs": [
        {
          "data": {
            "text/plain": [
              "0.9736842105263158"
            ]
          },
          "execution_count": 59,
          "metadata": {},
          "output_type": "execute_result"
        }
      ],
      "source": [
        "accuracy_score(y_robocup_teste, previsoes) # não executar o escalonamento"
      ]
    },
    {
      "cell_type": "code",
      "execution_count": null,
      "metadata": {
        "colab": {
          "base_uri": "https://localhost:8080/",
          "height": 496
        },
        "id": "L0K6x5C-3B3e",
        "outputId": "b6829d6c-8ea5-4770-9ed3-c16baa73eeb8"
      },
      "outputs": [
        {
          "data": {
            "text/plain": [
              "0.9736842105263158"
            ]
          },
          "execution_count": 60,
          "metadata": {},
          "output_type": "execute_result"
        },
        {
          "data": {
            "image/png": "[encoded data removed]",
            "text/plain": [
              "<Figure size 800x550 with 1 Axes>"
            ]
          },
          "metadata": {},
          "output_type": "display_data"
        }
      ],
      "source": [
        "cm = ConfusionMatrix(naive_robocup)\n",
        "cm.fit(X_robocup_treinamento, y_robocup_treinamento)\n",
        "cm.score(X_robocup_teste, y_robocup_teste)"
      ]
    },
    {
      "cell_type": "code",
      "execution_count": null,
      "metadata": {
        "colab": {
          "base_uri": "https://localhost:8080/"
        },
        "id": "73BnWAg83fkr",
        "outputId": "42a95442-ca1d-4a8b-dcda-03458983e19c"
      },
      "outputs": [
        {
          "name": "stdout",
          "output_type": "stream",
          "text": [
            "              precision    recall  f1-score   support\n",
            "\n",
            "           0       1.00      0.96      0.98        28\n",
            "           1       0.91      1.00      0.95        10\n",
            "\n",
            "    accuracy                           0.97        38\n",
            "   macro avg       0.95      0.98      0.97        38\n",
            "weighted avg       0.98      0.97      0.97        38\n",
            "\n"
          ]
        }
      ],
      "source": [
        "print(classification_report(y_robocup_teste, previsoes))"
      ]
    },
    {
      "cell_type": "code",
      "execution_count": null,
      "metadata": {
        "id": "jEONquU1rrYY"
      },
      "outputs": [],
      "source": []
    },
    {
      "cell_type": "markdown",
      "metadata": {
        "id": "DjUu9ktyU4__"
      },
      "source": [
        "# Árvores de decisão"
      ]
    },
    {
      "cell_type": "code",
      "execution_count": null,
      "metadata": {
        "id": "9WB3PZAfYmJr"
      },
      "outputs": [],
      "source": [
        "from sklearn.tree import DecisionTreeClassifier"
      ]
    },
    {
      "cell_type": "code",
      "execution_count": null,
      "metadata": {
        "colab": {
          "base_uri": "https://localhost:8080/",
          "height": 74
        },
        "id": "eplNbMEcdHap",
        "outputId": "6ea0fe06-ba0d-4d6a-b2aa-2a5864fb544a"
      },
      "outputs": [
        {
          "data": {
            "text/html": [
              "<style>#sk-container-id-1 {color: black;background-color: white;}#sk-container-id-1 pre{padding: 0;}#sk-container-id-1 div.sk-toggleable {background-color: white;}#sk-container-id-1 label.sk-toggleable__label {cursor: pointer;display: block;width: 100%;margin-bottom: 0;padding: 0.3em;box-sizing: border-box;text-align: center;}#sk-container-id-1 label.sk-toggleable__label-arrow:before {content: \"▸\";float: left;margin-right: 0.25em;color: #696969;}#sk-container-id-1 label.sk-toggleable__label-arrow:hover:before {color: black;}#sk-container-id-1 div.sk-estimator:hover label.sk-toggleable__label-arrow:before {color: black;}#sk-container-id-1 div.sk-toggleable__content {max-height: 0;max-width: 0;overflow: hidden;text-align: left;background-color: #f0f8ff;}#sk-container-id-1 div.sk-toggleable__content pre {margin: 0.2em;color: black;border-radius: 0.25em;background-color: #f0f8ff;}#sk-container-id-1 input.sk-toggleable__control:checked~div.sk-toggleable__content {max-height: 200px;max-width: 100%;overflow: auto;}#sk-container-id-1 input.sk-toggleable__control:checked~label.sk-toggleable__label-arrow:before {content: \"▾\";}#sk-container-id-1 div.sk-estimator input.sk-toggleable__control:checked~label.sk-toggleable__label {background-color: #d4ebff;}#sk-container-id-1 div.sk-label input.sk-toggleable__control:checked~label.sk-toggleable__label {background-color: #d4ebff;}#sk-container-id-1 input.sk-hidden--visually {border: 0;clip: rect(1px 1px 1px 1px);clip: rect(1px, 1px, 1px, 1px);height: 1px;margin: -1px;overflow: hidden;padding: 0;position: absolute;width: 1px;}#sk-container-id-1 div.sk-estimator {font-family: monospace;background-color: #f0f8ff;border: 1px dotted black;border-radius: 0.25em;box-sizing: border-box;margin-bottom: 0.5em;}#sk-container-id-1 div.sk-estimator:hover {background-color: #d4ebff;}#sk-container-id-1 div.sk-parallel-item::after {content: \"\";width: 100%;border-bottom: 1px solid gray;flex-grow: 1;}#sk-container-id-1 div.sk-label:hover label.sk-toggleable__label {background-color: #d4ebff;}#sk-container-id-1 div.sk-serial::before {content: \"\";position: absolute;border-left: 1px solid gray;box-sizing: border-box;top: 0;bottom: 0;left: 50%;z-index: 0;}#sk-container-id-1 div.sk-serial {display: flex;flex-direction: column;align-items: center;background-color: white;padding-right: 0.2em;padding-left: 0.2em;position: relative;}#sk-container-id-1 div.sk-item {position: relative;z-index: 1;}#sk-container-id-1 div.sk-parallel {display: flex;align-items: stretch;justify-content: center;background-color: white;position: relative;}#sk-container-id-1 div.sk-item::before, #sk-container-id-1 div.sk-parallel-item::before {content: \"\";position: absolute;border-left: 1px solid gray;box-sizing: border-box;top: 0;bottom: 0;left: 50%;z-index: -1;}#sk-container-id-1 div.sk-parallel-item {display: flex;flex-direction: column;z-index: 1;position: relative;background-color: white;}#sk-container-id-1 div.sk-parallel-item:first-child::after {align-self: flex-end;width: 50%;}#sk-container-id-1 div.sk-parallel-item:last-child::after {align-self: flex-start;width: 50%;}#sk-container-id-1 div.sk-parallel-item:only-child::after {width: 0;}#sk-container-id-1 div.sk-dashed-wrapped {border: 1px dashed gray;margin: 0 0.4em 0.5em 0.4em;box-sizing: border-box;padding-bottom: 0.4em;background-color: white;}#sk-container-id-1 div.sk-label label {font-family: monospace;font-weight: bold;display: inline-block;line-height: 1.2em;}#sk-container-id-1 div.sk-label-container {text-align: center;}#sk-container-id-1 div.sk-container {/* jupyter's `normalize.less` sets `[hidden] { display: none; }` but bootstrap.min.css set `[hidden] { display: none !important; }` so we also need the `!important` here to be able to override the default hidden behavior on the sphinx rendered scikit-learn.org. See: https://github.com/scikit-learn/scikit-learn/issues/21755 */display: inline-block !important;position: relative;}#sk-container-id-1 div.sk-text-repr-fallback {display: none;}</style><div id=\"sk-container-id-1\" class=\"sk-top-container\"><div class=\"sk-text-repr-fallback\"><pre>DecisionTreeClassifier(criterion=&#x27;entropy&#x27;, random_state=0)</pre><b>In a Jupyter environment, please rerun this cell to show the HTML representation or trust the notebook. <br />On GitHub, the HTML representation is unable to render, please try loading this page with nbviewer.org.</b></div><div class=\"sk-container\" hidden><div class=\"sk-item\"><div class=\"sk-estimator sk-toggleable\"><input class=\"sk-toggleable__control sk-hidden--visually\" id=\"sk-estimator-id-1\" type=\"checkbox\" checked><label for=\"sk-estimator-id-1\" class=\"sk-toggleable__label sk-toggleable__label-arrow\">DecisionTreeClassifier</label><div class=\"sk-toggleable__content\"><pre>DecisionTreeClassifier(criterion=&#x27;entropy&#x27;, random_state=0)</pre></div></div></div></div></div>"
            ],
            "text/plain": [
              "DecisionTreeClassifier(criterion='entropy', random_state=0)"
            ]
          },
          "execution_count": 63,
          "metadata": {},
          "output_type": "execute_result"
        }
      ],
      "source": [
        "# Criando e treinando a árvore de decisão\n",
        "arvore_credit = DecisionTreeClassifier(criterion='entropy', random_state = 0)\n",
        "arvore_credit.fit(X_robocup_treinamento, y_robocup_treinamento) # O fit recebe os atributos previsores e a classe"
      ]
    },
    {
      "cell_type": "code",
      "execution_count": null,
      "metadata": {
        "colab": {
          "base_uri": "https://localhost:8080/"
        },
        "id": "acB3m58gdZ95",
        "outputId": "63faeda3-b606-457e-cbc1-4256c0abf30a"
      },
      "outputs": [
        {
          "data": {
            "text/plain": [
              "array([0, 0, 0, 0, 0, 1, 0, 0, 0, 0, 1, 0, 0, 1, 0, 0, 0, 0, 0, 0, 1, 0,\n",
              "       1, 0, 0, 0, 0, 1, 1, 0, 0, 1, 0, 0, 0, 0, 1, 1])"
            ]
          },
          "execution_count": 64,
          "metadata": {},
          "output_type": "execute_result"
        }
      ],
      "source": [
        "# Aplicando o modelo na base de teste\n",
        "previsoes = arvore_credit.predict(X_robocup_teste)\n",
        "previsoes # Dados gerados pelo modelo"
      ]
    },
    {
      "cell_type": "code",
      "execution_count": null,
      "metadata": {
        "colab": {
          "base_uri": "https://localhost:8080/"
        },
        "id": "_b7lIf-Xdh3-",
        "outputId": "41cc4e3c-8e0a-41ab-a9fb-2e7fa7457b41"
      },
      "outputs": [
        {
          "data": {
            "text/plain": [
              "array([0, 0, 0, 0, 0, 1, 0, 0, 0, 0, 1, 0, 0, 1, 0, 0, 0, 0, 0, 0, 1, 0,\n",
              "       1, 0, 0, 0, 0, 1, 1, 0, 0, 1, 0, 0, 0, 0, 1, 1])"
            ]
          },
          "execution_count": 65,
          "metadata": {},
          "output_type": "execute_result"
        }
      ],
      "source": [
        "# Dados corretos da base de teste\n",
        "y_robocup_teste"
      ]
    },
    {
      "cell_type": "code",
      "execution_count": null,
      "metadata": {
        "colab": {
          "base_uri": "https://localhost:8080/"
        },
        "id": "uxVZTYeVdyln",
        "outputId": "0c874963-4bd4-4698-f9e8-6ada69d0fdf4"
      },
      "outputs": [
        {
          "data": {
            "text/plain": [
              "1.0"
            ]
          },
          "execution_count": 66,
          "metadata": {},
          "output_type": "execute_result"
        }
      ],
      "source": [
        "accuracy_score(y_robocup_teste, previsoes)"
      ]
    },
    {
      "cell_type": "code",
      "execution_count": null,
      "metadata": {
        "colab": {
          "base_uri": "https://localhost:8080/",
          "height": 496
        },
        "id": "KyxnMFFcd-dV",
        "outputId": "388f9bb2-40c6-4632-ebdf-960c3be0a442"
      },
      "outputs": [
        {
          "ename": "NameError",
          "evalue": "name 'arvore_credit' is not defined",
          "output_type": "error",
          "traceback": [
            "\u001b[0;31m---------------------------------------------------------------------------\u001b[0m",
            "\u001b[0;31mNameError\u001b[0m                                 Traceback (most recent call last)",
            "\u001b[1;32m/media/weverton/D/Dev/pythonDev/Data Science and ML/robocup/Robocup.ipynb Cell 53\u001b[0m line \u001b[0;36m2\n\u001b[1;32m      <a href='vscode-notebook-cell:/media/weverton/D/Dev/pythonDev/Data%20Science%20and%20ML/robocup/Robocup.ipynb#Y102sZmlsZQ%3D%3D?line=0'>1</a>\u001b[0m \u001b[39m# Matriz de confunção\u001b[39;00m\n\u001b[0;32m----> <a href='vscode-notebook-cell:/media/weverton/D/Dev/pythonDev/Data%20Science%20and%20ML/robocup/Robocup.ipynb#Y102sZmlsZQ%3D%3D?line=1'>2</a>\u001b[0m cm \u001b[39m=\u001b[39m ConfusionMatrix(arvore_credit)\n\u001b[1;32m      <a href='vscode-notebook-cell:/media/weverton/D/Dev/pythonDev/Data%20Science%20and%20ML/robocup/Robocup.ipynb#Y102sZmlsZQ%3D%3D?line=2'>3</a>\u001b[0m cm\u001b[39m.\u001b[39mfit(X_robocup_treinamento, y_robocup_treinamento)\n\u001b[1;32m      <a href='vscode-notebook-cell:/media/weverton/D/Dev/pythonDev/Data%20Science%20and%20ML/robocup/Robocup.ipynb#Y102sZmlsZQ%3D%3D?line=3'>4</a>\u001b[0m cm\u001b[39m.\u001b[39mscore(X_robocup_teste, y_robocup_teste)\n",
            "\u001b[0;31mNameError\u001b[0m: name 'arvore_credit' is not defined"
          ]
        }
      ],
      "source": [
        "# Matriz de confunção\n",
        "cm = ConfusionMatrix(arvore_credit)\n",
        "cm.fit(X_robocup_treinamento, y_robocup_treinamento)\n",
        "cm.score(X_robocup_teste, y_robocup_teste)"
      ]
    },
    {
      "cell_type": "code",
      "execution_count": null,
      "metadata": {
        "colab": {
          "base_uri": "https://localhost:8080/"
        },
        "id": "TOKN0sCQejMA",
        "outputId": "f1a482ab-2fb5-4ebc-c7ed-a9b2ccaf8931"
      },
      "outputs": [
        {
          "name": "stdout",
          "output_type": "stream",
          "text": [
            "              precision    recall  f1-score   support\n",
            "\n",
            "           0       1.00      1.00      1.00        28\n",
            "           1       1.00      1.00      1.00        10\n",
            "\n",
            "    accuracy                           1.00        38\n",
            "   macro avg       1.00      1.00      1.00        38\n",
            "weighted avg       1.00      1.00      1.00        38\n",
            "\n"
          ]
        }
      ],
      "source": [
        "# Metricas do modelo\n",
        "print(classification_report(y_robocup_teste, previsoes))"
      ]
    },
    {
      "cell_type": "code",
      "execution_count": null,
      "metadata": {
        "colab": {
          "base_uri": "https://localhost:8080/"
        },
        "id": "qbIHsNpWfU9F",
        "outputId": "304a36a6-7747-4d09-c706-6242ff438797"
      },
      "outputs": [
        {
          "data": {
            "text/plain": [
              "array([0, 1])"
            ]
          },
          "execution_count": 69,
          "metadata": {},
          "output_type": "execute_result"
        }
      ],
      "source": [
        "# Valores do atributo classe\n",
        "arvore_credit.classes_"
      ]
    },
    {
      "cell_type": "code",
      "execution_count": null,
      "metadata": {
        "colab": {
          "base_uri": "https://localhost:8080/",
          "height": 831
        },
        "id": "OaEECZFwfM5A",
        "outputId": "6c7e87df-4bbc-4cc7-88e0-87666c9447ad"
      },
      "outputs": [
        {
          "data": {
            "image/png": "[encoded data removed]",
            "text/plain": [
              "<Figure size 2000x2000 with 1 Axes>"
            ]
          },
          "metadata": {},
          "output_type": "display_data"
        }
      ],
      "source": [
        "# Visualizando a árvore de decisão\n",
        "from sklearn import tree\n",
        "previsores = [\"distancia_do_gol\",\"oponentes_no_campo_de_visao\",\"companheiros_no_campo_de_visao\",\"stamina\",\"forca_do_Chute\",\"chute_direcao\"]\n",
        "fig, axes = plt.subplots(nrows = 1,ncols = 1,figsize = (20,20))\n",
        "tree.plot_tree(arvore_credit, feature_names=previsores, class_names=['0','1'], filled=True);\n",
        "fig.savefig('arvore_credit.png') # Salvando a png da árvore"
      ]
    },
    {
      "cell_type": "markdown",
      "metadata": {
        "id": "BOPQLz28jDi7"
      },
      "source": [
        "# Random Forest"
      ]
    },
    {
      "cell_type": "code",
      "execution_count": null,
      "metadata": {
        "id": "4WvAs54_jVEF"
      },
      "outputs": [],
      "source": [
        "from sklearn.ensemble import RandomForestClassifier"
      ]
    },
    {
      "cell_type": "code",
      "execution_count": null,
      "metadata": {
        "colab": {
          "base_uri": "https://localhost:8080/",
          "height": 74
        },
        "id": "TERGTyNwju4t",
        "outputId": "5ffbae7b-b8f5-484a-e97e-facbdd522f84"
      },
      "outputs": [
        {
          "data": {
            "text/html": [
              "<style>#sk-container-id-2 {color: black;background-color: white;}#sk-container-id-2 pre{padding: 0;}#sk-container-id-2 div.sk-toggleable {background-color: white;}#sk-container-id-2 label.sk-toggleable__label {cursor: pointer;display: block;width: 100%;margin-bottom: 0;padding: 0.3em;box-sizing: border-box;text-align: center;}#sk-container-id-2 label.sk-toggleable__label-arrow:before {content: \"▸\";float: left;margin-right: 0.25em;color: #696969;}#sk-container-id-2 label.sk-toggleable__label-arrow:hover:before {color: black;}#sk-container-id-2 div.sk-estimator:hover label.sk-toggleable__label-arrow:before {color: black;}#sk-container-id-2 div.sk-toggleable__content {max-height: 0;max-width: 0;overflow: hidden;text-align: left;background-color: #f0f8ff;}#sk-container-id-2 div.sk-toggleable__content pre {margin: 0.2em;color: black;border-radius: 0.25em;background-color: #f0f8ff;}#sk-container-id-2 input.sk-toggleable__control:checked~div.sk-toggleable__content {max-height: 200px;max-width: 100%;overflow: auto;}#sk-container-id-2 input.sk-toggleable__control:checked~label.sk-toggleable__label-arrow:before {content: \"▾\";}#sk-container-id-2 div.sk-estimator input.sk-toggleable__control:checked~label.sk-toggleable__label {background-color: #d4ebff;}#sk-container-id-2 div.sk-label input.sk-toggleable__control:checked~label.sk-toggleable__label {background-color: #d4ebff;}#sk-container-id-2 input.sk-hidden--visually {border: 0;clip: rect(1px 1px 1px 1px);clip: rect(1px, 1px, 1px, 1px);height: 1px;margin: -1px;overflow: hidden;padding: 0;position: absolute;width: 1px;}#sk-container-id-2 div.sk-estimator {font-family: monospace;background-color: #f0f8ff;border: 1px dotted black;border-radius: 0.25em;box-sizing: border-box;margin-bottom: 0.5em;}#sk-container-id-2 div.sk-estimator:hover {background-color: #d4ebff;}#sk-container-id-2 div.sk-parallel-item::after {content: \"\";width: 100%;border-bottom: 1px solid gray;flex-grow: 1;}#sk-container-id-2 div.sk-label:hover label.sk-toggleable__label {background-color: #d4ebff;}#sk-container-id-2 div.sk-serial::before {content: \"\";position: absolute;border-left: 1px solid gray;box-sizing: border-box;top: 0;bottom: 0;left: 50%;z-index: 0;}#sk-container-id-2 div.sk-serial {display: flex;flex-direction: column;align-items: center;background-color: white;padding-right: 0.2em;padding-left: 0.2em;position: relative;}#sk-container-id-2 div.sk-item {position: relative;z-index: 1;}#sk-container-id-2 div.sk-parallel {display: flex;align-items: stretch;justify-content: center;background-color: white;position: relative;}#sk-container-id-2 div.sk-item::before, #sk-container-id-2 div.sk-parallel-item::before {content: \"\";position: absolute;border-left: 1px solid gray;box-sizing: border-box;top: 0;bottom: 0;left: 50%;z-index: -1;}#sk-container-id-2 div.sk-parallel-item {display: flex;flex-direction: column;z-index: 1;position: relative;background-color: white;}#sk-container-id-2 div.sk-parallel-item:first-child::after {align-self: flex-end;width: 50%;}#sk-container-id-2 div.sk-parallel-item:last-child::after {align-self: flex-start;width: 50%;}#sk-container-id-2 div.sk-parallel-item:only-child::after {width: 0;}#sk-container-id-2 div.sk-dashed-wrapped {border: 1px dashed gray;margin: 0 0.4em 0.5em 0.4em;box-sizing: border-box;padding-bottom: 0.4em;background-color: white;}#sk-container-id-2 div.sk-label label {font-family: monospace;font-weight: bold;display: inline-block;line-height: 1.2em;}#sk-container-id-2 div.sk-label-container {text-align: center;}#sk-container-id-2 div.sk-container {/* jupyter's `normalize.less` sets `[hidden] { display: none; }` but bootstrap.min.css set `[hidden] { display: none !important; }` so we also need the `!important` here to be able to override the default hidden behavior on the sphinx rendered scikit-learn.org. See: https://github.com/scikit-learn/scikit-learn/issues/21755 */display: inline-block !important;position: relative;}#sk-container-id-2 div.sk-text-repr-fallback {display: none;}</style><div id=\"sk-container-id-2\" class=\"sk-top-container\"><div class=\"sk-text-repr-fallback\"><pre>RandomForestClassifier(criterion=&#x27;entropy&#x27;, n_estimators=40, random_state=0)</pre><b>In a Jupyter environment, please rerun this cell to show the HTML representation or trust the notebook. <br />On GitHub, the HTML representation is unable to render, please try loading this page with nbviewer.org.</b></div><div class=\"sk-container\" hidden><div class=\"sk-item\"><div class=\"sk-estimator sk-toggleable\"><input class=\"sk-toggleable__control sk-hidden--visually\" id=\"sk-estimator-id-2\" type=\"checkbox\" checked><label for=\"sk-estimator-id-2\" class=\"sk-toggleable__label sk-toggleable__label-arrow\">RandomForestClassifier</label><div class=\"sk-toggleable__content\"><pre>RandomForestClassifier(criterion=&#x27;entropy&#x27;, n_estimators=40, random_state=0)</pre></div></div></div></div></div>"
            ],
            "text/plain": [
              "RandomForestClassifier(criterion='entropy', n_estimators=40, random_state=0)"
            ]
          },
          "execution_count": 72,
          "metadata": {},
          "output_type": "execute_result"
        }
      ],
      "source": [
        "random_forest_robocup = RandomForestClassifier(n_estimators=40, criterion='entropy', random_state = 0)\n",
        "random_forest_robocup.fit(X_robocup_treinamento, y_robocup_treinamento)"
      ]
    },
    {
      "cell_type": "code",
      "execution_count": null,
      "metadata": {
        "colab": {
          "base_uri": "https://localhost:8080/"
        },
        "id": "oxJBpA5rkO7o",
        "outputId": "33bbf14a-779d-440a-bf62-13851ac90290"
      },
      "outputs": [
        {
          "data": {
            "text/plain": [
              "array([0, 0, 0, 0, 0, 1, 0, 0, 0, 0, 1, 0, 0, 1, 0, 0, 0, 0, 0, 0, 1, 0,\n",
              "       1, 0, 0, 0, 0, 1, 1, 0, 0, 1, 0, 0, 0, 0, 1, 1])"
            ]
          },
          "execution_count": 73,
          "metadata": {},
          "output_type": "execute_result"
        }
      ],
      "source": [
        "# Aplicando o modelo de random forest\n",
        "previsoes = random_forest_robocup.predict(X_robocup_teste)\n",
        "previsoes"
      ]
    },
    {
      "cell_type": "code",
      "execution_count": null,
      "metadata": {
        "colab": {
          "base_uri": "https://localhost:8080/"
        },
        "id": "luiG5NigkX2R",
        "outputId": "94e72da6-d854-4e0a-a3af-6425adbb36af"
      },
      "outputs": [
        {
          "data": {
            "text/plain": [
              "array([0, 0, 0, 0, 0, 1, 0, 0, 0, 0, 1, 0, 0, 1, 0, 0, 0, 0, 0, 0, 1, 0,\n",
              "       1, 0, 0, 0, 0, 1, 1, 0, 0, 1, 0, 0, 0, 0, 1, 1])"
            ]
          },
          "execution_count": 74,
          "metadata": {},
          "output_type": "execute_result"
        }
      ],
      "source": [
        "y_robocup_teste"
      ]
    },
    {
      "cell_type": "code",
      "execution_count": null,
      "metadata": {
        "colab": {
          "base_uri": "https://localhost:8080/"
        },
        "id": "nzWIt3WikfcF",
        "outputId": "41a8dbfd-aec2-4990-861e-d741f379d403"
      },
      "outputs": [
        {
          "data": {
            "text/plain": [
              "1.0"
            ]
          },
          "execution_count": 75,
          "metadata": {},
          "output_type": "execute_result"
        }
      ],
      "source": [
        "accuracy_score(y_robocup_teste, previsoes)"
      ]
    },
    {
      "cell_type": "code",
      "execution_count": null,
      "metadata": {
        "colab": {
          "base_uri": "https://localhost:8080/",
          "height": 496
        },
        "id": "PZXPd4lklYLP",
        "outputId": "71769ff8-5c45-40f2-fc3d-b03aa36e2a2f"
      },
      "outputs": [
        {
          "data": {
            "text/plain": [
              "1.0"
            ]
          },
          "execution_count": 76,
          "metadata": {},
          "output_type": "execute_result"
        },
        {
          "data": {
            "image/png": "[encoded data removed]",
            "text/plain": [
              "<Figure size 800x550 with 1 Axes>"
            ]
          },
          "metadata": {},
          "output_type": "display_data"
        }
      ],
      "source": [
        "cm = ConfusionMatrix(random_forest_robocup)\n",
        "cm.fit(X_robocup_treinamento, y_robocup_treinamento)\n",
        "cm.score(X_robocup_teste, y_robocup_teste)"
      ]
    },
    {
      "cell_type": "code",
      "execution_count": null,
      "metadata": {
        "colab": {
          "base_uri": "https://localhost:8080/"
        },
        "id": "3pf7Mx6OloBa",
        "outputId": "7a1aa972-edb3-4408-db36-4e3da301e5d4"
      },
      "outputs": [
        {
          "name": "stdout",
          "output_type": "stream",
          "text": [
            "              precision    recall  f1-score   support\n",
            "\n",
            "           0       1.00      1.00      1.00        28\n",
            "           1       1.00      1.00      1.00        10\n",
            "\n",
            "    accuracy                           1.00        38\n",
            "   macro avg       1.00      1.00      1.00        38\n",
            "weighted avg       1.00      1.00      1.00        38\n",
            "\n"
          ]
        }
      ],
      "source": [
        "print(classification_report(y_robocup_teste, previsoes))"
      ]
    },
    {
      "cell_type": "markdown",
      "metadata": {
        "id": "fSNUSSeOhqAd"
      },
      "source": [
        "# Redes neurais artificiais"
      ]
    },
    {
      "cell_type": "code",
      "execution_count": null,
      "metadata": {
        "id": "FvdcLLQLnFIW"
      },
      "outputs": [],
      "source": [
        "from sklearn.neural_network import MLPClassifier"
      ]
    },
    {
      "cell_type": "code",
      "execution_count": null,
      "metadata": {
        "colab": {
          "base_uri": "https://localhost:8080/"
        },
        "id": "Df5EfDyjnAB6",
        "outputId": "ac4d8b07-781a-4e32-9527-93741225fab2"
      },
      "outputs": [
        {
          "data": {
            "text/plain": [
              "((38, 6), (38,))"
            ]
          },
          "execution_count": 79,
          "metadata": {},
          "output_type": "execute_result"
        }
      ],
      "source": [
        "X_robocup_teste.shape, y_robocup_teste.shape"
      ]
    },
    {
      "cell_type": "code",
      "execution_count": null,
      "metadata": {
        "colab": {
          "base_uri": "https://localhost:8080/",
          "height": 1000
        },
        "id": "BCGNa_d8nYOf",
        "outputId": "4419f4b9-490d-4507-8ab8-65ed9a24eaf5"
      },
      "outputs": [
        {
          "name": "stdout",
          "output_type": "stream",
          "text": [
            "Iteration 1, loss = 0.79271775\n",
            "Iteration 2, loss = 0.77213950\n",
            "Iteration 3, loss = 0.75306168\n",
            "Iteration 4, loss = 0.73445968\n",
            "Iteration 5, loss = 0.71656598\n",
            "Iteration 6, loss = 0.69911195\n",
            "Iteration 7, loss = 0.68223774\n",
            "Iteration 8, loss = 0.66621291\n",
            "Iteration 9, loss = 0.65081002\n",
            "Iteration 10, loss = 0.63632910\n",
            "Iteration 11, loss = 0.62228107\n",
            "Iteration 12, loss = 0.60915785\n",
            "Iteration 13, loss = 0.59643707\n",
            "Iteration 14, loss = 0.58395126\n",
            "Iteration 15, loss = 0.57189252\n",
            "Iteration 16, loss = 0.55999770\n",
            "Iteration 17, loss = 0.54807321\n",
            "Iteration 18, loss = 0.53648998\n",
            "Iteration 19, loss = 0.52489733\n",
            "Iteration 20, loss = 0.51345771\n",
            "Iteration 21, loss = 0.50215080\n",
            "Iteration 22, loss = 0.49102276\n",
            "Iteration 23, loss = 0.47971367\n",
            "Iteration 24, loss = 0.46844357\n",
            "Iteration 25, loss = 0.45731180\n",
            "Iteration 26, loss = 0.44612094\n",
            "Iteration 27, loss = 0.43500202\n",
            "Iteration 28, loss = 0.42370758\n",
            "Iteration 29, loss = 0.41239275\n",
            "Iteration 30, loss = 0.40110017\n",
            "Iteration 31, loss = 0.38958309\n",
            "Iteration 32, loss = 0.37835460\n",
            "Iteration 33, loss = 0.36679701\n",
            "Iteration 34, loss = 0.35549168\n",
            "Iteration 35, loss = 0.34444249\n",
            "Iteration 36, loss = 0.33326546\n",
            "Iteration 37, loss = 0.32246346\n",
            "Iteration 38, loss = 0.31171291\n",
            "Iteration 39, loss = 0.30105175\n",
            "Iteration 40, loss = 0.29088967\n",
            "Iteration 41, loss = 0.28091092\n",
            "Iteration 42, loss = 0.27127823\n",
            "Iteration 43, loss = 0.26197525\n",
            "Iteration 44, loss = 0.25283347\n",
            "Iteration 45, loss = 0.24416732\n",
            "Iteration 46, loss = 0.23553395\n",
            "Iteration 47, loss = 0.22692902\n",
            "Iteration 48, loss = 0.21865152\n",
            "Iteration 49, loss = 0.21067816\n",
            "Iteration 50, loss = 0.20305075\n",
            "Iteration 51, loss = 0.19564701\n",
            "Iteration 52, loss = 0.18879609\n",
            "Iteration 53, loss = 0.18217982\n",
            "Iteration 54, loss = 0.17590822\n",
            "Iteration 55, loss = 0.16979837\n",
            "Iteration 56, loss = 0.16418256\n",
            "Iteration 57, loss = 0.15884351\n",
            "Iteration 58, loss = 0.15368950\n",
            "Iteration 59, loss = 0.14885903\n",
            "Iteration 60, loss = 0.14421723\n",
            "Iteration 61, loss = 0.13995810\n",
            "Iteration 62, loss = 0.13567169\n",
            "Iteration 63, loss = 0.13186110\n",
            "Iteration 64, loss = 0.12802279\n",
            "Iteration 65, loss = 0.12443790\n",
            "Iteration 66, loss = 0.12100892\n",
            "Iteration 67, loss = 0.11779503\n",
            "Iteration 68, loss = 0.11464251\n",
            "Iteration 69, loss = 0.11164447\n",
            "Iteration 70, loss = 0.10883559\n",
            "Iteration 71, loss = 0.10611951\n",
            "Iteration 72, loss = 0.10339142\n",
            "Iteration 73, loss = 0.10095650\n",
            "Iteration 74, loss = 0.09842620\n",
            "Iteration 75, loss = 0.09613897\n",
            "Iteration 76, loss = 0.09383011\n",
            "Iteration 77, loss = 0.09167323\n",
            "Iteration 78, loss = 0.08953311\n",
            "Iteration 79, loss = 0.08741757\n",
            "Iteration 80, loss = 0.08543115\n",
            "Iteration 81, loss = 0.08346435\n",
            "Iteration 82, loss = 0.08151307\n",
            "Iteration 83, loss = 0.07971184\n",
            "Iteration 84, loss = 0.07792335\n",
            "Iteration 85, loss = 0.07620929\n",
            "Iteration 86, loss = 0.07450873\n",
            "Iteration 87, loss = 0.07286383\n",
            "Iteration 88, loss = 0.07128634\n",
            "Iteration 89, loss = 0.06972597\n",
            "Iteration 90, loss = 0.06819304\n",
            "Iteration 91, loss = 0.06678718\n",
            "Iteration 92, loss = 0.06542272\n",
            "Iteration 93, loss = 0.06412256\n",
            "Iteration 94, loss = 0.06274852\n",
            "Iteration 95, loss = 0.06149044\n",
            "Iteration 96, loss = 0.06020839\n",
            "Iteration 97, loss = 0.05900826\n",
            "Iteration 98, loss = 0.05780708\n",
            "Iteration 99, loss = 0.05670889\n",
            "Iteration 100, loss = 0.05558818\n",
            "Iteration 101, loss = 0.05445158\n",
            "Iteration 102, loss = 0.05341877\n",
            "Iteration 103, loss = 0.05242583\n",
            "Iteration 104, loss = 0.05146738\n",
            "Iteration 105, loss = 0.05052417\n",
            "Iteration 106, loss = 0.04957739\n",
            "Iteration 107, loss = 0.04866063\n",
            "Iteration 108, loss = 0.04781093\n",
            "Iteration 109, loss = 0.04694999\n",
            "Iteration 110, loss = 0.04612554\n",
            "Iteration 111, loss = 0.04525896\n",
            "Iteration 112, loss = 0.04449048\n",
            "Iteration 113, loss = 0.04370495\n",
            "Iteration 114, loss = 0.04293779\n",
            "Iteration 115, loss = 0.04220798\n",
            "Iteration 116, loss = 0.04148706\n",
            "Iteration 117, loss = 0.04079168\n",
            "Iteration 118, loss = 0.04010471\n",
            "Iteration 119, loss = 0.03945213\n",
            "Iteration 120, loss = 0.03878046\n",
            "Iteration 121, loss = 0.03817801\n",
            "Iteration 122, loss = 0.03755338\n",
            "Iteration 123, loss = 0.03692885\n",
            "Iteration 124, loss = 0.03632837\n",
            "Iteration 125, loss = 0.03573158\n",
            "Iteration 126, loss = 0.03513726\n",
            "Iteration 127, loss = 0.03457617\n",
            "Iteration 128, loss = 0.03403476\n",
            "Iteration 129, loss = 0.03349009\n",
            "Iteration 130, loss = 0.03296064\n",
            "Iteration 131, loss = 0.03240370\n",
            "Iteration 132, loss = 0.03188801\n",
            "Iteration 133, loss = 0.03133401\n",
            "Iteration 134, loss = 0.03082153\n",
            "Iteration 135, loss = 0.03031148\n",
            "Iteration 136, loss = 0.02978180\n",
            "Iteration 137, loss = 0.02927919\n",
            "Iteration 138, loss = 0.02878088\n",
            "Iteration 139, loss = 0.02831283\n",
            "Iteration 140, loss = 0.02785928\n",
            "Iteration 141, loss = 0.02741368\n",
            "Iteration 142, loss = 0.02698413\n",
            "Iteration 143, loss = 0.02654612\n",
            "Iteration 144, loss = 0.02614924\n",
            "Iteration 145, loss = 0.02575050\n",
            "Iteration 146, loss = 0.02534533\n",
            "Iteration 147, loss = 0.02497829\n",
            "Iteration 148, loss = 0.02461866\n",
            "Iteration 149, loss = 0.02424953\n",
            "Iteration 150, loss = 0.02391745\n",
            "Iteration 151, loss = 0.02357776\n",
            "Iteration 152, loss = 0.02324931\n",
            "Iteration 153, loss = 0.02294116\n",
            "Iteration 154, loss = 0.02261382\n",
            "Iteration 155, loss = 0.02232591\n",
            "Iteration 156, loss = 0.02202310\n",
            "Iteration 157, loss = 0.02174578\n",
            "Iteration 158, loss = 0.02147036\n",
            "Iteration 159, loss = 0.02119376\n",
            "Iteration 160, loss = 0.02091692\n",
            "Iteration 161, loss = 0.02068082\n",
            "Iteration 162, loss = 0.02041954\n",
            "Iteration 163, loss = 0.02019212\n",
            "Iteration 164, loss = 0.01995084\n",
            "Iteration 165, loss = 0.01972268\n",
            "Iteration 166, loss = 0.01948099\n",
            "Iteration 167, loss = 0.01926900\n",
            "Iteration 168, loss = 0.01904438\n",
            "Iteration 169, loss = 0.01883393\n",
            "Iteration 170, loss = 0.01863609\n",
            "Iteration 171, loss = 0.01842756\n",
            "Iteration 172, loss = 0.01822304\n",
            "Iteration 173, loss = 0.01804126\n",
            "Iteration 174, loss = 0.01784442\n",
            "Iteration 175, loss = 0.01765346\n",
            "Iteration 176, loss = 0.01746436\n",
            "Iteration 177, loss = 0.01728865\n",
            "Iteration 178, loss = 0.01712028\n",
            "Iteration 179, loss = 0.01693858\n",
            "Iteration 180, loss = 0.01676254\n",
            "Iteration 181, loss = 0.01659521\n",
            "Iteration 182, loss = 0.01642229\n",
            "Iteration 183, loss = 0.01625860\n",
            "Iteration 184, loss = 0.01608304\n",
            "Iteration 185, loss = 0.01593093\n",
            "Iteration 186, loss = 0.01578574\n",
            "Iteration 187, loss = 0.01561077\n",
            "Iteration 188, loss = 0.01548444\n",
            "Iteration 189, loss = 0.01531161\n",
            "Iteration 190, loss = 0.01517973\n",
            "Iteration 191, loss = 0.01503261\n",
            "Iteration 192, loss = 0.01486544\n",
            "Iteration 193, loss = 0.01473190\n",
            "Iteration 194, loss = 0.01460459\n",
            "Iteration 195, loss = 0.01444868\n",
            "Iteration 196, loss = 0.01430983\n",
            "Iteration 197, loss = 0.01417671\n",
            "Iteration 198, loss = 0.01406202\n",
            "Iteration 199, loss = 0.01392253\n",
            "Iteration 200, loss = 0.01377007\n",
            "Iteration 201, loss = 0.01364046\n",
            "Iteration 202, loss = 0.01353400\n",
            "Iteration 203, loss = 0.01340271\n",
            "Iteration 204, loss = 0.01327378\n",
            "Iteration 205, loss = 0.01315096\n",
            "Iteration 206, loss = 0.01302626\n",
            "Iteration 207, loss = 0.01288947\n",
            "Iteration 208, loss = 0.01277789\n",
            "Iteration 209, loss = 0.01264779\n",
            "Iteration 210, loss = 0.01249929\n",
            "Iteration 211, loss = 0.01236997\n",
            "Iteration 212, loss = 0.01226169\n",
            "Iteration 213, loss = 0.01211198\n",
            "Iteration 214, loss = 0.01197184\n",
            "Iteration 215, loss = 0.01185964\n",
            "Iteration 216, loss = 0.01170830\n",
            "Iteration 217, loss = 0.01153521\n",
            "Iteration 218, loss = 0.01139492\n",
            "Iteration 219, loss = 0.01127939\n",
            "Iteration 220, loss = 0.01113595\n",
            "Iteration 221, loss = 0.01096292\n",
            "Iteration 222, loss = 0.01085800\n",
            "Iteration 223, loss = 0.01069061\n",
            "Iteration 224, loss = 0.01055476\n",
            "Iteration 225, loss = 0.01045451\n",
            "Iteration 226, loss = 0.01032576\n",
            "Iteration 227, loss = 0.01020801\n",
            "Iteration 228, loss = 0.01009232\n",
            "Iteration 229, loss = 0.00997977\n",
            "Iteration 230, loss = 0.00984618\n",
            "Iteration 231, loss = 0.00976067\n",
            "Iteration 232, loss = 0.00964833\n",
            "Iteration 233, loss = 0.00951827\n",
            "Iteration 234, loss = 0.00941227\n",
            "Iteration 235, loss = 0.00932738\n",
            "Iteration 236, loss = 0.00921681\n",
            "Iteration 237, loss = 0.00910987\n",
            "Iteration 238, loss = 0.00898571\n",
            "Iteration 239, loss = 0.00890897\n",
            "Iteration 240, loss = 0.00878939\n",
            "Iteration 241, loss = 0.00871127\n",
            "Iteration 242, loss = 0.00859317\n",
            "Iteration 243, loss = 0.00849987\n",
            "Iteration 244, loss = 0.00843088\n",
            "Iteration 245, loss = 0.00831327\n",
            "Iteration 246, loss = 0.00820926\n",
            "Iteration 247, loss = 0.00813529\n",
            "Iteration 248, loss = 0.00802619\n",
            "Iteration 249, loss = 0.00788948\n",
            "Iteration 250, loss = 0.00778555\n",
            "Iteration 251, loss = 0.00771270\n",
            "Iteration 252, loss = 0.00757645\n",
            "Iteration 253, loss = 0.00747420\n",
            "Iteration 254, loss = 0.00737553\n",
            "Iteration 255, loss = 0.00730567\n",
            "Iteration 256, loss = 0.00720325\n",
            "Iteration 257, loss = 0.00710420\n",
            "Iteration 258, loss = 0.00701682\n",
            "Iteration 259, loss = 0.00690995\n",
            "Iteration 260, loss = 0.00682758\n",
            "Iteration 261, loss = 0.00674341\n",
            "Iteration 262, loss = 0.00668451\n",
            "Iteration 263, loss = 0.00659980\n",
            "Iteration 264, loss = 0.00651858\n",
            "Iteration 265, loss = 0.00642054\n",
            "Iteration 266, loss = 0.00635963\n",
            "Iteration 267, loss = 0.00625509\n",
            "Iteration 268, loss = 0.00619459\n",
            "Iteration 269, loss = 0.00609101\n",
            "Iteration 270, loss = 0.00601102\n",
            "Iteration 271, loss = 0.00593068\n",
            "Iteration 272, loss = 0.00584878\n",
            "Iteration 273, loss = 0.00579429\n",
            "Iteration 274, loss = 0.00569049\n",
            "Iteration 275, loss = 0.00561433\n",
            "Iteration 276, loss = 0.00556181\n",
            "Iteration 277, loss = 0.00546679\n",
            "Iteration 278, loss = 0.00539828\n",
            "Iteration 279, loss = 0.00533160\n",
            "Iteration 280, loss = 0.00528404\n",
            "Iteration 281, loss = 0.00520318\n",
            "Iteration 282, loss = 0.00514104\n",
            "Iteration 283, loss = 0.00509573\n",
            "Iteration 284, loss = 0.00501947\n",
            "Iteration 285, loss = 0.00497614\n",
            "Iteration 286, loss = 0.00491675\n",
            "Iteration 287, loss = 0.00484827\n",
            "Iteration 288, loss = 0.00479448\n",
            "Iteration 289, loss = 0.00475283\n",
            "Iteration 290, loss = 0.00468782\n",
            "Iteration 291, loss = 0.00464714\n",
            "Iteration 292, loss = 0.00459549\n",
            "Iteration 293, loss = 0.00454690\n",
            "Iteration 294, loss = 0.00449187\n",
            "Iteration 295, loss = 0.00445521\n",
            "Iteration 296, loss = 0.00440905\n",
            "Iteration 297, loss = 0.00436407\n",
            "Iteration 298, loss = 0.00432044\n",
            "Iteration 299, loss = 0.00427853\n",
            "Iteration 300, loss = 0.00423737\n",
            "Iteration 301, loss = 0.00419604\n",
            "Iteration 302, loss = 0.00415744\n",
            "Iteration 303, loss = 0.00411778\n",
            "Iteration 304, loss = 0.00407351\n",
            "Iteration 305, loss = 0.00404304\n",
            "Iteration 306, loss = 0.00400562\n",
            "Iteration 307, loss = 0.00396135\n",
            "Iteration 308, loss = 0.00392485\n",
            "Iteration 309, loss = 0.00388814\n",
            "Iteration 310, loss = 0.00385028\n",
            "Iteration 311, loss = 0.00382202\n",
            "Iteration 312, loss = 0.00377762\n",
            "Iteration 313, loss = 0.00374861\n",
            "Iteration 314, loss = 0.00370500\n",
            "Iteration 315, loss = 0.00367714\n",
            "Iteration 316, loss = 0.00363565\n",
            "Iteration 317, loss = 0.00360831\n",
            "Iteration 318, loss = 0.00357361\n",
            "Iteration 319, loss = 0.00353445\n",
            "Iteration 320, loss = 0.00350819\n",
            "Iteration 321, loss = 0.00347623\n",
            "Iteration 322, loss = 0.00344368\n",
            "Iteration 323, loss = 0.00340749\n",
            "Iteration 324, loss = 0.00338308\n",
            "Iteration 325, loss = 0.00335268\n",
            "Iteration 326, loss = 0.00332189\n",
            "Iteration 327, loss = 0.00329287\n",
            "Iteration 328, loss = 0.00325919\n",
            "Iteration 329, loss = 0.00323672\n",
            "Iteration 330, loss = 0.00320764\n",
            "Iteration 331, loss = 0.00317477\n",
            "Iteration 332, loss = 0.00314785\n",
            "Iteration 333, loss = 0.00312605\n",
            "Iteration 334, loss = 0.00309290\n",
            "Iteration 335, loss = 0.00307128\n",
            "Iteration 336, loss = 0.00303860\n",
            "Iteration 337, loss = 0.00301744\n",
            "Iteration 338, loss = 0.00299037\n",
            "Iteration 339, loss = 0.00296444\n",
            "Iteration 340, loss = 0.00293488\n",
            "Iteration 341, loss = 0.00291479\n",
            "Iteration 342, loss = 0.00288577\n",
            "Iteration 343, loss = 0.00286519\n",
            "Iteration 344, loss = 0.00284083\n",
            "Iteration 345, loss = 0.00281700\n",
            "Iteration 346, loss = 0.00278968\n",
            "Iteration 347, loss = 0.00277113\n",
            "Iteration 348, loss = 0.00274333\n",
            "Iteration 349, loss = 0.00272544\n",
            "Iteration 350, loss = 0.00270286\n",
            "Iteration 351, loss = 0.00267684\n",
            "Iteration 352, loss = 0.00265899\n",
            "Iteration 353, loss = 0.00263300\n",
            "Iteration 354, loss = 0.00261577\n",
            "Iteration 355, loss = 0.00259065\n",
            "Iteration 356, loss = 0.00257351\n",
            "Iteration 357, loss = 0.00255273\n",
            "Iteration 358, loss = 0.00252831\n",
            "Iteration 359, loss = 0.00250817\n",
            "Iteration 360, loss = 0.00248784\n",
            "Iteration 361, loss = 0.00247190\n",
            "Iteration 362, loss = 0.00244702\n",
            "Iteration 363, loss = 0.00243185\n",
            "Iteration 364, loss = 0.00241161\n",
            "Iteration 365, loss = 0.00238804\n",
            "Iteration 366, loss = 0.00236808\n",
            "Iteration 367, loss = 0.00235275\n",
            "Iteration 368, loss = 0.00233200\n",
            "Iteration 369, loss = 0.00230869\n",
            "Iteration 370, loss = 0.00228942\n",
            "Iteration 371, loss = 0.00227457\n",
            "Iteration 372, loss = 0.00225503\n",
            "Iteration 373, loss = 0.00223236\n",
            "Iteration 374, loss = 0.00221809\n",
            "Iteration 375, loss = 0.00219949\n",
            "Iteration 376, loss = 0.00218141\n",
            "Iteration 377, loss = 0.00216060\n",
            "Iteration 378, loss = 0.00214688\n",
            "Iteration 379, loss = 0.00212689\n",
            "Iteration 380, loss = 0.00210941\n",
            "Iteration 381, loss = 0.00209625\n",
            "Iteration 382, loss = 0.00207591\n",
            "Iteration 383, loss = 0.00206307\n",
            "Iteration 384, loss = 0.00204343\n",
            "Iteration 385, loss = 0.00202691\n",
            "Iteration 386, loss = 0.00201425\n",
            "Iteration 387, loss = 0.00199452\n",
            "Iteration 388, loss = 0.00197942\n",
            "Iteration 389, loss = 0.00196673\n",
            "Iteration 390, loss = 0.00195099\n",
            "Iteration 391, loss = 0.00193231\n",
            "Iteration 392, loss = 0.00191802\n",
            "Iteration 393, loss = 0.00190298\n",
            "Iteration 394, loss = 0.00188784\n",
            "Iteration 395, loss = 0.00187313\n",
            "Iteration 396, loss = 0.00185851\n",
            "Iteration 397, loss = 0.00184375\n",
            "Iteration 398, loss = 0.00183238\n",
            "Iteration 399, loss = 0.00181788\n",
            "Iteration 400, loss = 0.00180149\n",
            "Iteration 401, loss = 0.00179041\n",
            "Iteration 402, loss = 0.00177691\n",
            "Iteration 403, loss = 0.00176144\n",
            "Iteration 404, loss = 0.00175133\n",
            "Iteration 405, loss = 0.00173840\n",
            "Iteration 406, loss = 0.00172345\n",
            "Iteration 407, loss = 0.00171347\n",
            "Iteration 408, loss = 0.00170147\n",
            "Iteration 409, loss = 0.00168723\n",
            "Iteration 410, loss = 0.00167784\n",
            "Iteration 411, loss = 0.00166406\n",
            "Iteration 412, loss = 0.00165489\n",
            "Iteration 413, loss = 0.00164297\n",
            "Iteration 414, loss = 0.00162975\n",
            "Iteration 415, loss = 0.00161881\n",
            "Iteration 416, loss = 0.00160942\n",
            "Iteration 417, loss = 0.00159819\n",
            "Iteration 418, loss = 0.00158545\n",
            "Iteration 419, loss = 0.00157634\n",
            "Iteration 420, loss = 0.00156571\n",
            "Iteration 421, loss = 0.00155518\n",
            "Iteration 422, loss = 0.00154290\n",
            "Iteration 423, loss = 0.00153287\n",
            "Iteration 424, loss = 0.00152487\n",
            "Iteration 425, loss = 0.00151256\n",
            "Iteration 426, loss = 0.00150435\n",
            "Iteration 427, loss = 0.00149243\n",
            "Iteration 428, loss = 0.00148220\n",
            "Iteration 429, loss = 0.00147226\n",
            "Iteration 430, loss = 0.00146447\n",
            "Iteration 431, loss = 0.00145429\n",
            "Iteration 432, loss = 0.00144447\n",
            "Iteration 433, loss = 0.00143515\n",
            "Iteration 434, loss = 0.00142556\n",
            "Iteration 435, loss = 0.00141624\n",
            "Iteration 436, loss = 0.00140780\n",
            "Iteration 437, loss = 0.00139918\n",
            "Iteration 438, loss = 0.00139021\n",
            "Iteration 439, loss = 0.00138172\n",
            "Iteration 440, loss = 0.00137335\n",
            "Iteration 441, loss = 0.00136377\n",
            "Iteration 442, loss = 0.00135547\n",
            "Training loss did not improve more than tol=0.000010 for 10 consecutive epochs. Stopping.\n"
          ]
        },
        {
          "data": {
            "text/html": [
              "<style>#sk-container-id-3 {color: black;background-color: white;}#sk-container-id-3 pre{padding: 0;}#sk-container-id-3 div.sk-toggleable {background-color: white;}#sk-container-id-3 label.sk-toggleable__label {cursor: pointer;display: block;width: 100%;margin-bottom: 0;padding: 0.3em;box-sizing: border-box;text-align: center;}#sk-container-id-3 label.sk-toggleable__label-arrow:before {content: \"▸\";float: left;margin-right: 0.25em;color: #696969;}#sk-container-id-3 label.sk-toggleable__label-arrow:hover:before {color: black;}#sk-container-id-3 div.sk-estimator:hover label.sk-toggleable__label-arrow:before {color: black;}#sk-container-id-3 div.sk-toggleable__content {max-height: 0;max-width: 0;overflow: hidden;text-align: left;background-color: #f0f8ff;}#sk-container-id-3 div.sk-toggleable__content pre {margin: 0.2em;color: black;border-radius: 0.25em;background-color: #f0f8ff;}#sk-container-id-3 input.sk-toggleable__control:checked~div.sk-toggleable__content {max-height: 200px;max-width: 100%;overflow: auto;}#sk-container-id-3 input.sk-toggleable__control:checked~label.sk-toggleable__label-arrow:before {content: \"▾\";}#sk-container-id-3 div.sk-estimator input.sk-toggleable__control:checked~label.sk-toggleable__label {background-color: #d4ebff;}#sk-container-id-3 div.sk-label input.sk-toggleable__control:checked~label.sk-toggleable__label {background-color: #d4ebff;}#sk-container-id-3 input.sk-hidden--visually {border: 0;clip: rect(1px 1px 1px 1px);clip: rect(1px, 1px, 1px, 1px);height: 1px;margin: -1px;overflow: hidden;padding: 0;position: absolute;width: 1px;}#sk-container-id-3 div.sk-estimator {font-family: monospace;background-color: #f0f8ff;border: 1px dotted black;border-radius: 0.25em;box-sizing: border-box;margin-bottom: 0.5em;}#sk-container-id-3 div.sk-estimator:hover {background-color: #d4ebff;}#sk-container-id-3 div.sk-parallel-item::after {content: \"\";width: 100%;border-bottom: 1px solid gray;flex-grow: 1;}#sk-container-id-3 div.sk-label:hover label.sk-toggleable__label {background-color: #d4ebff;}#sk-container-id-3 div.sk-serial::before {content: \"\";position: absolute;border-left: 1px solid gray;box-sizing: border-box;top: 0;bottom: 0;left: 50%;z-index: 0;}#sk-container-id-3 div.sk-serial {display: flex;flex-direction: column;align-items: center;background-color: white;padding-right: 0.2em;padding-left: 0.2em;position: relative;}#sk-container-id-3 div.sk-item {position: relative;z-index: 1;}#sk-container-id-3 div.sk-parallel {display: flex;align-items: stretch;justify-content: center;background-color: white;position: relative;}#sk-container-id-3 div.sk-item::before, #sk-container-id-3 div.sk-parallel-item::before {content: \"\";position: absolute;border-left: 1px solid gray;box-sizing: border-box;top: 0;bottom: 0;left: 50%;z-index: -1;}#sk-container-id-3 div.sk-parallel-item {display: flex;flex-direction: column;z-index: 1;position: relative;background-color: white;}#sk-container-id-3 div.sk-parallel-item:first-child::after {align-self: flex-end;width: 50%;}#sk-container-id-3 div.sk-parallel-item:last-child::after {align-self: flex-start;width: 50%;}#sk-container-id-3 div.sk-parallel-item:only-child::after {width: 0;}#sk-container-id-3 div.sk-dashed-wrapped {border: 1px dashed gray;margin: 0 0.4em 0.5em 0.4em;box-sizing: border-box;padding-bottom: 0.4em;background-color: white;}#sk-container-id-3 div.sk-label label {font-family: monospace;font-weight: bold;display: inline-block;line-height: 1.2em;}#sk-container-id-3 div.sk-label-container {text-align: center;}#sk-container-id-3 div.sk-container {/* jupyter's `normalize.less` sets `[hidden] { display: none; }` but bootstrap.min.css set `[hidden] { display: none !important; }` so we also need the `!important` here to be able to override the default hidden behavior on the sphinx rendered scikit-learn.org. See: https://github.com/scikit-learn/scikit-learn/issues/21755 */display: inline-block !important;position: relative;}#sk-container-id-3 div.sk-text-repr-fallback {display: none;}</style><div id=\"sk-container-id-3\" class=\"sk-top-container\"><div class=\"sk-text-repr-fallback\"><pre>MLPClassifier(hidden_layer_sizes=(20, 20), max_iter=1500, tol=1e-05,\n",
              "              verbose=True)</pre><b>In a Jupyter environment, please rerun this cell to show the HTML representation or trust the notebook. <br />On GitHub, the HTML representation is unable to render, please try loading this page with nbviewer.org.</b></div><div class=\"sk-container\" hidden><div class=\"sk-item\"><div class=\"sk-estimator sk-toggleable\"><input class=\"sk-toggleable__control sk-hidden--visually\" id=\"sk-estimator-id-3\" type=\"checkbox\" checked><label for=\"sk-estimator-id-3\" class=\"sk-toggleable__label sk-toggleable__label-arrow\">MLPClassifier</label><div class=\"sk-toggleable__content\"><pre>MLPClassifier(hidden_layer_sizes=(20, 20), max_iter=1500, tol=1e-05,\n",
              "              verbose=True)</pre></div></div></div></div></div>"
            ],
            "text/plain": [
              "MLPClassifier(hidden_layer_sizes=(20, 20), max_iter=1500, tol=1e-05,\n",
              "              verbose=True)"
            ]
          },
          "execution_count": 80,
          "metadata": {},
          "output_type": "execute_result"
        }
      ],
      "source": [
        "rede_neural_robocup = MLPClassifier(max_iter=1500, verbose=True, tol=0.0000100,\n",
        "                                   solver = 'adam', activation = 'relu',\n",
        "                                   hidden_layer_sizes = (20,20))\n",
        "rede_neural_robocup.fit(X_robocup_treinamento, y_robocup_treinamento)"
      ]
    },
    {
      "cell_type": "code",
      "execution_count": null,
      "metadata": {
        "colab": {
          "base_uri": "https://localhost:8080/"
        },
        "id": "Bmn64K7vqzx1",
        "outputId": "9edf4fcf-fa39-47b7-fc94-2e9b369cf329"
      },
      "outputs": [
        {
          "data": {
            "text/plain": [
              "array([0, 0, 0, 0, 0, 1, 0, 0, 0, 0, 1, 0, 0, 1, 0, 0, 0, 0, 0, 0, 1, 0,\n",
              "       1, 0, 0, 0, 0, 1, 1, 0, 0, 1, 0, 0, 0, 0, 1, 1])"
            ]
          },
          "execution_count": 81,
          "metadata": {},
          "output_type": "execute_result"
        }
      ],
      "source": [
        "previsoes = rede_neural_robocup.predict(X_robocup_teste)\n",
        "previsoes"
      ]
    },
    {
      "cell_type": "code",
      "execution_count": null,
      "metadata": {
        "colab": {
          "base_uri": "https://localhost:8080/"
        },
        "id": "AzFRj9riq9gc",
        "outputId": "17ca568a-a7f7-404d-eb33-5e66b51b4705"
      },
      "outputs": [
        {
          "data": {
            "text/plain": [
              "array([0, 0, 0, 0, 0, 1, 0, 0, 0, 0, 1, 0, 0, 1, 0, 0, 0, 0, 0, 0, 1, 0,\n",
              "       1, 0, 0, 0, 0, 1, 1, 0, 0, 1, 0, 0, 0, 0, 1, 1])"
            ]
          },
          "execution_count": 82,
          "metadata": {},
          "output_type": "execute_result"
        }
      ],
      "source": [
        "y_robocup_teste"
      ]
    },
    {
      "cell_type": "code",
      "execution_count": null,
      "metadata": {
        "colab": {
          "base_uri": "https://localhost:8080/"
        },
        "id": "4vRZgbSerBNW",
        "outputId": "2d762587-7756-4f20-f6bf-f630bc77d3e4"
      },
      "outputs": [
        {
          "data": {
            "text/plain": [
              "1.0"
            ]
          },
          "execution_count": 83,
          "metadata": {},
          "output_type": "execute_result"
        }
      ],
      "source": [
        "accuracy_score(y_robocup_teste, previsoes)"
      ]
    },
    {
      "cell_type": "code",
      "execution_count": null,
      "metadata": {
        "colab": {
          "base_uri": "https://localhost:8080/",
          "height": 496
        },
        "id": "XwtALw-Mronz",
        "outputId": "b04f2f88-fd28-40c3-c920-0e310158469a"
      },
      "outputs": [
        {
          "data": {
            "text/plain": [
              "1.0"
            ]
          },
          "execution_count": 84,
          "metadata": {},
          "output_type": "execute_result"
        },
        {
          "data": {
            "image/png": "[encoded data removed]",
            "text/plain": [
              "<Figure size 800x550 with 1 Axes>"
            ]
          },
          "metadata": {},
          "output_type": "display_data"
        }
      ],
      "source": [
        "cm = ConfusionMatrix(rede_neural_robocup)\n",
        "cm.fit(X_robocup_treinamento, y_robocup_treinamento)\n",
        "cm.score(X_robocup_teste, y_robocup_teste)"
      ]
    },
    {
      "cell_type": "code",
      "execution_count": null,
      "metadata": {
        "colab": {
          "base_uri": "https://localhost:8080/"
        },
        "id": "rWj1N8ANsYrI",
        "outputId": "eb5acd76-6d76-4492-cdd5-309952fe24aa"
      },
      "outputs": [
        {
          "name": "stdout",
          "output_type": "stream",
          "text": [
            "              precision    recall  f1-score   support\n",
            "\n",
            "           0       1.00      1.00      1.00        28\n",
            "           1       1.00      1.00      1.00        10\n",
            "\n",
            "    accuracy                           1.00        38\n",
            "   macro avg       1.00      1.00      1.00        38\n",
            "weighted avg       1.00      1.00      1.00        38\n",
            "\n"
          ]
        }
      ],
      "source": [
        "print(classification_report(y_robocup_teste, previsoes))"
      ]
    }
  ],
  "metadata": {
    "colab": {
      "collapsed_sections": [
        "x23iAAKsQ-iU"
      ],
      "provenance": []
    },
    "kernelspec": {
      "display_name": "Python 3",
      "name": "python3"
    },
    "language_info": {
      "codemirror_mode": {
        "name": "ipython",
        "version": 3
      },
      "file_extension": ".py",
      "mimetype": "text/x-python",
      "name": "python",
      "nbconvert_exporter": "python",
      "pygments_lexer": "ipython3",
      "version": "3.11.5"
    }
  },
  "nbformat": 4,
  "nbformat_minor": 0
}
