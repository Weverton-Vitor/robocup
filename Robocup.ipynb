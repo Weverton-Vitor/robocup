{
  "cells": [
    {
      "cell_type": "markdown",
      "metadata": {
        "id": "bdeWF9k0L2YT"
      },
      "source": [
        "# Machine Learning e RoboCup\n"
      ]
    },
    {
      "cell_type": "markdown",
      "metadata": {
        "id": "hfYbHgghOW5g"
      },
      "source": [
        "# Importação das bibliotecas"
      ]
    },
    {
      "cell_type": "code",
      "execution_count": 18,
      "metadata": {
        "id": "IyRCfZ_fhLef"
      },
      "outputs": [],
      "source": [
        "!pip -q install plotly --upgrade"
      ]
    },
    {
      "cell_type": "code",
      "execution_count": 19,
      "metadata": {
        "id": "WOUlbp8VUhTT"
      },
      "outputs": [],
      "source": [
        "!pip -q install yellowbrick"
      ]
    },
    {
      "cell_type": "code",
      "execution_count": 20,
      "metadata": {
        "id": "nVP1Ah9dhd1F"
      },
      "outputs": [],
      "source": [
        "import pandas as pd\n",
        "import numpy as np\n",
        "import seaborn as sns\n",
        "import matplotlib.pyplot as plt\n",
        "import plotly.express as px\n",
        "from sklearn.metrics import accuracy_score, classification_report\n",
        "from yellowbrick.classifier import ConfusionMatrix"
      ]
    },
    {
      "cell_type": "markdown",
      "metadata": {
        "id": "oCVRZFuyXPR9"
      },
      "source": [
        "### Exploração dos dados"
      ]
    },
    {
      "cell_type": "code",
      "execution_count": 21,
      "metadata": {
        "id": "3PkyBwG_jPVQ"
      },
      "outputs": [],
      "source": [
        "base_robocup = pd.read_csv('./data.csv')"
      ]
    },
    {
      "cell_type": "code",
      "execution_count": 22,
      "metadata": {
        "colab": {
          "base_uri": "https://localhost:8080/",
          "height": 443
        },
        "id": "BGT1Pt5UjuNG",
        "outputId": "8bb30f88-a660-41ac-d299-98828d9f4f04"
      },
      "outputs": [
        {
          "data": {
            "text/html": [
              "<div>\n",
              "<style scoped>\n",
              "    .dataframe tbody tr th:only-of-type {\n",
              "        vertical-align: middle;\n",
              "    }\n",
              "\n",
              "    .dataframe tbody tr th {\n",
              "        vertical-align: top;\n",
              "    }\n",
              "\n",
              "    .dataframe thead th {\n",
              "        text-align: right;\n",
              "    }\n",
              "</style>\n",
              "<table border=\"1\" class=\"dataframe\">\n",
              "  <thead>\n",
              "    <tr style=\"text-align: right;\">\n",
              "      <th></th>\n",
              "      <th>distancia_do_gol</th>\n",
              "      <th>oponentes_no_campo_de_visao</th>\n",
              "      <th>companheiros_no_campo_de_visao</th>\n",
              "      <th>stamina</th>\n",
              "      <th>forca_do_Chute</th>\n",
              "      <th>chute_direcao</th>\n",
              "      <th>gol</th>\n",
              "    </tr>\n",
              "  </thead>\n",
              "  <tbody>\n",
              "    <tr>\n",
              "      <th>0</th>\n",
              "      <td>5</td>\n",
              "      <td>1</td>\n",
              "      <td>3</td>\n",
              "      <td>80</td>\n",
              "      <td>65</td>\n",
              "      <td>C</td>\n",
              "      <td>0</td>\n",
              "    </tr>\n",
              "    <tr>\n",
              "      <th>1</th>\n",
              "      <td>8</td>\n",
              "      <td>2</td>\n",
              "      <td>2</td>\n",
              "      <td>75</td>\n",
              "      <td>70</td>\n",
              "      <td>E</td>\n",
              "      <td>0</td>\n",
              "    </tr>\n",
              "    <tr>\n",
              "      <th>2</th>\n",
              "      <td>10</td>\n",
              "      <td>4</td>\n",
              "      <td>3</td>\n",
              "      <td>70</td>\n",
              "      <td>62</td>\n",
              "      <td>D</td>\n",
              "      <td>0</td>\n",
              "    </tr>\n",
              "    <tr>\n",
              "      <th>3</th>\n",
              "      <td>4</td>\n",
              "      <td>1</td>\n",
              "      <td>2</td>\n",
              "      <td>85</td>\n",
              "      <td>58</td>\n",
              "      <td>C</td>\n",
              "      <td>0</td>\n",
              "    </tr>\n",
              "    <tr>\n",
              "      <th>4</th>\n",
              "      <td>12</td>\n",
              "      <td>3</td>\n",
              "      <td>4</td>\n",
              "      <td>90</td>\n",
              "      <td>70</td>\n",
              "      <td>D</td>\n",
              "      <td>1</td>\n",
              "    </tr>\n",
              "    <tr>\n",
              "      <th>...</th>\n",
              "      <td>...</td>\n",
              "      <td>...</td>\n",
              "      <td>...</td>\n",
              "      <td>...</td>\n",
              "      <td>...</td>\n",
              "      <td>...</td>\n",
              "      <td>...</td>\n",
              "    </tr>\n",
              "    <tr>\n",
              "      <th>374</th>\n",
              "      <td>7</td>\n",
              "      <td>0</td>\n",
              "      <td>3</td>\n",
              "      <td>77</td>\n",
              "      <td>69</td>\n",
              "      <td>D</td>\n",
              "      <td>0</td>\n",
              "    </tr>\n",
              "    <tr>\n",
              "      <th>375</th>\n",
              "      <td>9</td>\n",
              "      <td>2</td>\n",
              "      <td>3</td>\n",
              "      <td>86</td>\n",
              "      <td>71</td>\n",
              "      <td>E</td>\n",
              "      <td>1</td>\n",
              "    </tr>\n",
              "    <tr>\n",
              "      <th>376</th>\n",
              "      <td>6</td>\n",
              "      <td>1</td>\n",
              "      <td>2</td>\n",
              "      <td>75</td>\n",
              "      <td>68</td>\n",
              "      <td>D</td>\n",
              "      <td>0</td>\n",
              "    </tr>\n",
              "    <tr>\n",
              "      <th>377</th>\n",
              "      <td>11</td>\n",
              "      <td>2</td>\n",
              "      <td>1</td>\n",
              "      <td>70</td>\n",
              "      <td>63</td>\n",
              "      <td>D</td>\n",
              "      <td>0</td>\n",
              "    </tr>\n",
              "    <tr>\n",
              "      <th>378</th>\n",
              "      <td>5</td>\n",
              "      <td>3</td>\n",
              "      <td>3</td>\n",
              "      <td>81</td>\n",
              "      <td>68</td>\n",
              "      <td>E</td>\n",
              "      <td>0</td>\n",
              "    </tr>\n",
              "  </tbody>\n",
              "</table>\n",
              "<p>379 rows × 7 columns</p>\n",
              "</div>"
            ],
            "text/plain": [
              "     distancia_do_gol  oponentes_no_campo_de_visao  \\\n",
              "0                   5                            1   \n",
              "1                   8                            2   \n",
              "2                  10                            4   \n",
              "3                   4                            1   \n",
              "4                  12                            3   \n",
              "..                ...                          ...   \n",
              "374                 7                            0   \n",
              "375                 9                            2   \n",
              "376                 6                            1   \n",
              "377                11                            2   \n",
              "378                 5                            3   \n",
              "\n",
              "     companheiros_no_campo_de_visao  stamina  forca_do_Chute chute_direcao  \\\n",
              "0                                 3       80              65             C   \n",
              "1                                 2       75              70             E   \n",
              "2                                 3       70              62             D   \n",
              "3                                 2       85              58             C   \n",
              "4                                 4       90              70             D   \n",
              "..                              ...      ...             ...           ...   \n",
              "374                               3       77              69             D   \n",
              "375                               3       86              71             E   \n",
              "376                               2       75              68             D   \n",
              "377                               1       70              63             D   \n",
              "378                               3       81              68             E   \n",
              "\n",
              "     gol  \n",
              "0      0  \n",
              "1      0  \n",
              "2      0  \n",
              "3      0  \n",
              "4      1  \n",
              "..   ...  \n",
              "374    0  \n",
              "375    1  \n",
              "376    0  \n",
              "377    0  \n",
              "378    0  \n",
              "\n",
              "[379 rows x 7 columns]"
            ]
          },
          "execution_count": 22,
          "metadata": {},
          "output_type": "execute_result"
        }
      ],
      "source": [
        "base_robocup"
      ]
    },
    {
      "cell_type": "markdown",
      "metadata": {
        "id": "x23iAAKsQ-iU"
      },
      "source": [
        "### Visualizando os dados"
      ]
    },
    {
      "cell_type": "code",
      "execution_count": 23,
      "metadata": {
        "colab": {
          "base_uri": "https://localhost:8080/"
        },
        "id": "doutRvJ8pGOy",
        "outputId": "d29ffb05-9629-4f97-b8bd-0fd199c02173"
      },
      "outputs": [
        {
          "data": {
            "text/plain": [
              "(array([0, 1]), array([278, 101]))"
            ]
          },
          "execution_count": 23,
          "metadata": {},
          "output_type": "execute_result"
        }
      ],
      "source": [
        "np.unique(base_robocup['gol'], return_counts=True)"
      ]
    },
    {
      "cell_type": "code",
      "execution_count": 24,
      "metadata": {
        "colab": {
          "base_uri": "https://localhost:8080/"
        },
        "id": "XXQBO5VZpfVa",
        "outputId": "47d211f7-a6e7-44f6-943d-083f676701c1"
      },
      "outputs": [
        {
          "data": {
            "image/png": "[encoded data removed]",
            "text/plain": [
              "<Figure size 800x550 with 1 Axes>"
            ]
          },
          "metadata": {},
          "output_type": "display_data"
        }
      ],
      "source": [
        "sns.countplot(x=base_robocup['gol']);"
      ]
    },
    {
      "cell_type": "code",
      "execution_count": 25,
      "metadata": {
        "colab": {
          "base_uri": "https://localhost:8080/"
        },
        "id": "1f5YJJv8pssr",
        "outputId": "7a12f716-0c33-4a1c-c664-0152848aaed2"
      },
      "outputs": [
        {
          "data": {
            "image/png": "[encoded data removed]",
            "text/plain": [
              "<Figure size 800x550 with 1 Axes>"
            ]
          },
          "metadata": {},
          "output_type": "display_data"
        }
      ],
      "source": [
        "plt.hist(x = base_robocup['distancia_do_gol']);"
      ]
    },
    {
      "cell_type": "code",
      "execution_count": 26,
      "metadata": {
        "colab": {
          "base_uri": "https://localhost:8080/"
        },
        "id": "yE8db9FxqrmQ",
        "outputId": "020c5456-93c0-43fb-a4ae-b893fc295d9f"
      },
      "outputs": [
        {
          "data": {
            "application/vnd.plotly.v1+json": {
              "config": {
                "plotlyServerURL": "https://plot.ly"
              },
              "data": [
                {
                  "dimensions": [
                    {
                      "axis": {
                        "matches": true
                      },
                      "label": "distancia_do_gol",
                      "values": [
                        5,
                        8,
                        10,
                        4,
                        12,
                        7,
                        9,
                        6,
                        11,
                        5,
                        8,
                        10,
                        4,
                        12,
                        7,
                        9,
                        6,
                        11,
                        5,
                        8,
                        10,
                        4,
                        12,
                        7,
                        9,
                        6,
                        11,
                        5,
                        8,
                        10,
                        4,
                        12,
                        7,
                        9,
                        6,
                        11,
                        5,
                        8,
                        10,
                        4,
                        12,
                        7,
                        9,
                        6,
                        11,
                        5,
                        8,
                        10,
                        4,
                        12,
                        7,
                        9,
                        6,
                        11,
                        5,
                        8,
                        10,
                        4,
                        12,
                        7,
                        9,
                        6,
                        11,
                        5,
                        8,
                        10,
                        4,
                        12,
                        7,
                        9,
                        6,
                        11,
                        5,
                        8,
                        10,
                        4,
                        12,
                        7,
                        9,
                        6,
                        11,
                        5,
                        8,
                        10,
                        4,
                        12,
                        7,
                        9,
                        6,
                        11,
                        5,
                        8,
                        10,
                        4,
                        12,
                        7,
                        9,
                        6,
                        11,
                        5,
                        8,
                        10,
                        4,
                        12,
                        7,
                        9,
                        6,
                        11,
                        5,
                        8,
                        10,
                        4,
                        12,
                        7,
                        9,
                        6,
                        11,
                        5,
                        8,
                        10,
                        4,
                        12,
                        7,
                        9,
                        6,
                        11,
                        5,
                        8,
                        10,
                        4,
                        12,
                        7,
                        9,
                        6,
                        11,
                        5,
                        8,
                        10,
                        4,
                        12,
                        7,
                        9,
                        6,
                        11,
                        5,
                        8,
                        10,
                        4,
                        12,
                        7,
                        9,
                        6,
                        11,
                        5,
                        8,
                        10,
                        4,
                        12,
                        7,
                        9,
                        6,
                        11,
                        5,
                        8,
                        10,
                        4,
                        12,
                        7,
                        9,
                        6,
                        11,
                        5,
                        8,
                        10,
                        4,
                        12,
                        7,
                        9,
                        6,
                        11,
                        5,
                        8,
                        10,
                        4,
                        12,
                        7,
                        9,
                        6,
                        11,
                        5,
                        8,
                        10,
                        4,
                        12,
                        7,
                        9,
                        6,
                        11,
                        5,
                        8,
                        10,
                        4,
                        12,
                        7,
                        9,
                        6,
                        11,
                        5,
                        8,
                        10,
                        4,
                        12,
                        7,
                        9,
                        6,
                        11,
                        5,
                        8,
                        10,
                        4,
                        12,
                        7,
                        9,
                        6,
                        11,
                        5,
                        8,
                        10,
                        4,
                        12,
                        7,
                        9,
                        6,
                        11,
                        5,
                        8,
                        10,
                        4,
                        12,
                        7,
                        9,
                        6,
                        11,
                        5,
                        8,
                        10,
                        4,
                        12,
                        7,
                        9,
                        6,
                        11,
                        5,
                        8,
                        10,
                        4,
                        12,
                        7,
                        9,
                        6,
                        11,
                        5,
                        8,
                        10,
                        4,
                        12,
                        7,
                        9,
                        6,
                        11,
                        5,
                        8,
                        10,
                        4,
                        12,
                        7,
                        9,
                        6,
                        11,
                        5,
                        8,
                        10,
                        4,
                        12,
                        7,
                        9,
                        6,
                        11,
                        5,
                        8,
                        10,
                        4,
                        12,
                        7,
                        9,
                        6,
                        11,
                        5,
                        8,
                        10,
                        4,
                        12,
                        7,
                        9,
                        6,
                        11,
                        5,
                        8,
                        10,
                        4,
                        12,
                        7,
                        9,
                        6,
                        11,
                        5,
                        8,
                        10,
                        4,
                        12,
                        7,
                        9,
                        6,
                        11,
                        5,
                        8,
                        10,
                        4,
                        12,
                        7,
                        9,
                        6,
                        11,
                        5,
                        8,
                        10,
                        4,
                        12,
                        7,
                        9,
                        6,
                        11,
                        5,
                        8,
                        10,
                        4,
                        12,
                        7,
                        9,
                        6,
                        11,
                        5,
                        8,
                        10,
                        4,
                        12,
                        7,
                        9,
                        6,
                        11,
                        5,
                        8,
                        10,
                        4,
                        12,
                        7,
                        9,
                        6,
                        11,
                        5,
                        8,
                        10,
                        4,
                        12,
                        7,
                        9,
                        6,
                        11,
                        5
                      ]
                    },
                    {
                      "axis": {
                        "matches": true
                      },
                      "label": "forca_do_Chute",
                      "values": [
                        65,
                        70,
                        62,
                        58,
                        70,
                        64,
                        75,
                        62,
                        68,
                        66,
                        72,
                        60,
                        65,
                        76,
                        66,
                        73,
                        68,
                        62,
                        69,
                        64,
                        60,
                        67,
                        74,
                        69,
                        71,
                        66,
                        63,
                        68,
                        73,
                        61,
                        68,
                        76,
                        68,
                        71,
                        65,
                        63,
                        70,
                        64,
                        59,
                        67,
                        75,
                        69,
                        71,
                        68,
                        62,
                        70,
                        64,
                        60,
                        67,
                        74,
                        66,
                        73,
                        66,
                        63,
                        68,
                        73,
                        61,
                        68,
                        76,
                        68,
                        71,
                        65,
                        63,
                        70,
                        64,
                        59,
                        67,
                        75,
                        69,
                        71,
                        68,
                        62,
                        70,
                        64,
                        60,
                        67,
                        74,
                        66,
                        73,
                        66,
                        63,
                        68,
                        73,
                        61,
                        68,
                        76,
                        68,
                        71,
                        65,
                        63,
                        70,
                        64,
                        59,
                        67,
                        75,
                        69,
                        71,
                        68,
                        62,
                        70,
                        64,
                        60,
                        67,
                        74,
                        66,
                        73,
                        66,
                        63,
                        68,
                        73,
                        61,
                        68,
                        76,
                        68,
                        71,
                        65,
                        63,
                        70,
                        64,
                        59,
                        67,
                        75,
                        69,
                        71,
                        68,
                        62,
                        70,
                        64,
                        60,
                        67,
                        74,
                        66,
                        71,
                        66,
                        63,
                        68,
                        73,
                        61,
                        68,
                        76,
                        68,
                        71,
                        65,
                        63,
                        70,
                        64,
                        59,
                        67,
                        75,
                        69,
                        71,
                        68,
                        62,
                        70,
                        64,
                        60,
                        67,
                        74,
                        66,
                        71,
                        66,
                        63,
                        68,
                        73,
                        61,
                        68,
                        76,
                        68,
                        71,
                        65,
                        63,
                        70,
                        64,
                        59,
                        67,
                        75,
                        69,
                        71,
                        68,
                        62,
                        70,
                        64,
                        60,
                        67,
                        74,
                        66,
                        71,
                        66,
                        63,
                        68,
                        73,
                        61,
                        68,
                        76,
                        68,
                        71,
                        65,
                        63,
                        70,
                        64,
                        59,
                        67,
                        75,
                        69,
                        71,
                        68,
                        62,
                        70,
                        64,
                        60,
                        67,
                        74,
                        66,
                        71,
                        66,
                        63,
                        68,
                        73,
                        61,
                        68,
                        76,
                        68,
                        71,
                        65,
                        63,
                        70,
                        64,
                        59,
                        67,
                        75,
                        69,
                        71,
                        68,
                        62,
                        70,
                        64,
                        60,
                        67,
                        74,
                        66,
                        71,
                        66,
                        63,
                        68,
                        73,
                        61,
                        68,
                        76,
                        68,
                        71,
                        65,
                        63,
                        70,
                        64,
                        59,
                        67,
                        75,
                        69,
                        71,
                        68,
                        62,
                        70,
                        64,
                        60,
                        67,
                        74,
                        66,
                        71,
                        66,
                        63,
                        68,
                        73,
                        61,
                        68,
                        76,
                        68,
                        71,
                        65,
                        63,
                        70,
                        64,
                        59,
                        67,
                        75,
                        69,
                        71,
                        68,
                        63,
                        68,
                        73,
                        61,
                        68,
                        76,
                        68,
                        71,
                        65,
                        63,
                        70,
                        64,
                        59,
                        67,
                        75,
                        69,
                        71,
                        68,
                        63,
                        68,
                        73,
                        61,
                        68,
                        76,
                        68,
                        71,
                        65,
                        63,
                        70,
                        64,
                        60,
                        67,
                        74,
                        66,
                        71,
                        68,
                        63,
                        68,
                        73,
                        61,
                        68,
                        76,
                        68,
                        71,
                        65,
                        63,
                        70,
                        64,
                        59,
                        67,
                        75,
                        69,
                        71,
                        68,
                        63,
                        68,
                        73,
                        61,
                        68,
                        76,
                        68,
                        71,
                        65,
                        63,
                        70,
                        64,
                        60,
                        67,
                        74,
                        66,
                        71,
                        68,
                        63,
                        68,
                        73,
                        61,
                        68,
                        76,
                        68,
                        71,
                        65,
                        63,
                        70,
                        64,
                        59,
                        67,
                        75,
                        69,
                        71,
                        68,
                        63,
                        68
                      ]
                    },
                    {
                      "axis": {
                        "matches": true
                      },
                      "label": "stamina",
                      "values": [
                        80,
                        75,
                        70,
                        85,
                        90,
                        78,
                        85,
                        72,
                        75,
                        79,
                        88,
                        73,
                        87,
                        92,
                        78,
                        86,
                        75,
                        71,
                        89,
                        76,
                        73,
                        85,
                        91,
                        77,
                        88,
                        74,
                        70,
                        81,
                        90,
                        74,
                        86,
                        92,
                        78,
                        87,
                        75,
                        72,
                        88,
                        76,
                        73,
                        84,
                        89,
                        77,
                        86,
                        75,
                        71,
                        89,
                        76,
                        73,
                        85,
                        91,
                        78,
                        86,
                        74,
                        70,
                        81,
                        90,
                        74,
                        86,
                        92,
                        78,
                        87,
                        75,
                        72,
                        88,
                        76,
                        73,
                        84,
                        89,
                        77,
                        86,
                        75,
                        71,
                        89,
                        76,
                        73,
                        85,
                        91,
                        78,
                        86,
                        74,
                        70,
                        81,
                        90,
                        74,
                        86,
                        92,
                        78,
                        87,
                        75,
                        72,
                        88,
                        76,
                        73,
                        84,
                        89,
                        77,
                        86,
                        75,
                        71,
                        89,
                        76,
                        73,
                        85,
                        91,
                        78,
                        86,
                        74,
                        70,
                        81,
                        90,
                        74,
                        86,
                        92,
                        78,
                        87,
                        75,
                        72,
                        88,
                        76,
                        73,
                        84,
                        89,
                        77,
                        86,
                        75,
                        71,
                        88,
                        76,
                        73,
                        85,
                        91,
                        78,
                        86,
                        74,
                        70,
                        81,
                        90,
                        74,
                        86,
                        92,
                        78,
                        87,
                        75,
                        72,
                        88,
                        76,
                        73,
                        84,
                        89,
                        77,
                        86,
                        75,
                        71,
                        88,
                        76,
                        73,
                        85,
                        91,
                        78,
                        86,
                        74,
                        70,
                        81,
                        90,
                        74,
                        86,
                        92,
                        78,
                        87,
                        75,
                        72,
                        88,
                        76,
                        73,
                        84,
                        89,
                        77,
                        86,
                        75,
                        71,
                        88,
                        76,
                        73,
                        85,
                        91,
                        78,
                        86,
                        74,
                        70,
                        81,
                        90,
                        74,
                        86,
                        92,
                        78,
                        87,
                        75,
                        72,
                        88,
                        76,
                        73,
                        84,
                        89,
                        77,
                        86,
                        75,
                        71,
                        88,
                        76,
                        73,
                        85,
                        91,
                        78,
                        86,
                        74,
                        70,
                        81,
                        90,
                        74,
                        86,
                        92,
                        78,
                        87,
                        75,
                        72,
                        88,
                        76,
                        73,
                        84,
                        89,
                        77,
                        86,
                        75,
                        71,
                        88,
                        76,
                        73,
                        85,
                        91,
                        78,
                        86,
                        74,
                        70,
                        81,
                        90,
                        74,
                        86,
                        92,
                        78,
                        87,
                        75,
                        72,
                        88,
                        76,
                        73,
                        84,
                        89,
                        77,
                        86,
                        75,
                        71,
                        88,
                        76,
                        73,
                        85,
                        91,
                        78,
                        86,
                        74,
                        70,
                        81,
                        90,
                        74,
                        86,
                        92,
                        78,
                        87,
                        75,
                        72,
                        88,
                        76,
                        73,
                        84,
                        89,
                        77,
                        86,
                        75,
                        70,
                        81,
                        90,
                        74,
                        86,
                        92,
                        78,
                        87,
                        75,
                        72,
                        88,
                        76,
                        73,
                        84,
                        89,
                        77,
                        86,
                        75,
                        70,
                        81,
                        90,
                        74,
                        86,
                        92,
                        78,
                        87,
                        75,
                        72,
                        88,
                        76,
                        73,
                        85,
                        91,
                        78,
                        86,
                        75,
                        70,
                        81,
                        90,
                        74,
                        86,
                        92,
                        78,
                        87,
                        75,
                        72,
                        88,
                        76,
                        73,
                        84,
                        89,
                        77,
                        86,
                        75,
                        70,
                        81,
                        90,
                        74,
                        86,
                        92,
                        78,
                        87,
                        75,
                        72,
                        88,
                        76,
                        73,
                        85,
                        91,
                        78,
                        86,
                        75,
                        70,
                        81,
                        90,
                        74,
                        86,
                        92,
                        78,
                        87,
                        75,
                        72,
                        88,
                        76,
                        73,
                        84,
                        89,
                        77,
                        86,
                        75,
                        70,
                        81
                      ]
                    }
                  ],
                  "hovertemplate": "%{xaxis.title.text}=%{x}<br>%{yaxis.title.text}=%{y}<br>gol=%{marker.color}<extra></extra>",
                  "legendgroup": "",
                  "marker": {
                    "color": [
                      0,
                      0,
                      0,
                      0,
                      1,
                      0,
                      1,
                      0,
                      1,
                      0,
                      1,
                      0,
                      0,
                      1,
                      0,
                      1,
                      0,
                      0,
                      0,
                      0,
                      0,
                      0,
                      1,
                      0,
                      1,
                      0,
                      0,
                      0,
                      1,
                      0,
                      0,
                      1,
                      0,
                      1,
                      0,
                      0,
                      0,
                      0,
                      0,
                      0,
                      1,
                      0,
                      1,
                      0,
                      0,
                      0,
                      0,
                      0,
                      0,
                      1,
                      0,
                      1,
                      0,
                      0,
                      0,
                      1,
                      0,
                      0,
                      1,
                      0,
                      1,
                      0,
                      0,
                      0,
                      0,
                      0,
                      0,
                      1,
                      0,
                      1,
                      0,
                      0,
                      0,
                      0,
                      0,
                      0,
                      1,
                      0,
                      1,
                      0,
                      0,
                      0,
                      1,
                      0,
                      0,
                      1,
                      0,
                      1,
                      0,
                      0,
                      0,
                      0,
                      0,
                      0,
                      1,
                      0,
                      1,
                      0,
                      0,
                      0,
                      0,
                      0,
                      0,
                      1,
                      0,
                      1,
                      0,
                      0,
                      0,
                      1,
                      0,
                      0,
                      1,
                      0,
                      1,
                      0,
                      0,
                      0,
                      0,
                      0,
                      0,
                      1,
                      0,
                      1,
                      0,
                      0,
                      0,
                      0,
                      0,
                      0,
                      1,
                      0,
                      1,
                      0,
                      0,
                      0,
                      1,
                      0,
                      0,
                      1,
                      0,
                      1,
                      0,
                      0,
                      0,
                      0,
                      0,
                      0,
                      1,
                      0,
                      1,
                      0,
                      0,
                      0,
                      0,
                      0,
                      0,
                      1,
                      0,
                      1,
                      0,
                      0,
                      0,
                      1,
                      0,
                      0,
                      1,
                      0,
                      1,
                      0,
                      0,
                      0,
                      0,
                      0,
                      0,
                      1,
                      0,
                      1,
                      0,
                      0,
                      0,
                      0,
                      0,
                      0,
                      1,
                      0,
                      1,
                      0,
                      0,
                      0,
                      1,
                      0,
                      0,
                      1,
                      0,
                      1,
                      0,
                      0,
                      0,
                      0,
                      0,
                      0,
                      1,
                      0,
                      1,
                      0,
                      0,
                      0,
                      0,
                      0,
                      0,
                      1,
                      0,
                      1,
                      0,
                      0,
                      0,
                      1,
                      0,
                      0,
                      1,
                      0,
                      1,
                      0,
                      0,
                      0,
                      0,
                      0,
                      0,
                      1,
                      0,
                      1,
                      0,
                      0,
                      0,
                      0,
                      0,
                      0,
                      1,
                      0,
                      1,
                      0,
                      0,
                      0,
                      1,
                      0,
                      0,
                      1,
                      0,
                      1,
                      0,
                      0,
                      0,
                      0,
                      0,
                      0,
                      1,
                      0,
                      1,
                      0,
                      0,
                      0,
                      0,
                      0,
                      0,
                      1,
                      0,
                      1,
                      0,
                      0,
                      0,
                      1,
                      0,
                      0,
                      1,
                      0,
                      1,
                      0,
                      0,
                      0,
                      0,
                      0,
                      0,
                      1,
                      0,
                      1,
                      0,
                      0,
                      0,
                      1,
                      0,
                      0,
                      1,
                      0,
                      1,
                      0,
                      0,
                      0,
                      0,
                      0,
                      0,
                      1,
                      0,
                      1,
                      0,
                      0,
                      0,
                      1,
                      0,
                      0,
                      1,
                      0,
                      1,
                      0,
                      0,
                      0,
                      0,
                      0,
                      0,
                      1,
                      0,
                      1,
                      0,
                      0,
                      0,
                      1,
                      0,
                      0,
                      1,
                      0,
                      1,
                      0,
                      0,
                      0,
                      0,
                      0,
                      0,
                      1,
                      0,
                      1,
                      0,
                      0,
                      0,
                      1,
                      0,
                      0,
                      1,
                      0,
                      1,
                      0,
                      0,
                      0,
                      0,
                      0,
                      0,
                      1,
                      0,
                      1,
                      0,
                      0,
                      0,
                      1,
                      0,
                      0,
                      1,
                      0,
                      1,
                      0,
                      0,
                      0,
                      0,
                      0,
                      0,
                      1,
                      0,
                      1,
                      0,
                      0,
                      0
                    ],
                    "coloraxis": "coloraxis",
                    "symbol": "circle"
                  },
                  "name": "",
                  "showlegend": false,
                  "type": "splom"
                }
              ],
              "layout": {
                "coloraxis": {
                  "colorbar": {
                    "title": {
                      "text": "gol"
                    }
                  },
                  "colorscale": [
                    [
                      0,
                      "#0d0887"
                    ],
                    [
                      0.1111111111111111,
                      "#46039f"
                    ],
                    [
                      0.2222222222222222,
                      "#7201a8"
                    ],
                    [
                      0.3333333333333333,
                      "#9c179e"
                    ],
                    [
                      0.4444444444444444,
                      "#bd3786"
                    ],
                    [
                      0.5555555555555556,
                      "#d8576b"
                    ],
                    [
                      0.6666666666666666,
                      "#ed7953"
                    ],
                    [
                      0.7777777777777778,
                      "#fb9f3a"
                    ],
                    [
                      0.8888888888888888,
                      "#fdca26"
                    ],
                    [
                      1,
                      "#f0f921"
                    ]
                  ]
                },
                "dragmode": "select",
                "legend": {
                  "tracegroupgap": 0
                },
                "margin": {
                  "t": 60
                },
                "template": {
                  "data": {
                    "bar": [
                      {
                        "error_x": {
                          "color": "#2a3f5f"
                        },
                        "error_y": {
                          "color": "#2a3f5f"
                        },
                        "marker": {
                          "line": {
                            "color": "#E5ECF6",
                            "width": 0.5
                          },
                          "pattern": {
                            "fillmode": "overlay",
                            "size": 10,
                            "solidity": 0.2
                          }
                        },
                        "type": "bar"
                      }
                    ],
                    "barpolar": [
                      {
                        "marker": {
                          "line": {
                            "color": "#E5ECF6",
                            "width": 0.5
                          },
                          "pattern": {
                            "fillmode": "overlay",
                            "size": 10,
                            "solidity": 0.2
                          }
                        },
                        "type": "barpolar"
                      }
                    ],
                    "carpet": [
                      {
                        "aaxis": {
                          "endlinecolor": "#2a3f5f",
                          "gridcolor": "white",
                          "linecolor": "white",
                          "minorgridcolor": "white",
                          "startlinecolor": "#2a3f5f"
                        },
                        "baxis": {
                          "endlinecolor": "#2a3f5f",
                          "gridcolor": "white",
                          "linecolor": "white",
                          "minorgridcolor": "white",
                          "startlinecolor": "#2a3f5f"
                        },
                        "type": "carpet"
                      }
                    ],
                    "choropleth": [
                      {
                        "colorbar": {
                          "outlinewidth": 0,
                          "ticks": ""
                        },
                        "type": "choropleth"
                      }
                    ],
                    "contour": [
                      {
                        "colorbar": {
                          "outlinewidth": 0,
                          "ticks": ""
                        },
                        "colorscale": [
                          [
                            0,
                            "#0d0887"
                          ],
                          [
                            0.1111111111111111,
                            "#46039f"
                          ],
                          [
                            0.2222222222222222,
                            "#7201a8"
                          ],
                          [
                            0.3333333333333333,
                            "#9c179e"
                          ],
                          [
                            0.4444444444444444,
                            "#bd3786"
                          ],
                          [
                            0.5555555555555556,
                            "#d8576b"
                          ],
                          [
                            0.6666666666666666,
                            "#ed7953"
                          ],
                          [
                            0.7777777777777778,
                            "#fb9f3a"
                          ],
                          [
                            0.8888888888888888,
                            "#fdca26"
                          ],
                          [
                            1,
                            "#f0f921"
                          ]
                        ],
                        "type": "contour"
                      }
                    ],
                    "contourcarpet": [
                      {
                        "colorbar": {
                          "outlinewidth": 0,
                          "ticks": ""
                        },
                        "type": "contourcarpet"
                      }
                    ],
                    "heatmap": [
                      {
                        "colorbar": {
                          "outlinewidth": 0,
                          "ticks": ""
                        },
                        "colorscale": [
                          [
                            0,
                            "#0d0887"
                          ],
                          [
                            0.1111111111111111,
                            "#46039f"
                          ],
                          [
                            0.2222222222222222,
                            "#7201a8"
                          ],
                          [
                            0.3333333333333333,
                            "#9c179e"
                          ],
                          [
                            0.4444444444444444,
                            "#bd3786"
                          ],
                          [
                            0.5555555555555556,
                            "#d8576b"
                          ],
                          [
                            0.6666666666666666,
                            "#ed7953"
                          ],
                          [
                            0.7777777777777778,
                            "#fb9f3a"
                          ],
                          [
                            0.8888888888888888,
                            "#fdca26"
                          ],
                          [
                            1,
                            "#f0f921"
                          ]
                        ],
                        "type": "heatmap"
                      }
                    ],
                    "heatmapgl": [
                      {
                        "colorbar": {
                          "outlinewidth": 0,
                          "ticks": ""
                        },
                        "colorscale": [
                          [
                            0,
                            "#0d0887"
                          ],
                          [
                            0.1111111111111111,
                            "#46039f"
                          ],
                          [
                            0.2222222222222222,
                            "#7201a8"
                          ],
                          [
                            0.3333333333333333,
                            "#9c179e"
                          ],
                          [
                            0.4444444444444444,
                            "#bd3786"
                          ],
                          [
                            0.5555555555555556,
                            "#d8576b"
                          ],
                          [
                            0.6666666666666666,
                            "#ed7953"
                          ],
                          [
                            0.7777777777777778,
                            "#fb9f3a"
                          ],
                          [
                            0.8888888888888888,
                            "#fdca26"
                          ],
                          [
                            1,
                            "#f0f921"
                          ]
                        ],
                        "type": "heatmapgl"
                      }
                    ],
                    "histogram": [
                      {
                        "marker": {
                          "pattern": {
                            "fillmode": "overlay",
                            "size": 10,
                            "solidity": 0.2
                          }
                        },
                        "type": "histogram"
                      }
                    ],
                    "histogram2d": [
                      {
                        "colorbar": {
                          "outlinewidth": 0,
                          "ticks": ""
                        },
                        "colorscale": [
                          [
                            0,
                            "#0d0887"
                          ],
                          [
                            0.1111111111111111,
                            "#46039f"
                          ],
                          [
                            0.2222222222222222,
                            "#7201a8"
                          ],
                          [
                            0.3333333333333333,
                            "#9c179e"
                          ],
                          [
                            0.4444444444444444,
                            "#bd3786"
                          ],
                          [
                            0.5555555555555556,
                            "#d8576b"
                          ],
                          [
                            0.6666666666666666,
                            "#ed7953"
                          ],
                          [
                            0.7777777777777778,
                            "#fb9f3a"
                          ],
                          [
                            0.8888888888888888,
                            "#fdca26"
                          ],
                          [
                            1,
                            "#f0f921"
                          ]
                        ],
                        "type": "histogram2d"
                      }
                    ],
                    "histogram2dcontour": [
                      {
                        "colorbar": {
                          "outlinewidth": 0,
                          "ticks": ""
                        },
                        "colorscale": [
                          [
                            0,
                            "#0d0887"
                          ],
                          [
                            0.1111111111111111,
                            "#46039f"
                          ],
                          [
                            0.2222222222222222,
                            "#7201a8"
                          ],
                          [
                            0.3333333333333333,
                            "#9c179e"
                          ],
                          [
                            0.4444444444444444,
                            "#bd3786"
                          ],
                          [
                            0.5555555555555556,
                            "#d8576b"
                          ],
                          [
                            0.6666666666666666,
                            "#ed7953"
                          ],
                          [
                            0.7777777777777778,
                            "#fb9f3a"
                          ],
                          [
                            0.8888888888888888,
                            "#fdca26"
                          ],
                          [
                            1,
                            "#f0f921"
                          ]
                        ],
                        "type": "histogram2dcontour"
                      }
                    ],
                    "mesh3d": [
                      {
                        "colorbar": {
                          "outlinewidth": 0,
                          "ticks": ""
                        },
                        "type": "mesh3d"
                      }
                    ],
                    "parcoords": [
                      {
                        "line": {
                          "colorbar": {
                            "outlinewidth": 0,
                            "ticks": ""
                          }
                        },
                        "type": "parcoords"
                      }
                    ],
                    "pie": [
                      {
                        "automargin": true,
                        "type": "pie"
                      }
                    ],
                    "scatter": [
                      {
                        "fillpattern": {
                          "fillmode": "overlay",
                          "size": 10,
                          "solidity": 0.2
                        },
                        "type": "scatter"
                      }
                    ],
                    "scatter3d": [
                      {
                        "line": {
                          "colorbar": {
                            "outlinewidth": 0,
                            "ticks": ""
                          }
                        },
                        "marker": {
                          "colorbar": {
                            "outlinewidth": 0,
                            "ticks": ""
                          }
                        },
                        "type": "scatter3d"
                      }
                    ],
                    "scattercarpet": [
                      {
                        "marker": {
                          "colorbar": {
                            "outlinewidth": 0,
                            "ticks": ""
                          }
                        },
                        "type": "scattercarpet"
                      }
                    ],
                    "scattergeo": [
                      {
                        "marker": {
                          "colorbar": {
                            "outlinewidth": 0,
                            "ticks": ""
                          }
                        },
                        "type": "scattergeo"
                      }
                    ],
                    "scattergl": [
                      {
                        "marker": {
                          "colorbar": {
                            "outlinewidth": 0,
                            "ticks": ""
                          }
                        },
                        "type": "scattergl"
                      }
                    ],
                    "scattermapbox": [
                      {
                        "marker": {
                          "colorbar": {
                            "outlinewidth": 0,
                            "ticks": ""
                          }
                        },
                        "type": "scattermapbox"
                      }
                    ],
                    "scatterpolar": [
                      {
                        "marker": {
                          "colorbar": {
                            "outlinewidth": 0,
                            "ticks": ""
                          }
                        },
                        "type": "scatterpolar"
                      }
                    ],
                    "scatterpolargl": [
                      {
                        "marker": {
                          "colorbar": {
                            "outlinewidth": 0,
                            "ticks": ""
                          }
                        },
                        "type": "scatterpolargl"
                      }
                    ],
                    "scatterternary": [
                      {
                        "marker": {
                          "colorbar": {
                            "outlinewidth": 0,
                            "ticks": ""
                          }
                        },
                        "type": "scatterternary"
                      }
                    ],
                    "surface": [
                      {
                        "colorbar": {
                          "outlinewidth": 0,
                          "ticks": ""
                        },
                        "colorscale": [
                          [
                            0,
                            "#0d0887"
                          ],
                          [
                            0.1111111111111111,
                            "#46039f"
                          ],
                          [
                            0.2222222222222222,
                            "#7201a8"
                          ],
                          [
                            0.3333333333333333,
                            "#9c179e"
                          ],
                          [
                            0.4444444444444444,
                            "#bd3786"
                          ],
                          [
                            0.5555555555555556,
                            "#d8576b"
                          ],
                          [
                            0.6666666666666666,
                            "#ed7953"
                          ],
                          [
                            0.7777777777777778,
                            "#fb9f3a"
                          ],
                          [
                            0.8888888888888888,
                            "#fdca26"
                          ],
                          [
                            1,
                            "#f0f921"
                          ]
                        ],
                        "type": "surface"
                      }
                    ],
                    "table": [
                      {
                        "cells": {
                          "fill": {
                            "color": "#EBF0F8"
                          },
                          "line": {
                            "color": "white"
                          }
                        },
                        "header": {
                          "fill": {
                            "color": "#C8D4E3"
                          },
                          "line": {
                            "color": "white"
                          }
                        },
                        "type": "table"
                      }
                    ]
                  },
                  "layout": {
                    "annotationdefaults": {
                      "arrowcolor": "#2a3f5f",
                      "arrowhead": 0,
                      "arrowwidth": 1
                    },
                    "autotypenumbers": "strict",
                    "coloraxis": {
                      "colorbar": {
                        "outlinewidth": 0,
                        "ticks": ""
                      }
                    },
                    "colorscale": {
                      "diverging": [
                        [
                          0,
                          "#8e0152"
                        ],
                        [
                          0.1,
                          "#c51b7d"
                        ],
                        [
                          0.2,
                          "#de77ae"
                        ],
                        [
                          0.3,
                          "#f1b6da"
                        ],
                        [
                          0.4,
                          "#fde0ef"
                        ],
                        [
                          0.5,
                          "#f7f7f7"
                        ],
                        [
                          0.6,
                          "#e6f5d0"
                        ],
                        [
                          0.7,
                          "#b8e186"
                        ],
                        [
                          0.8,
                          "#7fbc41"
                        ],
                        [
                          0.9,
                          "#4d9221"
                        ],
                        [
                          1,
                          "#276419"
                        ]
                      ],
                      "sequential": [
                        [
                          0,
                          "#0d0887"
                        ],
                        [
                          0.1111111111111111,
                          "#46039f"
                        ],
                        [
                          0.2222222222222222,
                          "#7201a8"
                        ],
                        [
                          0.3333333333333333,
                          "#9c179e"
                        ],
                        [
                          0.4444444444444444,
                          "#bd3786"
                        ],
                        [
                          0.5555555555555556,
                          "#d8576b"
                        ],
                        [
                          0.6666666666666666,
                          "#ed7953"
                        ],
                        [
                          0.7777777777777778,
                          "#fb9f3a"
                        ],
                        [
                          0.8888888888888888,
                          "#fdca26"
                        ],
                        [
                          1,
                          "#f0f921"
                        ]
                      ],
                      "sequentialminus": [
                        [
                          0,
                          "#0d0887"
                        ],
                        [
                          0.1111111111111111,
                          "#46039f"
                        ],
                        [
                          0.2222222222222222,
                          "#7201a8"
                        ],
                        [
                          0.3333333333333333,
                          "#9c179e"
                        ],
                        [
                          0.4444444444444444,
                          "#bd3786"
                        ],
                        [
                          0.5555555555555556,
                          "#d8576b"
                        ],
                        [
                          0.6666666666666666,
                          "#ed7953"
                        ],
                        [
                          0.7777777777777778,
                          "#fb9f3a"
                        ],
                        [
                          0.8888888888888888,
                          "#fdca26"
                        ],
                        [
                          1,
                          "#f0f921"
                        ]
                      ]
                    },
                    "colorway": [
                      "#636efa",
                      "#EF553B",
                      "#00cc96",
                      "#ab63fa",
                      "#FFA15A",
                      "#19d3f3",
                      "#FF6692",
                      "#B6E880",
                      "#FF97FF",
                      "#FECB52"
                    ],
                    "font": {
                      "color": "#2a3f5f"
                    },
                    "geo": {
                      "bgcolor": "white",
                      "lakecolor": "white",
                      "landcolor": "#E5ECF6",
                      "showlakes": true,
                      "showland": true,
                      "subunitcolor": "white"
                    },
                    "hoverlabel": {
                      "align": "left"
                    },
                    "hovermode": "closest",
                    "mapbox": {
                      "style": "light"
                    },
                    "paper_bgcolor": "white",
                    "plot_bgcolor": "#E5ECF6",
                    "polar": {
                      "angularaxis": {
                        "gridcolor": "white",
                        "linecolor": "white",
                        "ticks": ""
                      },
                      "bgcolor": "#E5ECF6",
                      "radialaxis": {
                        "gridcolor": "white",
                        "linecolor": "white",
                        "ticks": ""
                      }
                    },
                    "scene": {
                      "xaxis": {
                        "backgroundcolor": "#E5ECF6",
                        "gridcolor": "white",
                        "gridwidth": 2,
                        "linecolor": "white",
                        "showbackground": true,
                        "ticks": "",
                        "zerolinecolor": "white"
                      },
                      "yaxis": {
                        "backgroundcolor": "#E5ECF6",
                        "gridcolor": "white",
                        "gridwidth": 2,
                        "linecolor": "white",
                        "showbackground": true,
                        "ticks": "",
                        "zerolinecolor": "white"
                      },
                      "zaxis": {
                        "backgroundcolor": "#E5ECF6",
                        "gridcolor": "white",
                        "gridwidth": 2,
                        "linecolor": "white",
                        "showbackground": true,
                        "ticks": "",
                        "zerolinecolor": "white"
                      }
                    },
                    "shapedefaults": {
                      "line": {
                        "color": "#2a3f5f"
                      }
                    },
                    "ternary": {
                      "aaxis": {
                        "gridcolor": "white",
                        "linecolor": "white",
                        "ticks": ""
                      },
                      "baxis": {
                        "gridcolor": "white",
                        "linecolor": "white",
                        "ticks": ""
                      },
                      "bgcolor": "#E5ECF6",
                      "caxis": {
                        "gridcolor": "white",
                        "linecolor": "white",
                        "ticks": ""
                      }
                    },
                    "title": {
                      "x": 0.05
                    },
                    "xaxis": {
                      "automargin": true,
                      "gridcolor": "white",
                      "linecolor": "white",
                      "ticks": "",
                      "title": {
                        "standoff": 15
                      },
                      "zerolinecolor": "white",
                      "zerolinewidth": 2
                    },
                    "yaxis": {
                      "automargin": true,
                      "gridcolor": "white",
                      "linecolor": "white",
                      "ticks": "",
                      "title": {
                        "standoff": 15
                      },
                      "zerolinecolor": "white",
                      "zerolinewidth": 2
                    }
                  }
                }
              }
            }
          },
          "metadata": {},
          "output_type": "display_data"
        }
      ],
      "source": [
        "# Gráfico de dispersão\n",
        "grafico = px.scatter_matrix(base_robocup, dimensions=['distancia_do_gol', 'forca_do_Chute', 'stamina'], color='gol') # color=default separa uma cor para cada valor do campo default\n",
        "grafico.show()"
      ]
    },
    {
      "cell_type": "markdown",
      "metadata": {
        "id": "cOSLRdDEsWFx"
      },
      "source": [
        "### Divisão entre previsores e classe"
      ]
    },
    {
      "cell_type": "markdown",
      "metadata": {
        "id": "9gop_LB27IID"
      },
      "source": [
        "#### Tratamento de atributos categóricos"
      ]
    },
    {
      "cell_type": "code",
      "execution_count": 27,
      "metadata": {
        "colab": {
          "base_uri": "https://localhost:8080/"
        },
        "id": "4eL55Qzi4JQP",
        "outputId": "4c8855b9-89bc-4e96-c689-64cc182aaead"
      },
      "outputs": [
        {
          "name": "stdout",
          "output_type": "stream",
          "text": [
            "0       C\n",
            "1       E\n",
            "2       D\n",
            "3       C\n",
            "4       D\n",
            "       ..\n",
            "374     D\n",
            "375     E\n",
            "376     D\n",
            "377     D\n",
            "378     E\n",
            "Name: chute_direcao, Length: 379, dtype: object\n",
            "0      0\n",
            "1      2\n",
            "2      1\n",
            "3      0\n",
            "4      1\n",
            "      ..\n",
            "374    1\n",
            "375    2\n",
            "376    1\n",
            "377    1\n",
            "378    2\n",
            "Name: chute_direcao, Length: 379, dtype: int64\n"
          ]
        }
      ],
      "source": [
        "from sklearn.preprocessing import LabelEncoder\n",
        "\n",
        "# Crie uma instância do LabelEncoder\n",
        "encoder = LabelEncoder()\n",
        "print(base_robocup['chute_direcao'])\n",
        "\n",
        "# Ajuste e transforme os dados categóricos\n",
        "dados_categoricos_transformados = encoder.fit_transform(base_robocup['chute_direcao'])\n",
        "base_robocup['chute_direcao'] = dados_categoricos_transformados\n",
        "\n",
        "print(base_robocup['chute_direcao'])"
      ]
    },
    {
      "cell_type": "code",
      "execution_count": 28,
      "metadata": {
        "colab": {
          "base_uri": "https://localhost:8080/"
        },
        "id": "JeE1xaPHB_vo",
        "outputId": "e3967e17-2f3c-4166-a533-41c8a7c6b24a"
      },
      "outputs": [
        {
          "data": {
            "text/plain": [
              "array([[ 5,  1,  3, 80, 65,  0],\n",
              "       [ 8,  2,  2, 75, 70,  2],\n",
              "       [10,  4,  3, 70, 62,  1],\n",
              "       ...,\n",
              "       [ 6,  1,  2, 75, 68,  1],\n",
              "       [11,  2,  1, 70, 63,  1],\n",
              "       [ 5,  3,  3, 81, 68,  2]])"
            ]
          },
          "execution_count": 28,
          "metadata": {},
          "output_type": "execute_result"
        }
      ],
      "source": [
        "X_robocup = base_robocup.iloc[:, :6].values\n",
        "X_robocup"
      ]
    },
    {
      "cell_type": "code",
      "execution_count": 29,
      "metadata": {
        "colab": {
          "base_uri": "https://localhost:8080/"
        },
        "id": "usDHmfBTC64Y",
        "outputId": "2f825b1f-2c0e-4f71-c248-07b7de614af8"
      },
      "outputs": [
        {
          "data": {
            "text/plain": [
              "array([0, 0, 0, 0, 1, 0, 1, 0, 1, 0, 1, 0, 0, 1, 0, 1, 0, 0, 0, 0, 0, 0,\n",
              "       1, 0, 1, 0, 0, 0, 1, 0, 0, 1, 0, 1, 0, 0, 0, 0, 0, 0, 1, 0, 1, 0,\n",
              "       0, 0, 0, 0, 0, 1, 0, 1, 0, 0, 0, 1, 0, 0, 1, 0, 1, 0, 0, 0, 0, 0,\n",
              "       0, 1, 0, 1, 0, 0, 0, 0, 0, 0, 1, 0, 1, 0, 0, 0, 1, 0, 0, 1, 0, 1,\n",
              "       0, 0, 0, 0, 0, 0, 1, 0, 1, 0, 0, 0, 0, 0, 0, 1, 0, 1, 0, 0, 0, 1,\n",
              "       0, 0, 1, 0, 1, 0, 0, 0, 0, 0, 0, 1, 0, 1, 0, 0, 0, 0, 0, 0, 1, 0,\n",
              "       1, 0, 0, 0, 1, 0, 0, 1, 0, 1, 0, 0, 0, 0, 0, 0, 1, 0, 1, 0, 0, 0,\n",
              "       0, 0, 0, 1, 0, 1, 0, 0, 0, 1, 0, 0, 1, 0, 1, 0, 0, 0, 0, 0, 0, 1,\n",
              "       0, 1, 0, 0, 0, 0, 0, 0, 1, 0, 1, 0, 0, 0, 1, 0, 0, 1, 0, 1, 0, 0,\n",
              "       0, 0, 0, 0, 1, 0, 1, 0, 0, 0, 0, 0, 0, 1, 0, 1, 0, 0, 0, 1, 0, 0,\n",
              "       1, 0, 1, 0, 0, 0, 0, 0, 0, 1, 0, 1, 0, 0, 0, 0, 0, 0, 1, 0, 1, 0,\n",
              "       0, 0, 1, 0, 0, 1, 0, 1, 0, 0, 0, 0, 0, 0, 1, 0, 1, 0, 0, 0, 0, 0,\n",
              "       0, 1, 0, 1, 0, 0, 0, 1, 0, 0, 1, 0, 1, 0, 0, 0, 0, 0, 0, 1, 0, 1,\n",
              "       0, 0, 0, 1, 0, 0, 1, 0, 1, 0, 0, 0, 0, 0, 0, 1, 0, 1, 0, 0, 0, 1,\n",
              "       0, 0, 1, 0, 1, 0, 0, 0, 0, 0, 0, 1, 0, 1, 0, 0, 0, 1, 0, 0, 1, 0,\n",
              "       1, 0, 0, 0, 0, 0, 0, 1, 0, 1, 0, 0, 0, 1, 0, 0, 1, 0, 1, 0, 0, 0,\n",
              "       0, 0, 0, 1, 0, 1, 0, 0, 0, 1, 0, 0, 1, 0, 1, 0, 0, 0, 0, 0, 0, 1,\n",
              "       0, 1, 0, 0, 0])"
            ]
          },
          "execution_count": 29,
          "metadata": {},
          "output_type": "execute_result"
        }
      ],
      "source": [
        "# Busca todas as linhas  do atributo 4(coluna default)\n",
        "y_robocup = base_robocup.iloc[:, 6].values\n",
        "y_robocup"
      ]
    },
    {
      "cell_type": "markdown",
      "metadata": {
        "id": "S_jbxLwqu4fQ"
      },
      "source": [
        "### Escalonamento dos valores\n"
      ]
    },
    {
      "cell_type": "code",
      "execution_count": 30,
      "metadata": {
        "colab": {
          "base_uri": "https://localhost:8080/"
        },
        "id": "EM6wEXhQFP4u",
        "outputId": "a24283d2-e7e5-4cdb-f810-1b2fa470894a"
      },
      "outputs": [
        {
          "data": {
            "text/plain": [
              "array([[ 5,  1,  3, 80, 65,  0],\n",
              "       [ 8,  2,  2, 75, 70,  2],\n",
              "       [10,  4,  3, 70, 62,  1],\n",
              "       ...,\n",
              "       [ 6,  1,  2, 75, 68,  1],\n",
              "       [11,  2,  1, 70, 63,  1],\n",
              "       [ 5,  3,  3, 81, 68,  2]])"
            ]
          },
          "execution_count": 30,
          "metadata": {},
          "output_type": "execute_result"
        }
      ],
      "source": [
        "X_robocup"
      ]
    },
    {
      "cell_type": "code",
      "execution_count": 31,
      "metadata": {
        "colab": {
          "base_uri": "https://localhost:8080/"
        },
        "id": "Hg3f5RV6FZwl",
        "outputId": "1b52db52-403a-440e-fa22-e6ff7770ae9e"
      },
      "outputs": [
        {
          "data": {
            "text/plain": [
              "(4, 0, 1)"
            ]
          },
          "execution_count": 31,
          "metadata": {},
          "output_type": "execute_result"
        }
      ],
      "source": [
        "# Menoes valores\n",
        "X_robocup[:,0].min(), X_robocup[:,1].min(), X_robocup[:,2].min()"
      ]
    },
    {
      "cell_type": "code",
      "execution_count": 32,
      "metadata": {
        "colab": {
          "base_uri": "https://localhost:8080/"
        },
        "id": "GCaRQEI6Fj65",
        "outputId": "ad95275f-9be9-42e7-8b0e-beda0975ac00"
      },
      "outputs": [
        {
          "data": {
            "text/plain": [
              "(12, 4, 4)"
            ]
          },
          "execution_count": 32,
          "metadata": {},
          "output_type": "execute_result"
        }
      ],
      "source": [
        "# Maiores valores\n",
        "X_robocup[:,0].max(), X_robocup[:,1].max(), X_robocup[:,2].max()"
      ]
    },
    {
      "cell_type": "code",
      "execution_count": 33,
      "metadata": {
        "id": "kIwl_pfBHAOX"
      },
      "outputs": [],
      "source": [
        "from sklearn.preprocessing import StandardScaler # Pacote para realizar a padronização\n",
        "scaler_credit = StandardScaler() # Padronizador\n",
        "X_robocup = scaler_credit.fit_transform(X_robocup) # Aplicando a padronizador"
      ]
    },
    {
      "cell_type": "code",
      "execution_count": 34,
      "metadata": {
        "colab": {
          "base_uri": "https://localhost:8080/"
        },
        "id": "UrCwoukQHS8L",
        "outputId": "d63e8890-03af-4473-aee0-5d72f360fafc"
      },
      "outputs": [
        {
          "data": {
            "text/plain": [
              "(-1.5454214909402255, -1.6062229583424341, -1.413187525585212)"
            ]
          },
          "execution_count": 34,
          "metadata": {},
          "output_type": "execute_result"
        }
      ],
      "source": [
        "# Novos valores mimos\n",
        "X_robocup[:,0].min(), X_robocup[:,1].min(), X_robocup[:,2].min()"
      ]
    },
    {
      "cell_type": "code",
      "execution_count": 35,
      "metadata": {
        "colab": {
          "base_uri": "https://localhost:8080/"
        },
        "id": "w8IGh3S-HdDi",
        "outputId": "2e23cbdb-a3cf-49c1-a9e8-64dcd10ba1bf"
      },
      "outputs": [
        {
          "data": {
            "text/plain": [
              "(1.5515500626161287, 1.8723970485820376, 1.4206647082602661)"
            ]
          },
          "execution_count": 35,
          "metadata": {},
          "output_type": "execute_result"
        }
      ],
      "source": [
        "# Novos valores máximos\n",
        "X_robocup[:,0].max(), X_robocup[:,1].max(), X_robocup[:,2].max()"
      ]
    },
    {
      "cell_type": "code",
      "execution_count": 36,
      "metadata": {
        "colab": {
          "base_uri": "https://localhost:8080/"
        },
        "id": "4VyQztFtHlYa",
        "outputId": "47c9352e-58ac-45c3-a90a-0dfd7823db22"
      },
      "outputs": [
        {
          "data": {
            "text/plain": [
              "array([[-1.15830005, -0.73656796,  0.4760473 , -0.08681595, -0.54466402,\n",
              "        -1.40334816],\n",
              "       [ 0.00306429,  0.13308705, -0.46857011, -0.81155708,  0.57357901,\n",
              "         1.21025849],\n",
              "       [ 0.77730717,  1.87239705,  0.4760473 , -1.5362982 , -1.21560984,\n",
              "        -0.09654484],\n",
              "       ...,\n",
              "       [-0.7711786 , -0.73656796, -0.46857011, -0.81155708,  0.1262818 ,\n",
              "        -0.09654484],\n",
              "       [ 1.16442862,  0.13308705, -1.41318753, -1.5362982 , -0.99196124,\n",
              "        -0.09654484],\n",
              "       [-1.15830005,  1.00274205,  0.4760473 ,  0.05813227,  0.1262818 ,\n",
              "         1.21025849]])"
            ]
          },
          "execution_count": 36,
          "metadata": {},
          "output_type": "execute_result"
        }
      ],
      "source": [
        "X_robocup"
      ]
    },
    {
      "cell_type": "markdown",
      "metadata": {
        "id": "oAGIx3Cx7daW"
      },
      "source": [
        "### Seperando a base de treinamento e de teste"
      ]
    },
    {
      "cell_type": "code",
      "execution_count": 37,
      "metadata": {
        "id": "wnNoD9kQ7xDk"
      },
      "outputs": [],
      "source": [
        "from sklearn.model_selection import train_test_split"
      ]
    },
    {
      "cell_type": "code",
      "execution_count": 38,
      "metadata": {
        "id": "YglWGPdjeXb1"
      },
      "outputs": [],
      "source": [
        "X_robocup_treinamento, X_robocup_teste, y_robocup_treinamento, y_robocup_teste = train_test_split(X_robocup, y_robocup, test_size = 0.10, random_state = 0)"
      ]
    },
    {
      "cell_type": "code",
      "execution_count": 39,
      "metadata": {
        "colab": {
          "base_uri": "https://localhost:8080/"
        },
        "id": "OcUWH-xTfAC3",
        "outputId": "b9e82e2e-8956-4f6f-e042-65d0b229f91e"
      },
      "outputs": [
        {
          "data": {
            "text/plain": [
              "((341, 6), (341,))"
            ]
          },
          "execution_count": 39,
          "metadata": {},
          "output_type": "execute_result"
        }
      ],
      "source": [
        "X_robocup_treinamento.shape, y_robocup_treinamento.shape"
      ]
    },
    {
      "cell_type": "code",
      "execution_count": 40,
      "metadata": {
        "colab": {
          "base_uri": "https://localhost:8080/"
        },
        "id": "iuf-gKIvfR2f",
        "outputId": "dc76732a-8a40-419f-ad31-79915ea10157"
      },
      "outputs": [
        {
          "data": {
            "text/plain": [
              "((341, 6), (341,))"
            ]
          },
          "execution_count": 40,
          "metadata": {},
          "output_type": "execute_result"
        }
      ],
      "source": [
        "X_robocup_treinamento.shape, y_robocup_treinamento.shape"
      ]
    },
    {
      "cell_type": "markdown",
      "metadata": {
        "id": "Oi9qbert8aMv"
      },
      "source": [
        "## Salvando os dados depois do pré-processamento\n"
      ]
    },
    {
      "cell_type": "code",
      "execution_count": 41,
      "metadata": {
        "id": "Vn6R_DKHhG0u"
      },
      "outputs": [],
      "source": [
        "import pickle"
      ]
    },
    {
      "cell_type": "code",
      "execution_count": 42,
      "metadata": {
        "id": "7bcjVkwqhLpY"
      },
      "outputs": [],
      "source": [
        "with open('./robocup.pkl', mode = 'wb') as f:\n",
        "  pickle.dump([X_robocup_treinamento, y_robocup_treinamento, X_robocup_teste, y_robocup_teste], f)"
      ]
    },
    {
      "cell_type": "markdown",
      "metadata": {},
      "source": [
        "### Carregando dados pré-processados"
      ]
    },
    {
      "cell_type": "code",
      "execution_count": 43,
      "metadata": {
        "id": "LP-CNnnLrv74"
      },
      "outputs": [],
      "source": [
        "with open(f'./robocup.pkl', 'rb') as f:\n",
        "  X_robocup_treinamento, y_robocup_treinamento, X_robocup_teste, y_robocup_teste = pickle.load(f)"
      ]
    },
    {
      "cell_type": "markdown",
      "metadata": {
        "id": "zX-Vgf6TnLnc"
      },
      "source": [
        "# Naïve Bayes"
      ]
    },
    {
      "cell_type": "code",
      "execution_count": 44,
      "metadata": {
        "id": "U-BlxVMDqflF"
      },
      "outputs": [],
      "source": [
        "from sklearn.naive_bayes import GaussianNB # Classes que repreenta o naive bayes"
      ]
    },
    {
      "cell_type": "code",
      "execution_count": 45,
      "metadata": {
        "colab": {
          "base_uri": "https://localhost:8080/"
        },
        "id": "11c886Pf1kwf",
        "outputId": "6a5fb213-f72d-4c4c-eb2d-ac4f250b9425"
      },
      "outputs": [
        {
          "data": {
            "text/plain": [
              "((341, 6), (341,))"
            ]
          },
          "execution_count": 45,
          "metadata": {},
          "output_type": "execute_result"
        }
      ],
      "source": [
        "X_robocup_treinamento.shape, y_robocup_treinamento.shape"
      ]
    },
    {
      "cell_type": "code",
      "execution_count": 46,
      "metadata": {
        "colab": {
          "base_uri": "https://localhost:8080/"
        },
        "id": "cD_tACqD1v6Y",
        "outputId": "2b56a000-7a77-480c-be71-7957f5bbd866"
      },
      "outputs": [
        {
          "data": {
            "text/plain": [
              "((38, 6), (38,))"
            ]
          },
          "execution_count": 46,
          "metadata": {},
          "output_type": "execute_result"
        }
      ],
      "source": [
        "X_robocup_teste.shape, y_robocup_teste.shape"
      ]
    },
    {
      "cell_type": "code",
      "execution_count": 47,
      "metadata": {
        "colab": {
          "base_uri": "https://localhost:8080/"
        },
        "id": "gnU8BRlr15uT",
        "outputId": "17ef1265-971f-42a4-c955-6d8d509b9631"
      },
      "outputs": [
        {
          "data": {
            "text/plain": [
              "array([0, 0, 0, 0, 0, 1, 0, 0, 0, 1, 1, 0, 0, 1, 0, 0, 0, 0, 0, 0, 1, 0,\n",
              "       1, 0, 0, 0, 0, 1, 1, 0, 0, 1, 0, 0, 0, 0, 1, 1])"
            ]
          },
          "execution_count": 47,
          "metadata": {},
          "output_type": "execute_result"
        }
      ],
      "source": [
        "# Gerando a tabela de probabilidade\n",
        "naive_robocup = GaussianNB()\n",
        "naive_robocup.fit(X_robocup_treinamento, y_robocup_treinamento)\n",
        "\n",
        "# Aplicando o modelo na base de teste\n",
        "previsoes = naive_robocup.predict(X_robocup_teste)\n",
        "previsoes"
      ]
    },
    {
      "cell_type": "code",
      "execution_count": 48,
      "metadata": {
        "colab": {
          "base_uri": "https://localhost:8080/"
        },
        "id": "_TonV1b32RoP",
        "outputId": "de5fe5d1-3137-4651-e27b-d97ddaf329e6"
      },
      "outputs": [
        {
          "data": {
            "text/plain": [
              "array([0, 0, 0, 0, 0, 1, 0, 0, 0, 0, 1, 0, 0, 1, 0, 0, 0, 0, 0, 0, 1, 0,\n",
              "       1, 0, 0, 0, 0, 1, 1, 0, 0, 1, 0, 0, 0, 0, 1, 1])"
            ]
          },
          "execution_count": 48,
          "metadata": {},
          "output_type": "execute_result"
        }
      ],
      "source": [
        "# Respostas corretas da base de dados\n",
        "y_robocup_teste"
      ]
    },
    {
      "cell_type": "code",
      "execution_count": 49,
      "metadata": {
        "colab": {
          "base_uri": "https://localhost:8080/"
        },
        "id": "_JAtM61v2eiA",
        "outputId": "66c704ba-c8d0-4923-c768-fc1450125fbd"
      },
      "outputs": [
        {
          "data": {
            "text/plain": [
              "0.9736842105263158"
            ]
          },
          "execution_count": 49,
          "metadata": {},
          "output_type": "execute_result"
        }
      ],
      "source": [
        "accuracy_score(y_robocup_teste, previsoes) # não executar o escalonamento"
      ]
    },
    {
      "cell_type": "code",
      "execution_count": 50,
      "metadata": {
        "colab": {
          "base_uri": "https://localhost:8080/",
          "height": 496
        },
        "id": "L0K6x5C-3B3e",
        "outputId": "b6829d6c-8ea5-4770-9ed3-c16baa73eeb8"
      },
      "outputs": [
        {
          "data": {
            "text/plain": [
              "0.9736842105263158"
            ]
          },
          "execution_count": 50,
          "metadata": {},
          "output_type": "execute_result"
        },
        {
          "data": {
            "image/png": "[encoded data removed]",
            "text/plain": [
              "<Figure size 800x550 with 1 Axes>"
            ]
          },
          "metadata": {},
          "output_type": "display_data"
        }
      ],
      "source": [
        "cm = ConfusionMatrix(naive_robocup)\n",
        "cm.fit(X_robocup_treinamento, y_robocup_treinamento)\n",
        "cm.score(X_robocup_teste, y_robocup_teste)"
      ]
    },
    {
      "cell_type": "code",
      "execution_count": 51,
      "metadata": {
        "colab": {
          "base_uri": "https://localhost:8080/"
        },
        "id": "73BnWAg83fkr",
        "outputId": "42a95442-ca1d-4a8b-dcda-03458983e19c"
      },
      "outputs": [
        {
          "name": "stdout",
          "output_type": "stream",
          "text": [
            "              precision    recall  f1-score   support\n",
            "\n",
            "           0       1.00      0.96      0.98        28\n",
            "           1       0.91      1.00      0.95        10\n",
            "\n",
            "    accuracy                           0.97        38\n",
            "   macro avg       0.95      0.98      0.97        38\n",
            "weighted avg       0.98      0.97      0.97        38\n",
            "\n"
          ]
        }
      ],
      "source": [
        "print(classification_report(y_robocup_teste, previsoes))"
      ]
    },
    {
      "cell_type": "code",
      "execution_count": null,
      "metadata": {
        "id": "jEONquU1rrYY"
      },
      "outputs": [],
      "source": []
    },
    {
      "cell_type": "markdown",
      "metadata": {
        "id": "DjUu9ktyU4__"
      },
      "source": [
        "# Árvores de decisão"
      ]
    },
    {
      "cell_type": "code",
      "execution_count": 52,
      "metadata": {
        "id": "9WB3PZAfYmJr"
      },
      "outputs": [],
      "source": [
        "from sklearn.tree import DecisionTreeClassifier"
      ]
    },
    {
      "cell_type": "code",
      "execution_count": 53,
      "metadata": {
        "colab": {
          "base_uri": "https://localhost:8080/",
          "height": 74
        },
        "id": "eplNbMEcdHap",
        "outputId": "6ea0fe06-ba0d-4d6a-b2aa-2a5864fb544a"
      },
      "outputs": [
        {
          "data": {
            "text/html": [
              "<style>#sk-container-id-1 {color: black;}#sk-container-id-1 pre{padding: 0;}#sk-container-id-1 div.sk-toggleable {background-color: white;}#sk-container-id-1 label.sk-toggleable__label {cursor: pointer;display: block;width: 100%;margin-bottom: 0;padding: 0.3em;box-sizing: border-box;text-align: center;}#sk-container-id-1 label.sk-toggleable__label-arrow:before {content: \"▸\";float: left;margin-right: 0.25em;color: #696969;}#sk-container-id-1 label.sk-toggleable__label-arrow:hover:before {color: black;}#sk-container-id-1 div.sk-estimator:hover label.sk-toggleable__label-arrow:before {color: black;}#sk-container-id-1 div.sk-toggleable__content {max-height: 0;max-width: 0;overflow: hidden;text-align: left;background-color: #f0f8ff;}#sk-container-id-1 div.sk-toggleable__content pre {margin: 0.2em;color: black;border-radius: 0.25em;background-color: #f0f8ff;}#sk-container-id-1 input.sk-toggleable__control:checked~div.sk-toggleable__content {max-height: 200px;max-width: 100%;overflow: auto;}#sk-container-id-1 input.sk-toggleable__control:checked~label.sk-toggleable__label-arrow:before {content: \"▾\";}#sk-container-id-1 div.sk-estimator input.sk-toggleable__control:checked~label.sk-toggleable__label {background-color: #d4ebff;}#sk-container-id-1 div.sk-label input.sk-toggleable__control:checked~label.sk-toggleable__label {background-color: #d4ebff;}#sk-container-id-1 input.sk-hidden--visually {border: 0;clip: rect(1px 1px 1px 1px);clip: rect(1px, 1px, 1px, 1px);height: 1px;margin: -1px;overflow: hidden;padding: 0;position: absolute;width: 1px;}#sk-container-id-1 div.sk-estimator {font-family: monospace;background-color: #f0f8ff;border: 1px dotted black;border-radius: 0.25em;box-sizing: border-box;margin-bottom: 0.5em;}#sk-container-id-1 div.sk-estimator:hover {background-color: #d4ebff;}#sk-container-id-1 div.sk-parallel-item::after {content: \"\";width: 100%;border-bottom: 1px solid gray;flex-grow: 1;}#sk-container-id-1 div.sk-label:hover label.sk-toggleable__label {background-color: #d4ebff;}#sk-container-id-1 div.sk-serial::before {content: \"\";position: absolute;border-left: 1px solid gray;box-sizing: border-box;top: 0;bottom: 0;left: 50%;z-index: 0;}#sk-container-id-1 div.sk-serial {display: flex;flex-direction: column;align-items: center;background-color: white;padding-right: 0.2em;padding-left: 0.2em;position: relative;}#sk-container-id-1 div.sk-item {position: relative;z-index: 1;}#sk-container-id-1 div.sk-parallel {display: flex;align-items: stretch;justify-content: center;background-color: white;position: relative;}#sk-container-id-1 div.sk-item::before, #sk-container-id-1 div.sk-parallel-item::before {content: \"\";position: absolute;border-left: 1px solid gray;box-sizing: border-box;top: 0;bottom: 0;left: 50%;z-index: -1;}#sk-container-id-1 div.sk-parallel-item {display: flex;flex-direction: column;z-index: 1;position: relative;background-color: white;}#sk-container-id-1 div.sk-parallel-item:first-child::after {align-self: flex-end;width: 50%;}#sk-container-id-1 div.sk-parallel-item:last-child::after {align-self: flex-start;width: 50%;}#sk-container-id-1 div.sk-parallel-item:only-child::after {width: 0;}#sk-container-id-1 div.sk-dashed-wrapped {border: 1px dashed gray;margin: 0 0.4em 0.5em 0.4em;box-sizing: border-box;padding-bottom: 0.4em;background-color: white;}#sk-container-id-1 div.sk-label label {font-family: monospace;font-weight: bold;display: inline-block;line-height: 1.2em;}#sk-container-id-1 div.sk-label-container {text-align: center;}#sk-container-id-1 div.sk-container {/* jupyter's `normalize.less` sets `[hidden] { display: none; }` but bootstrap.min.css set `[hidden] { display: none !important; }` so we also need the `!important` here to be able to override the default hidden behavior on the sphinx rendered scikit-learn.org. See: https://github.com/scikit-learn/scikit-learn/issues/21755 */display: inline-block !important;position: relative;}#sk-container-id-1 div.sk-text-repr-fallback {display: none;}</style><div id=\"sk-container-id-1\" class=\"sk-top-container\"><div class=\"sk-text-repr-fallback\"><pre>DecisionTreeClassifier(criterion=&#x27;entropy&#x27;, random_state=0)</pre><b>In a Jupyter environment, please rerun this cell to show the HTML representation or trust the notebook. <br />On GitHub, the HTML representation is unable to render, please try loading this page with nbviewer.org.</b></div><div class=\"sk-container\" hidden><div class=\"sk-item\"><div class=\"sk-estimator sk-toggleable\"><input class=\"sk-toggleable__control sk-hidden--visually\" id=\"sk-estimator-id-1\" type=\"checkbox\" checked><label for=\"sk-estimator-id-1\" class=\"sk-toggleable__label sk-toggleable__label-arrow\">DecisionTreeClassifier</label><div class=\"sk-toggleable__content\"><pre>DecisionTreeClassifier(criterion=&#x27;entropy&#x27;, random_state=0)</pre></div></div></div></div></div>"
            ],
            "text/plain": [
              "DecisionTreeClassifier(criterion='entropy', random_state=0)"
            ]
          },
          "execution_count": 53,
          "metadata": {},
          "output_type": "execute_result"
        }
      ],
      "source": [
        "# Criando e treinando a árvore de decisão\n",
        "arvore_credit = DecisionTreeClassifier(criterion='entropy', random_state = 0)\n",
        "arvore_credit.fit(X_robocup_treinamento, y_robocup_treinamento) # O fit recebe os atributos previsores e a classe"
      ]
    },
    {
      "cell_type": "code",
      "execution_count": 54,
      "metadata": {
        "colab": {
          "base_uri": "https://localhost:8080/"
        },
        "id": "acB3m58gdZ95",
        "outputId": "63faeda3-b606-457e-cbc1-4256c0abf30a"
      },
      "outputs": [
        {
          "data": {
            "text/plain": [
              "array([0, 0, 0, 0, 0, 1, 0, 0, 0, 0, 1, 0, 0, 1, 0, 0, 0, 0, 0, 0, 1, 0,\n",
              "       1, 0, 0, 0, 0, 1, 1, 0, 0, 1, 0, 0, 0, 0, 1, 1])"
            ]
          },
          "execution_count": 54,
          "metadata": {},
          "output_type": "execute_result"
        }
      ],
      "source": [
        "# Aplicando o modelo na base de teste\n",
        "previsoes = arvore_credit.predict(X_robocup_teste)\n",
        "previsoes # Dados gerados pelo modelo"
      ]
    },
    {
      "cell_type": "code",
      "execution_count": 55,
      "metadata": {
        "colab": {
          "base_uri": "https://localhost:8080/"
        },
        "id": "_b7lIf-Xdh3-",
        "outputId": "41cc4e3c-8e0a-41ab-a9fb-2e7fa7457b41"
      },
      "outputs": [
        {
          "data": {
            "text/plain": [
              "array([0, 0, 0, 0, 0, 1, 0, 0, 0, 0, 1, 0, 0, 1, 0, 0, 0, 0, 0, 0, 1, 0,\n",
              "       1, 0, 0, 0, 0, 1, 1, 0, 0, 1, 0, 0, 0, 0, 1, 1])"
            ]
          },
          "execution_count": 55,
          "metadata": {},
          "output_type": "execute_result"
        }
      ],
      "source": [
        "# Dados corretos da base de teste\n",
        "y_robocup_teste"
      ]
    },
    {
      "cell_type": "code",
      "execution_count": 56,
      "metadata": {
        "colab": {
          "base_uri": "https://localhost:8080/"
        },
        "id": "uxVZTYeVdyln",
        "outputId": "0c874963-4bd4-4698-f9e8-6ada69d0fdf4"
      },
      "outputs": [
        {
          "data": {
            "text/plain": [
              "1.0"
            ]
          },
          "execution_count": 56,
          "metadata": {},
          "output_type": "execute_result"
        }
      ],
      "source": [
        "accuracy_score(y_robocup_teste, previsoes)"
      ]
    },
    {
      "cell_type": "code",
      "execution_count": 57,
      "metadata": {
        "colab": {
          "base_uri": "https://localhost:8080/",
          "height": 496
        },
        "id": "KyxnMFFcd-dV",
        "outputId": "388f9bb2-40c6-4632-ebdf-960c3be0a442"
      },
      "outputs": [
        {
          "data": {
            "text/plain": [
              "1.0"
            ]
          },
          "execution_count": 57,
          "metadata": {},
          "output_type": "execute_result"
        },
        {
          "data": {
            "image/png": "[encoded data removed]",
            "text/plain": [
              "<Figure size 800x550 with 1 Axes>"
            ]
          },
          "metadata": {},
          "output_type": "display_data"
        }
      ],
      "source": [
        "# Matriz de confunção\n",
        "cm = ConfusionMatrix(arvore_credit)\n",
        "cm.fit(X_robocup_treinamento, y_robocup_treinamento)\n",
        "cm.score(X_robocup_teste, y_robocup_teste)"
      ]
    },
    {
      "cell_type": "code",
      "execution_count": 58,
      "metadata": {
        "colab": {
          "base_uri": "https://localhost:8080/"
        },
        "id": "TOKN0sCQejMA",
        "outputId": "f1a482ab-2fb5-4ebc-c7ed-a9b2ccaf8931"
      },
      "outputs": [
        {
          "name": "stdout",
          "output_type": "stream",
          "text": [
            "              precision    recall  f1-score   support\n",
            "\n",
            "           0       1.00      1.00      1.00        28\n",
            "           1       1.00      1.00      1.00        10\n",
            "\n",
            "    accuracy                           1.00        38\n",
            "   macro avg       1.00      1.00      1.00        38\n",
            "weighted avg       1.00      1.00      1.00        38\n",
            "\n"
          ]
        }
      ],
      "source": [
        "# Metricas do modelo\n",
        "print(classification_report(y_robocup_teste, previsoes))"
      ]
    },
    {
      "cell_type": "code",
      "execution_count": 59,
      "metadata": {
        "colab": {
          "base_uri": "https://localhost:8080/"
        },
        "id": "qbIHsNpWfU9F",
        "outputId": "304a36a6-7747-4d09-c706-6242ff438797"
      },
      "outputs": [
        {
          "data": {
            "text/plain": [
              "array([0, 1])"
            ]
          },
          "execution_count": 59,
          "metadata": {},
          "output_type": "execute_result"
        }
      ],
      "source": [
        "# Valores do atributo classe\n",
        "arvore_credit.classes_"
      ]
    },
    {
      "cell_type": "code",
      "execution_count": 60,
      "metadata": {
        "colab": {
          "base_uri": "https://localhost:8080/",
          "height": 831
        },
        "id": "OaEECZFwfM5A",
        "outputId": "6c7e87df-4bbc-4cc7-88e0-87666c9447ad"
      },
      "outputs": [
        {
          "data": {
            "image/png": "[encoded data removed]",
            "text/plain": [
              "<Figure size 2000x2000 with 1 Axes>"
            ]
          },
          "metadata": {},
          "output_type": "display_data"
        }
      ],
      "source": [
        "# Visualizando a árvore de decisão\n",
        "from sklearn import tree\n",
        "previsores = [\"distancia_do_gol\",\"oponentes_no_campo_de_visao\",\"companheiros_no_campo_de_visao\",\"stamina\",\"forca_do_Chute\",\"chute_direcao\"]\n",
        "fig, axes = plt.subplots(nrows = 1,ncols = 1,figsize = (20,20))\n",
        "tree.plot_tree(arvore_credit, feature_names=previsores, class_names=['0','1'], filled=True);\n",
        "fig.savefig('arvore_credit.png') # Salvando a png da árvore"
      ]
    },
    {
      "cell_type": "markdown",
      "metadata": {
        "id": "BOPQLz28jDi7"
      },
      "source": [
        "# Random Forest"
      ]
    },
    {
      "cell_type": "code",
      "execution_count": 61,
      "metadata": {
        "id": "4WvAs54_jVEF"
      },
      "outputs": [],
      "source": [
        "from sklearn.ensemble import RandomForestClassifier"
      ]
    },
    {
      "cell_type": "code",
      "execution_count": 62,
      "metadata": {
        "colab": {
          "base_uri": "https://localhost:8080/",
          "height": 74
        },
        "id": "TERGTyNwju4t",
        "outputId": "5ffbae7b-b8f5-484a-e97e-facbdd522f84"
      },
      "outputs": [
        {
          "data": {
            "text/html": [
              "<style>#sk-container-id-2 {color: black;}#sk-container-id-2 pre{padding: 0;}#sk-container-id-2 div.sk-toggleable {background-color: white;}#sk-container-id-2 label.sk-toggleable__label {cursor: pointer;display: block;width: 100%;margin-bottom: 0;padding: 0.3em;box-sizing: border-box;text-align: center;}#sk-container-id-2 label.sk-toggleable__label-arrow:before {content: \"▸\";float: left;margin-right: 0.25em;color: #696969;}#sk-container-id-2 label.sk-toggleable__label-arrow:hover:before {color: black;}#sk-container-id-2 div.sk-estimator:hover label.sk-toggleable__label-arrow:before {color: black;}#sk-container-id-2 div.sk-toggleable__content {max-height: 0;max-width: 0;overflow: hidden;text-align: left;background-color: #f0f8ff;}#sk-container-id-2 div.sk-toggleable__content pre {margin: 0.2em;color: black;border-radius: 0.25em;background-color: #f0f8ff;}#sk-container-id-2 input.sk-toggleable__control:checked~div.sk-toggleable__content {max-height: 200px;max-width: 100%;overflow: auto;}#sk-container-id-2 input.sk-toggleable__control:checked~label.sk-toggleable__label-arrow:before {content: \"▾\";}#sk-container-id-2 div.sk-estimator input.sk-toggleable__control:checked~label.sk-toggleable__label {background-color: #d4ebff;}#sk-container-id-2 div.sk-label input.sk-toggleable__control:checked~label.sk-toggleable__label {background-color: #d4ebff;}#sk-container-id-2 input.sk-hidden--visually {border: 0;clip: rect(1px 1px 1px 1px);clip: rect(1px, 1px, 1px, 1px);height: 1px;margin: -1px;overflow: hidden;padding: 0;position: absolute;width: 1px;}#sk-container-id-2 div.sk-estimator {font-family: monospace;background-color: #f0f8ff;border: 1px dotted black;border-radius: 0.25em;box-sizing: border-box;margin-bottom: 0.5em;}#sk-container-id-2 div.sk-estimator:hover {background-color: #d4ebff;}#sk-container-id-2 div.sk-parallel-item::after {content: \"\";width: 100%;border-bottom: 1px solid gray;flex-grow: 1;}#sk-container-id-2 div.sk-label:hover label.sk-toggleable__label {background-color: #d4ebff;}#sk-container-id-2 div.sk-serial::before {content: \"\";position: absolute;border-left: 1px solid gray;box-sizing: border-box;top: 0;bottom: 0;left: 50%;z-index: 0;}#sk-container-id-2 div.sk-serial {display: flex;flex-direction: column;align-items: center;background-color: white;padding-right: 0.2em;padding-left: 0.2em;position: relative;}#sk-container-id-2 div.sk-item {position: relative;z-index: 1;}#sk-container-id-2 div.sk-parallel {display: flex;align-items: stretch;justify-content: center;background-color: white;position: relative;}#sk-container-id-2 div.sk-item::before, #sk-container-id-2 div.sk-parallel-item::before {content: \"\";position: absolute;border-left: 1px solid gray;box-sizing: border-box;top: 0;bottom: 0;left: 50%;z-index: -1;}#sk-container-id-2 div.sk-parallel-item {display: flex;flex-direction: column;z-index: 1;position: relative;background-color: white;}#sk-container-id-2 div.sk-parallel-item:first-child::after {align-self: flex-end;width: 50%;}#sk-container-id-2 div.sk-parallel-item:last-child::after {align-self: flex-start;width: 50%;}#sk-container-id-2 div.sk-parallel-item:only-child::after {width: 0;}#sk-container-id-2 div.sk-dashed-wrapped {border: 1px dashed gray;margin: 0 0.4em 0.5em 0.4em;box-sizing: border-box;padding-bottom: 0.4em;background-color: white;}#sk-container-id-2 div.sk-label label {font-family: monospace;font-weight: bold;display: inline-block;line-height: 1.2em;}#sk-container-id-2 div.sk-label-container {text-align: center;}#sk-container-id-2 div.sk-container {/* jupyter's `normalize.less` sets `[hidden] { display: none; }` but bootstrap.min.css set `[hidden] { display: none !important; }` so we also need the `!important` here to be able to override the default hidden behavior on the sphinx rendered scikit-learn.org. See: https://github.com/scikit-learn/scikit-learn/issues/21755 */display: inline-block !important;position: relative;}#sk-container-id-2 div.sk-text-repr-fallback {display: none;}</style><div id=\"sk-container-id-2\" class=\"sk-top-container\"><div class=\"sk-text-repr-fallback\"><pre>RandomForestClassifier(criterion=&#x27;entropy&#x27;, n_estimators=40, random_state=0)</pre><b>In a Jupyter environment, please rerun this cell to show the HTML representation or trust the notebook. <br />On GitHub, the HTML representation is unable to render, please try loading this page with nbviewer.org.</b></div><div class=\"sk-container\" hidden><div class=\"sk-item\"><div class=\"sk-estimator sk-toggleable\"><input class=\"sk-toggleable__control sk-hidden--visually\" id=\"sk-estimator-id-2\" type=\"checkbox\" checked><label for=\"sk-estimator-id-2\" class=\"sk-toggleable__label sk-toggleable__label-arrow\">RandomForestClassifier</label><div class=\"sk-toggleable__content\"><pre>RandomForestClassifier(criterion=&#x27;entropy&#x27;, n_estimators=40, random_state=0)</pre></div></div></div></div></div>"
            ],
            "text/plain": [
              "RandomForestClassifier(criterion='entropy', n_estimators=40, random_state=0)"
            ]
          },
          "execution_count": 62,
          "metadata": {},
          "output_type": "execute_result"
        }
      ],
      "source": [
        "random_forest_robocup = RandomForestClassifier(n_estimators=40, criterion='entropy', random_state = 0)\n",
        "random_forest_robocup.fit(X_robocup_treinamento, y_robocup_treinamento)"
      ]
    },
    {
      "cell_type": "code",
      "execution_count": 63,
      "metadata": {
        "colab": {
          "base_uri": "https://localhost:8080/"
        },
        "id": "oxJBpA5rkO7o",
        "outputId": "33bbf14a-779d-440a-bf62-13851ac90290"
      },
      "outputs": [
        {
          "data": {
            "text/plain": [
              "array([0, 0, 0, 0, 0, 1, 0, 0, 0, 0, 1, 0, 0, 1, 0, 0, 0, 0, 0, 0, 1, 0,\n",
              "       1, 0, 0, 0, 0, 1, 1, 0, 0, 1, 0, 0, 0, 0, 1, 1])"
            ]
          },
          "execution_count": 63,
          "metadata": {},
          "output_type": "execute_result"
        }
      ],
      "source": [
        "# Aplicando o modelo de random forest\n",
        "previsoes = random_forest_robocup.predict(X_robocup_teste)\n",
        "previsoes"
      ]
    },
    {
      "cell_type": "code",
      "execution_count": 64,
      "metadata": {
        "colab": {
          "base_uri": "https://localhost:8080/"
        },
        "id": "luiG5NigkX2R",
        "outputId": "94e72da6-d854-4e0a-a3af-6425adbb36af"
      },
      "outputs": [
        {
          "data": {
            "text/plain": [
              "array([0, 0, 0, 0, 0, 1, 0, 0, 0, 0, 1, 0, 0, 1, 0, 0, 0, 0, 0, 0, 1, 0,\n",
              "       1, 0, 0, 0, 0, 1, 1, 0, 0, 1, 0, 0, 0, 0, 1, 1])"
            ]
          },
          "execution_count": 64,
          "metadata": {},
          "output_type": "execute_result"
        }
      ],
      "source": [
        "y_robocup_teste"
      ]
    },
    {
      "cell_type": "code",
      "execution_count": 65,
      "metadata": {
        "colab": {
          "base_uri": "https://localhost:8080/"
        },
        "id": "nzWIt3WikfcF",
        "outputId": "41a8dbfd-aec2-4990-861e-d741f379d403"
      },
      "outputs": [
        {
          "data": {
            "text/plain": [
              "1.0"
            ]
          },
          "execution_count": 65,
          "metadata": {},
          "output_type": "execute_result"
        }
      ],
      "source": [
        "accuracy_score(y_robocup_teste, previsoes)"
      ]
    },
    {
      "cell_type": "code",
      "execution_count": 66,
      "metadata": {
        "colab": {
          "base_uri": "https://localhost:8080/",
          "height": 496
        },
        "id": "PZXPd4lklYLP",
        "outputId": "71769ff8-5c45-40f2-fc3d-b03aa36e2a2f"
      },
      "outputs": [
        {
          "data": {
            "text/plain": [
              "1.0"
            ]
          },
          "execution_count": 66,
          "metadata": {},
          "output_type": "execute_result"
        },
        {
          "data": {
            "image/png": "[encoded data removed]",
            "text/plain": [
              "<Figure size 800x550 with 1 Axes>"
            ]
          },
          "metadata": {},
          "output_type": "display_data"
        }
      ],
      "source": [
        "cm = ConfusionMatrix(random_forest_robocup)\n",
        "cm.fit(X_robocup_treinamento, y_robocup_treinamento)\n",
        "cm.score(X_robocup_teste, y_robocup_teste)"
      ]
    },
    {
      "cell_type": "code",
      "execution_count": 67,
      "metadata": {
        "colab": {
          "base_uri": "https://localhost:8080/"
        },
        "id": "3pf7Mx6OloBa",
        "outputId": "7a1aa972-edb3-4408-db36-4e3da301e5d4"
      },
      "outputs": [
        {
          "name": "stdout",
          "output_type": "stream",
          "text": [
            "              precision    recall  f1-score   support\n",
            "\n",
            "           0       1.00      1.00      1.00        28\n",
            "           1       1.00      1.00      1.00        10\n",
            "\n",
            "    accuracy                           1.00        38\n",
            "   macro avg       1.00      1.00      1.00        38\n",
            "weighted avg       1.00      1.00      1.00        38\n",
            "\n"
          ]
        }
      ],
      "source": [
        "print(classification_report(y_robocup_teste, previsoes))"
      ]
    },
    {
      "cell_type": "markdown",
      "metadata": {
        "id": "fSNUSSeOhqAd"
      },
      "source": [
        "# Redes neurais artificiais"
      ]
    },
    {
      "cell_type": "code",
      "execution_count": 68,
      "metadata": {
        "id": "FvdcLLQLnFIW"
      },
      "outputs": [],
      "source": [
        "from sklearn.neural_network import MLPClassifier"
      ]
    },
    {
      "cell_type": "code",
      "execution_count": 69,
      "metadata": {
        "colab": {
          "base_uri": "https://localhost:8080/"
        },
        "id": "Df5EfDyjnAB6",
        "outputId": "ac4d8b07-781a-4e32-9527-93741225fab2"
      },
      "outputs": [
        {
          "data": {
            "text/plain": [
              "((38, 6), (38,))"
            ]
          },
          "execution_count": 69,
          "metadata": {},
          "output_type": "execute_result"
        }
      ],
      "source": [
        "X_robocup_teste.shape, y_robocup_teste.shape"
      ]
    },
    {
      "cell_type": "code",
      "execution_count": 70,
      "metadata": {
        "colab": {
          "base_uri": "https://localhost:8080/",
          "height": 1000
        },
        "id": "BCGNa_d8nYOf",
        "outputId": "4419f4b9-490d-4507-8ab8-65ed9a24eaf5"
      },
      "outputs": [
        {
          "name": "stdout",
          "output_type": "stream",
          "text": [
            "Iteration 1, loss = 0.70983380\n",
            "Iteration 2, loss = 0.69225211\n",
            "Iteration 3, loss = 0.67633180\n",
            "Iteration 4, loss = 0.66121387\n",
            "Iteration 5, loss = 0.64650510\n",
            "Iteration 6, loss = 0.63277529\n",
            "Iteration 7, loss = 0.61914446\n",
            "Iteration 8, loss = 0.60607122\n",
            "Iteration 9, loss = 0.59281502\n",
            "Iteration 10, loss = 0.57983265\n",
            "Iteration 11, loss = 0.56699749\n",
            "Iteration 12, loss = 0.55408545\n",
            "Iteration 13, loss = 0.54131988\n",
            "Iteration 14, loss = 0.52836924\n",
            "Iteration 15, loss = 0.51608760\n",
            "Iteration 16, loss = 0.50345403\n",
            "Iteration 17, loss = 0.49151849\n",
            "Iteration 18, loss = 0.47890373\n",
            "Iteration 19, loss = 0.46682262\n",
            "Iteration 20, loss = 0.45500032\n",
            "Iteration 21, loss = 0.44284128\n",
            "Iteration 22, loss = 0.43089890\n",
            "Iteration 23, loss = 0.41914468\n",
            "Iteration 24, loss = 0.40719352\n",
            "Iteration 25, loss = 0.39534317\n",
            "Iteration 26, loss = 0.38337176\n",
            "Iteration 27, loss = 0.37156637\n",
            "Iteration 28, loss = 0.35993925\n",
            "Iteration 29, loss = 0.34842218\n",
            "Iteration 30, loss = 0.33710964\n",
            "Iteration 31, loss = 0.32610381\n",
            "Iteration 32, loss = 0.31530235\n",
            "Iteration 33, loss = 0.30437319\n",
            "Iteration 34, loss = 0.29344805\n",
            "Iteration 35, loss = 0.28258742\n",
            "Iteration 36, loss = 0.27194521\n",
            "Iteration 37, loss = 0.26160448\n",
            "Iteration 38, loss = 0.25149061\n",
            "Iteration 39, loss = 0.24144481\n",
            "Iteration 40, loss = 0.23163347\n",
            "Iteration 41, loss = 0.22221893\n",
            "Iteration 42, loss = 0.21310592\n",
            "Iteration 43, loss = 0.20421295\n",
            "Iteration 44, loss = 0.19563951\n",
            "Iteration 45, loss = 0.18749616\n",
            "Iteration 46, loss = 0.17951851\n",
            "Iteration 47, loss = 0.17186851\n",
            "Iteration 48, loss = 0.16453800\n",
            "Iteration 49, loss = 0.15755836\n",
            "Iteration 50, loss = 0.15068245\n",
            "Iteration 51, loss = 0.14415665\n",
            "Iteration 52, loss = 0.13798047\n",
            "Iteration 53, loss = 0.13204486\n",
            "Iteration 54, loss = 0.12635011\n",
            "Iteration 55, loss = 0.12086405\n",
            "Iteration 56, loss = 0.11570954\n",
            "Iteration 57, loss = 0.11077670\n",
            "Iteration 58, loss = 0.10619625\n",
            "Iteration 59, loss = 0.10169436\n",
            "Iteration 60, loss = 0.09739457\n",
            "Iteration 61, loss = 0.09326081\n",
            "Iteration 62, loss = 0.08941382\n",
            "Iteration 63, loss = 0.08568981\n",
            "Iteration 64, loss = 0.08214725\n",
            "Iteration 65, loss = 0.07867807\n",
            "Iteration 66, loss = 0.07538958\n",
            "Iteration 67, loss = 0.07226252\n",
            "Iteration 68, loss = 0.06926039\n",
            "Iteration 69, loss = 0.06637199\n",
            "Iteration 70, loss = 0.06369846\n",
            "Iteration 71, loss = 0.06108831\n",
            "Iteration 72, loss = 0.05862854\n",
            "Iteration 73, loss = 0.05638133\n",
            "Iteration 74, loss = 0.05413135\n",
            "Iteration 75, loss = 0.05212795\n",
            "Iteration 76, loss = 0.05015650\n",
            "Iteration 77, loss = 0.04830513\n",
            "Iteration 78, loss = 0.04653950\n",
            "Iteration 79, loss = 0.04485132\n",
            "Iteration 80, loss = 0.04327206\n",
            "Iteration 81, loss = 0.04176420\n",
            "Iteration 82, loss = 0.04034354\n",
            "Iteration 83, loss = 0.03896275\n",
            "Iteration 84, loss = 0.03768537\n",
            "Iteration 85, loss = 0.03644598\n",
            "Iteration 86, loss = 0.03530528\n",
            "Iteration 87, loss = 0.03416612\n",
            "Iteration 88, loss = 0.03313314\n",
            "Iteration 89, loss = 0.03209321\n",
            "Iteration 90, loss = 0.03113948\n",
            "Iteration 91, loss = 0.03023095\n",
            "Iteration 92, loss = 0.02934025\n",
            "Iteration 93, loss = 0.02850286\n",
            "Iteration 94, loss = 0.02772152\n",
            "Iteration 95, loss = 0.02696296\n",
            "Iteration 96, loss = 0.02622905\n",
            "Iteration 97, loss = 0.02553784\n",
            "Iteration 98, loss = 0.02488294\n",
            "Iteration 99, loss = 0.02425582\n",
            "Iteration 100, loss = 0.02363821\n",
            "Iteration 101, loss = 0.02305614\n",
            "Iteration 102, loss = 0.02248145\n",
            "Iteration 103, loss = 0.02193489\n",
            "Iteration 104, loss = 0.02141095\n",
            "Iteration 105, loss = 0.02090239\n",
            "Iteration 106, loss = 0.02041724\n",
            "Iteration 107, loss = 0.01993835\n",
            "Iteration 108, loss = 0.01948628\n",
            "Iteration 109, loss = 0.01903033\n",
            "Iteration 110, loss = 0.01861135\n",
            "Iteration 111, loss = 0.01819365\n",
            "Iteration 112, loss = 0.01779370\n",
            "Iteration 113, loss = 0.01738317\n",
            "Iteration 114, loss = 0.01701618\n",
            "Iteration 115, loss = 0.01664041\n",
            "Iteration 116, loss = 0.01629283\n",
            "Iteration 117, loss = 0.01595611\n",
            "Iteration 118, loss = 0.01560887\n",
            "Iteration 119, loss = 0.01528556\n",
            "Iteration 120, loss = 0.01497947\n",
            "Iteration 121, loss = 0.01467759\n",
            "Iteration 122, loss = 0.01438683\n",
            "Iteration 123, loss = 0.01409628\n",
            "Iteration 124, loss = 0.01382177\n",
            "Iteration 125, loss = 0.01355146\n",
            "Iteration 126, loss = 0.01327512\n",
            "Iteration 127, loss = 0.01302669\n",
            "Iteration 128, loss = 0.01278228\n",
            "Iteration 129, loss = 0.01254883\n",
            "Iteration 130, loss = 0.01230360\n",
            "Iteration 131, loss = 0.01208232\n",
            "Iteration 132, loss = 0.01186076\n",
            "Iteration 133, loss = 0.01164077\n",
            "Iteration 134, loss = 0.01142972\n",
            "Iteration 135, loss = 0.01122147\n",
            "Iteration 136, loss = 0.01102673\n",
            "Iteration 137, loss = 0.01084259\n",
            "Iteration 138, loss = 0.01064189\n",
            "Iteration 139, loss = 0.01045796\n",
            "Iteration 140, loss = 0.01027978\n",
            "Iteration 141, loss = 0.01011312\n",
            "Iteration 142, loss = 0.00994002\n",
            "Iteration 143, loss = 0.00977477\n",
            "Iteration 144, loss = 0.00960083\n",
            "Iteration 145, loss = 0.00945419\n",
            "Iteration 146, loss = 0.00929840\n",
            "Iteration 147, loss = 0.00913596\n",
            "Iteration 148, loss = 0.00900100\n",
            "Iteration 149, loss = 0.00885201\n",
            "Iteration 150, loss = 0.00870702\n",
            "Iteration 151, loss = 0.00857290\n",
            "Iteration 152, loss = 0.00843541\n",
            "Iteration 153, loss = 0.00831279\n",
            "Iteration 154, loss = 0.00818253\n",
            "Iteration 155, loss = 0.00805588\n",
            "Iteration 156, loss = 0.00793196\n",
            "Iteration 157, loss = 0.00781151\n",
            "Iteration 158, loss = 0.00768949\n",
            "Iteration 159, loss = 0.00758096\n",
            "Iteration 160, loss = 0.00746135\n",
            "Iteration 161, loss = 0.00735988\n",
            "Iteration 162, loss = 0.00724727\n",
            "Iteration 163, loss = 0.00714731\n",
            "Iteration 164, loss = 0.00704711\n",
            "Iteration 165, loss = 0.00693901\n",
            "Iteration 166, loss = 0.00685168\n",
            "Iteration 167, loss = 0.00674548\n",
            "Iteration 168, loss = 0.00666083\n",
            "Iteration 169, loss = 0.00656678\n",
            "Iteration 170, loss = 0.00647827\n",
            "Iteration 171, loss = 0.00638905\n",
            "Iteration 172, loss = 0.00630451\n",
            "Iteration 173, loss = 0.00621960\n",
            "Iteration 174, loss = 0.00613126\n",
            "Iteration 175, loss = 0.00605845\n",
            "Iteration 176, loss = 0.00597328\n",
            "Iteration 177, loss = 0.00589490\n",
            "Iteration 178, loss = 0.00581962\n",
            "Iteration 179, loss = 0.00574464\n",
            "Iteration 180, loss = 0.00567427\n",
            "Iteration 181, loss = 0.00559352\n",
            "Iteration 182, loss = 0.00552747\n",
            "Iteration 183, loss = 0.00545019\n",
            "Iteration 184, loss = 0.00537863\n",
            "Iteration 185, loss = 0.00531587\n",
            "Iteration 186, loss = 0.00524300\n",
            "Iteration 187, loss = 0.00517574\n",
            "Iteration 188, loss = 0.00510986\n",
            "Iteration 189, loss = 0.00504465\n",
            "Iteration 190, loss = 0.00498158\n",
            "Iteration 191, loss = 0.00492512\n",
            "Iteration 192, loss = 0.00485789\n",
            "Iteration 193, loss = 0.00480506\n",
            "Iteration 194, loss = 0.00474467\n",
            "Iteration 195, loss = 0.00468253\n",
            "Iteration 196, loss = 0.00461796\n",
            "Iteration 197, loss = 0.00456181\n",
            "Iteration 198, loss = 0.00450227\n",
            "Iteration 199, loss = 0.00444442\n",
            "Iteration 200, loss = 0.00438240\n",
            "Iteration 201, loss = 0.00433078\n",
            "Iteration 202, loss = 0.00427235\n",
            "Iteration 203, loss = 0.00422195\n",
            "Iteration 204, loss = 0.00416847\n",
            "Iteration 205, loss = 0.00411014\n",
            "Iteration 206, loss = 0.00405976\n",
            "Iteration 207, loss = 0.00401257\n",
            "Iteration 208, loss = 0.00395780\n",
            "Iteration 209, loss = 0.00390777\n",
            "Iteration 210, loss = 0.00385996\n",
            "Iteration 211, loss = 0.00381621\n",
            "Iteration 212, loss = 0.00376371\n",
            "Iteration 213, loss = 0.00372216\n",
            "Iteration 214, loss = 0.00367567\n",
            "Iteration 215, loss = 0.00363160\n",
            "Iteration 216, loss = 0.00358742\n",
            "Iteration 217, loss = 0.00354333\n",
            "Iteration 218, loss = 0.00350192\n",
            "Iteration 219, loss = 0.00346571\n",
            "Iteration 220, loss = 0.00342743\n",
            "Iteration 221, loss = 0.00338979\n",
            "Iteration 222, loss = 0.00335145\n",
            "Iteration 223, loss = 0.00331393\n",
            "Iteration 224, loss = 0.00327891\n",
            "Iteration 225, loss = 0.00324344\n",
            "Iteration 226, loss = 0.00321240\n",
            "Iteration 227, loss = 0.00317445\n",
            "Iteration 228, loss = 0.00314463\n",
            "Iteration 229, loss = 0.00311142\n",
            "Iteration 230, loss = 0.00307912\n",
            "Iteration 231, loss = 0.00304725\n",
            "Iteration 232, loss = 0.00301530\n",
            "Iteration 233, loss = 0.00298330\n",
            "Iteration 234, loss = 0.00295299\n",
            "Iteration 235, loss = 0.00292618\n",
            "Iteration 236, loss = 0.00289402\n",
            "Iteration 237, loss = 0.00286827\n",
            "Iteration 238, loss = 0.00283939\n",
            "Iteration 239, loss = 0.00281112\n",
            "Iteration 240, loss = 0.00278320\n",
            "Iteration 241, loss = 0.00275634\n",
            "Iteration 242, loss = 0.00272747\n",
            "Iteration 243, loss = 0.00270325\n",
            "Iteration 244, loss = 0.00267787\n",
            "Iteration 245, loss = 0.00265208\n",
            "Iteration 246, loss = 0.00262692\n",
            "Iteration 247, loss = 0.00260077\n",
            "Iteration 248, loss = 0.00257872\n",
            "Iteration 249, loss = 0.00255403\n",
            "Iteration 250, loss = 0.00253057\n",
            "Iteration 251, loss = 0.00250643\n",
            "Iteration 252, loss = 0.00248411\n",
            "Iteration 253, loss = 0.00246134\n",
            "Iteration 254, loss = 0.00243876\n",
            "Iteration 255, loss = 0.00241573\n",
            "Iteration 256, loss = 0.00239573\n",
            "Iteration 257, loss = 0.00237202\n",
            "Iteration 258, loss = 0.00235281\n",
            "Iteration 259, loss = 0.00233154\n",
            "Iteration 260, loss = 0.00230859\n",
            "Iteration 261, loss = 0.00229037\n",
            "Iteration 262, loss = 0.00227024\n",
            "Iteration 263, loss = 0.00224966\n",
            "Iteration 264, loss = 0.00222831\n",
            "Iteration 265, loss = 0.00220996\n",
            "Iteration 266, loss = 0.00219062\n",
            "Iteration 267, loss = 0.00217048\n",
            "Iteration 268, loss = 0.00215308\n",
            "Iteration 269, loss = 0.00213468\n",
            "Iteration 270, loss = 0.00211607\n",
            "Iteration 271, loss = 0.00209619\n",
            "Iteration 272, loss = 0.00208005\n",
            "Iteration 273, loss = 0.00206204\n",
            "Iteration 274, loss = 0.00204501\n",
            "Iteration 275, loss = 0.00202718\n",
            "Iteration 276, loss = 0.00200937\n",
            "Iteration 277, loss = 0.00199376\n",
            "Iteration 278, loss = 0.00197683\n",
            "Iteration 279, loss = 0.00196018\n",
            "Iteration 280, loss = 0.00194432\n",
            "Iteration 281, loss = 0.00192819\n",
            "Iteration 282, loss = 0.00191153\n",
            "Iteration 283, loss = 0.00189545\n",
            "Iteration 284, loss = 0.00188161\n",
            "Iteration 285, loss = 0.00186560\n",
            "Iteration 286, loss = 0.00184933\n",
            "Iteration 287, loss = 0.00183433\n",
            "Iteration 288, loss = 0.00181915\n",
            "Iteration 289, loss = 0.00180560\n",
            "Iteration 290, loss = 0.00179068\n",
            "Iteration 291, loss = 0.00177592\n",
            "Iteration 292, loss = 0.00176056\n",
            "Iteration 293, loss = 0.00174764\n",
            "Iteration 294, loss = 0.00173212\n",
            "Iteration 295, loss = 0.00172025\n",
            "Iteration 296, loss = 0.00170631\n",
            "Iteration 297, loss = 0.00169145\n",
            "Iteration 298, loss = 0.00167965\n",
            "Iteration 299, loss = 0.00166500\n",
            "Iteration 300, loss = 0.00165348\n",
            "Iteration 301, loss = 0.00163950\n",
            "Iteration 302, loss = 0.00162646\n",
            "Iteration 303, loss = 0.00161384\n",
            "Iteration 304, loss = 0.00160076\n",
            "Iteration 305, loss = 0.00158963\n",
            "Iteration 306, loss = 0.00157575\n",
            "Iteration 307, loss = 0.00156445\n",
            "Iteration 308, loss = 0.00155090\n",
            "Iteration 309, loss = 0.00153966\n",
            "Iteration 310, loss = 0.00152752\n",
            "Iteration 311, loss = 0.00151530\n",
            "Iteration 312, loss = 0.00150388\n",
            "Iteration 313, loss = 0.00149257\n",
            "Iteration 314, loss = 0.00148105\n",
            "Iteration 315, loss = 0.00146979\n",
            "Iteration 316, loss = 0.00145800\n",
            "Iteration 317, loss = 0.00144700\n",
            "Iteration 318, loss = 0.00143742\n",
            "Iteration 319, loss = 0.00142544\n",
            "Iteration 320, loss = 0.00141542\n",
            "Iteration 321, loss = 0.00140416\n",
            "Iteration 322, loss = 0.00139377\n",
            "Iteration 323, loss = 0.00138425\n",
            "Iteration 324, loss = 0.00137394\n",
            "Iteration 325, loss = 0.00136347\n",
            "Iteration 326, loss = 0.00135276\n",
            "Iteration 327, loss = 0.00134386\n",
            "Iteration 328, loss = 0.00133363\n",
            "Iteration 329, loss = 0.00132326\n",
            "Iteration 330, loss = 0.00131466\n",
            "Iteration 331, loss = 0.00130420\n",
            "Iteration 332, loss = 0.00129563\n",
            "Iteration 333, loss = 0.00128646\n",
            "Iteration 334, loss = 0.00127720\n",
            "Iteration 335, loss = 0.00126825\n",
            "Iteration 336, loss = 0.00125825\n",
            "Iteration 337, loss = 0.00125067\n",
            "Iteration 338, loss = 0.00124166\n",
            "Iteration 339, loss = 0.00123229\n",
            "Iteration 340, loss = 0.00122467\n",
            "Iteration 341, loss = 0.00121608\n",
            "Iteration 342, loss = 0.00120757\n",
            "Iteration 343, loss = 0.00119940\n",
            "Iteration 344, loss = 0.00119073\n",
            "Iteration 345, loss = 0.00118345\n",
            "Iteration 346, loss = 0.00117484\n",
            "Iteration 347, loss = 0.00116735\n",
            "Training loss did not improve more than tol=0.000010 for 10 consecutive epochs. Stopping.\n"
          ]
        },
        {
          "data": {
            "text/html": [
              "<style>#sk-container-id-3 {color: black;}#sk-container-id-3 pre{padding: 0;}#sk-container-id-3 div.sk-toggleable {background-color: white;}#sk-container-id-3 label.sk-toggleable__label {cursor: pointer;display: block;width: 100%;margin-bottom: 0;padding: 0.3em;box-sizing: border-box;text-align: center;}#sk-container-id-3 label.sk-toggleable__label-arrow:before {content: \"▸\";float: left;margin-right: 0.25em;color: #696969;}#sk-container-id-3 label.sk-toggleable__label-arrow:hover:before {color: black;}#sk-container-id-3 div.sk-estimator:hover label.sk-toggleable__label-arrow:before {color: black;}#sk-container-id-3 div.sk-toggleable__content {max-height: 0;max-width: 0;overflow: hidden;text-align: left;background-color: #f0f8ff;}#sk-container-id-3 div.sk-toggleable__content pre {margin: 0.2em;color: black;border-radius: 0.25em;background-color: #f0f8ff;}#sk-container-id-3 input.sk-toggleable__control:checked~div.sk-toggleable__content {max-height: 200px;max-width: 100%;overflow: auto;}#sk-container-id-3 input.sk-toggleable__control:checked~label.sk-toggleable__label-arrow:before {content: \"▾\";}#sk-container-id-3 div.sk-estimator input.sk-toggleable__control:checked~label.sk-toggleable__label {background-color: #d4ebff;}#sk-container-id-3 div.sk-label input.sk-toggleable__control:checked~label.sk-toggleable__label {background-color: #d4ebff;}#sk-container-id-3 input.sk-hidden--visually {border: 0;clip: rect(1px 1px 1px 1px);clip: rect(1px, 1px, 1px, 1px);height: 1px;margin: -1px;overflow: hidden;padding: 0;position: absolute;width: 1px;}#sk-container-id-3 div.sk-estimator {font-family: monospace;background-color: #f0f8ff;border: 1px dotted black;border-radius: 0.25em;box-sizing: border-box;margin-bottom: 0.5em;}#sk-container-id-3 div.sk-estimator:hover {background-color: #d4ebff;}#sk-container-id-3 div.sk-parallel-item::after {content: \"\";width: 100%;border-bottom: 1px solid gray;flex-grow: 1;}#sk-container-id-3 div.sk-label:hover label.sk-toggleable__label {background-color: #d4ebff;}#sk-container-id-3 div.sk-serial::before {content: \"\";position: absolute;border-left: 1px solid gray;box-sizing: border-box;top: 0;bottom: 0;left: 50%;z-index: 0;}#sk-container-id-3 div.sk-serial {display: flex;flex-direction: column;align-items: center;background-color: white;padding-right: 0.2em;padding-left: 0.2em;position: relative;}#sk-container-id-3 div.sk-item {position: relative;z-index: 1;}#sk-container-id-3 div.sk-parallel {display: flex;align-items: stretch;justify-content: center;background-color: white;position: relative;}#sk-container-id-3 div.sk-item::before, #sk-container-id-3 div.sk-parallel-item::before {content: \"\";position: absolute;border-left: 1px solid gray;box-sizing: border-box;top: 0;bottom: 0;left: 50%;z-index: -1;}#sk-container-id-3 div.sk-parallel-item {display: flex;flex-direction: column;z-index: 1;position: relative;background-color: white;}#sk-container-id-3 div.sk-parallel-item:first-child::after {align-self: flex-end;width: 50%;}#sk-container-id-3 div.sk-parallel-item:last-child::after {align-self: flex-start;width: 50%;}#sk-container-id-3 div.sk-parallel-item:only-child::after {width: 0;}#sk-container-id-3 div.sk-dashed-wrapped {border: 1px dashed gray;margin: 0 0.4em 0.5em 0.4em;box-sizing: border-box;padding-bottom: 0.4em;background-color: white;}#sk-container-id-3 div.sk-label label {font-family: monospace;font-weight: bold;display: inline-block;line-height: 1.2em;}#sk-container-id-3 div.sk-label-container {text-align: center;}#sk-container-id-3 div.sk-container {/* jupyter's `normalize.less` sets `[hidden] { display: none; }` but bootstrap.min.css set `[hidden] { display: none !important; }` so we also need the `!important` here to be able to override the default hidden behavior on the sphinx rendered scikit-learn.org. See: https://github.com/scikit-learn/scikit-learn/issues/21755 */display: inline-block !important;position: relative;}#sk-container-id-3 div.sk-text-repr-fallback {display: none;}</style><div id=\"sk-container-id-3\" class=\"sk-top-container\"><div class=\"sk-text-repr-fallback\"><pre>MLPClassifier(hidden_layer_sizes=(20, 20), max_iter=1500, tol=1e-05,\n",
              "              verbose=True)</pre><b>In a Jupyter environment, please rerun this cell to show the HTML representation or trust the notebook. <br />On GitHub, the HTML representation is unable to render, please try loading this page with nbviewer.org.</b></div><div class=\"sk-container\" hidden><div class=\"sk-item\"><div class=\"sk-estimator sk-toggleable\"><input class=\"sk-toggleable__control sk-hidden--visually\" id=\"sk-estimator-id-3\" type=\"checkbox\" checked><label for=\"sk-estimator-id-3\" class=\"sk-toggleable__label sk-toggleable__label-arrow\">MLPClassifier</label><div class=\"sk-toggleable__content\"><pre>MLPClassifier(hidden_layer_sizes=(20, 20), max_iter=1500, tol=1e-05,\n",
              "              verbose=True)</pre></div></div></div></div></div>"
            ],
            "text/plain": [
              "MLPClassifier(hidden_layer_sizes=(20, 20), max_iter=1500, tol=1e-05,\n",
              "              verbose=True)"
            ]
          },
          "execution_count": 70,
          "metadata": {},
          "output_type": "execute_result"
        }
      ],
      "source": [
        "rede_neural_robocup = MLPClassifier(max_iter=1500, verbose=True, tol=0.0000100,\n",
        "                                   solver = 'adam', activation = 'relu',\n",
        "                                   hidden_layer_sizes = (20,20))\n",
        "rede_neural_robocup.fit(X_robocup_treinamento, y_robocup_treinamento)"
      ]
    },
    {
      "cell_type": "code",
      "execution_count": 71,
      "metadata": {
        "colab": {
          "base_uri": "https://localhost:8080/"
        },
        "id": "Bmn64K7vqzx1",
        "outputId": "9edf4fcf-fa39-47b7-fc94-2e9b369cf329"
      },
      "outputs": [
        {
          "data": {
            "text/plain": [
              "array([0, 0, 0, 0, 0, 1, 0, 0, 0, 0, 1, 0, 0, 1, 0, 0, 0, 0, 0, 0, 1, 0,\n",
              "       1, 0, 0, 0, 0, 1, 1, 0, 0, 1, 0, 0, 0, 0, 1, 1])"
            ]
          },
          "execution_count": 71,
          "metadata": {},
          "output_type": "execute_result"
        }
      ],
      "source": [
        "previsoes = rede_neural_robocup.predict(X_robocup_teste)\n",
        "previsoes"
      ]
    },
    {
      "cell_type": "code",
      "execution_count": 72,
      "metadata": {
        "colab": {
          "base_uri": "https://localhost:8080/"
        },
        "id": "AzFRj9riq9gc",
        "outputId": "17ca568a-a7f7-404d-eb33-5e66b51b4705"
      },
      "outputs": [
        {
          "data": {
            "text/plain": [
              "array([0, 0, 0, 0, 0, 1, 0, 0, 0, 0, 1, 0, 0, 1, 0, 0, 0, 0, 0, 0, 1, 0,\n",
              "       1, 0, 0, 0, 0, 1, 1, 0, 0, 1, 0, 0, 0, 0, 1, 1])"
            ]
          },
          "execution_count": 72,
          "metadata": {},
          "output_type": "execute_result"
        }
      ],
      "source": [
        "y_robocup_teste"
      ]
    },
    {
      "cell_type": "code",
      "execution_count": 73,
      "metadata": {
        "colab": {
          "base_uri": "https://localhost:8080/"
        },
        "id": "4vRZgbSerBNW",
        "outputId": "2d762587-7756-4f20-f6bf-f630bc77d3e4"
      },
      "outputs": [
        {
          "data": {
            "text/plain": [
              "1.0"
            ]
          },
          "execution_count": 73,
          "metadata": {},
          "output_type": "execute_result"
        }
      ],
      "source": [
        "accuracy_score(y_robocup_teste, previsoes)"
      ]
    },
    {
      "cell_type": "code",
      "execution_count": 74,
      "metadata": {
        "colab": {
          "base_uri": "https://localhost:8080/",
          "height": 496
        },
        "id": "XwtALw-Mronz",
        "outputId": "b04f2f88-fd28-40c3-c920-0e310158469a"
      },
      "outputs": [
        {
          "data": {
            "text/plain": [
              "1.0"
            ]
          },
          "execution_count": 74,
          "metadata": {},
          "output_type": "execute_result"
        },
        {
          "data": {
            "image/png": "[encoded data removed]",
            "text/plain": [
              "<Figure size 800x550 with 1 Axes>"
            ]
          },
          "metadata": {},
          "output_type": "display_data"
        }
      ],
      "source": [
        "cm = ConfusionMatrix(rede_neural_robocup)\n",
        "cm.fit(X_robocup_treinamento, y_robocup_treinamento)\n",
        "cm.score(X_robocup_teste, y_robocup_teste)"
      ]
    },
    {
      "cell_type": "code",
      "execution_count": 75,
      "metadata": {
        "colab": {
          "base_uri": "https://localhost:8080/"
        },
        "id": "rWj1N8ANsYrI",
        "outputId": "eb5acd76-6d76-4492-cdd5-309952fe24aa"
      },
      "outputs": [
        {
          "name": "stdout",
          "output_type": "stream",
          "text": [
            "              precision    recall  f1-score   support\n",
            "\n",
            "           0       1.00      1.00      1.00        28\n",
            "           1       1.00      1.00      1.00        10\n",
            "\n",
            "    accuracy                           1.00        38\n",
            "   macro avg       1.00      1.00      1.00        38\n",
            "weighted avg       1.00      1.00      1.00        38\n",
            "\n"
          ]
        }
      ],
      "source": [
        "print(classification_report(y_robocup_teste, previsoes))"
      ]
    }
  ],
  "metadata": {
    "colab": {
      "collapsed_sections": [
        "x23iAAKsQ-iU"
      ],
      "provenance": []
    },
    "kernelspec": {
      "display_name": "Python 3",
      "name": "python3"
    },
    "language_info": {
      "codemirror_mode": {
        "name": "ipython",
        "version": 3
      },
      "file_extension": ".py",
      "mimetype": "text/x-python",
      "name": "python",
      "nbconvert_exporter": "python",
      "pygments_lexer": "ipython3",
      "version": "3.11.5"
    }
  },
  "nbformat": 4,
  "nbformat_minor": 0
}
